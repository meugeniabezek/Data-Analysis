{
 "cells": [
  {
   "cell_type": "markdown",
   "id": "8c05fade",
   "metadata": {},
   "source": [
    "<p style=\"margin: 0; text-align:right;\">2022-2 · Máster universitario en Ciencia de datos (Data science)</p>\n",
    "<p style=\"margin: 0; text-align:right; padding-button: 100px;\">Estudios de Informática, Multimedia y Telecomunicación</p>\n",
    "\n",
    "\n",
    "### Transformers\n",
    "\n",
    "En esta práctica introduciremos el modelo de aprendizaje profundo basado en _transformer_ y lo aplicaremos en dos problemas relacionados con el procesamiento de lenguage natural. \n"
   ]
  },
  {
   "cell_type": "markdown",
   "id": "393b11e9",
   "metadata": {},
   "source": [
    "# 0. Introducción\n",
    "Esta PEC constará de dos ejercicios independientes: \n",
    "- En el primero se aplicarán los modelos de transformers a un problema de análisis de sentimiento en textos cortos de twitter,\n",
    "- En el segundo ejercicio se aplicará este tipo de algorítmos para entrenar un traductor de inglés a francés.\n",
    "\n",
    "La PEC se puede ejecutar en GPU (opción preferente) o en CPU. Como referencia, el apartado computacionalmente más costoso puede tardar alrededor un par de horas en un computador moderno con un chip i7 reciente. En cualquier caso, estos tiempos meramente orientativos y dependerán de la implementación y del hardware disponible."
   ]
  },
  {
   "cell_type": "markdown",
   "id": "5dedca32",
   "metadata": {},
   "source": [
    "# 1. Carga y preprocesado de la base de datos Sentiment 140\n",
    "\n",
    "La base de datos [Sentiment 140](https://www-cs.stanford.edu/people/alecmgo/papers/TwitterDistantSupervision09.pdf) se compone de más de 1 millón de tweets que se han clasificado en función de si el mensaje es negativo (0) o positivo (4). El dataset se puede descargar desde la página de kaggle dedicada a ello:\n",
    "- https://www.kaggle.com/datasets/kazanova/sentiment140\n",
    "\n",
    "El objetivo de este ejercicio es entrenar un modelo que, dada una frase cualquiera, sea capaz de predecir si el mensaje es negativo o positivo. Las etapas del ejercicio serán las siguientes:\n",
    "* Carga, preprocesado, exploración y visualización de los datos. \n",
    "* Entrenamiento de un modelo tradicional basado en una RNN o LSTM.\n",
    "* Entrenamiento de una red que incluya Transformers.\n",
    "* Optimización automática de los hyperparámetros del Transformer.\n",
    "* Escalado de la arquitectura y mejora de los resultados. \n"
   ]
  },
  {
   "cell_type": "code",
   "execution_count": 2,
   "id": "854d8092",
   "metadata": {
    "execution": {
     "iopub.execute_input": "2023-05-21T16:56:30.591776Z",
     "iopub.status.busy": "2023-05-21T16:56:30.588777Z",
     "iopub.status.idle": "2023-05-21T16:56:30.602297Z",
     "shell.execute_reply": "2023-05-21T16:56:30.600907Z",
     "shell.execute_reply.started": "2023-05-21T16:56:30.591725Z"
    }
   },
   "outputs": [],
   "source": [
    "import pandas as pd\n",
    "import numpy as np\n",
    "from keras.preprocessing.text import Tokenizer\n",
    "import tensorflow as tf\n",
    "from tensorflow import keras\n",
    "from tensorflow.keras import layers\n",
    "\n",
    "from tensorflow.keras.models import Sequential\n",
    "from tensorflow.keras.layers import Dense, SimpleRNN, TextVectorization\n",
    "\n",
    "import matplotlib.pyplot as plt\n",
    "from tensorflow.keras.callbacks import EarlyStopping, ReduceLROnPlateau, Callback\n",
    "from IPython.display import clear_output\n",
    "\n",
    "import optuna\n",
    "import pathlib\n",
    "import random\n",
    "import string\n",
    "import re\n",
    "\n",
    "from sklearn.model_selection import train_test_split"
   ]
  },
  {
   "cell_type": "markdown",
   "id": "c08d2d0a",
   "metadata": {},
   "source": [
    "## 1.1. Carga y visualizacion de los datos\n",
    "\n",
    "<div style=\"background-color: #EDF7FF; border-color: #7C9DBF; border-left: 5px solid #7C9DBF; padding: 0.5em;\">\n",
    "Descarga la base de datos, cargalá con Python, aleatoriza el orden de las filas del dataset y realiza un histograma del número de tweets positivos y tweets negativos.</p>"
   ]
  },
  {
   "cell_type": "code",
   "execution_count": 2,
   "id": "71498dba",
   "metadata": {
    "execution": {
     "iopub.execute_input": "2023-05-16T18:29:42.170319Z",
     "iopub.status.busy": "2023-05-16T18:29:42.169433Z",
     "iopub.status.idle": "2023-05-16T18:29:48.422188Z",
     "shell.execute_reply": "2023-05-16T18:29:48.421055Z",
     "shell.execute_reply.started": "2023-05-16T18:29:42.170284Z"
    }
   },
   "outputs": [],
   "source": [
    "column_names = ['target','ids','date','flag','user','text']\n",
    "df = pd.read_csv('/kaggle/input/dataset/data.csv', header=None, names=column_names, encoding='ISO-8859-1')"
   ]
  },
  {
   "cell_type": "code",
   "execution_count": 3,
   "id": "db202d47",
   "metadata": {
    "execution": {
     "iopub.execute_input": "2023-05-16T18:29:48.424052Z",
     "iopub.status.busy": "2023-05-16T18:29:48.423710Z",
     "iopub.status.idle": "2023-05-16T18:29:49.318100Z",
     "shell.execute_reply": "2023-05-16T18:29:49.317229Z",
     "shell.execute_reply.started": "2023-05-16T18:29:48.424018Z"
    }
   },
   "outputs": [
    {
     "data": {
      "text/html": [
       "<div>\n",
       "<style scoped>\n",
       "    .dataframe tbody tr th:only-of-type {\n",
       "        vertical-align: middle;\n",
       "    }\n",
       "\n",
       "    .dataframe tbody tr th {\n",
       "        vertical-align: top;\n",
       "    }\n",
       "\n",
       "    .dataframe thead th {\n",
       "        text-align: right;\n",
       "    }\n",
       "</style>\n",
       "<table border=\"1\" class=\"dataframe\">\n",
       "  <thead>\n",
       "    <tr style=\"text-align: right;\">\n",
       "      <th></th>\n",
       "      <th>target</th>\n",
       "      <th>ids</th>\n",
       "      <th>date</th>\n",
       "      <th>flag</th>\n",
       "      <th>user</th>\n",
       "      <th>text</th>\n",
       "    </tr>\n",
       "  </thead>\n",
       "  <tbody>\n",
       "    <tr>\n",
       "      <th>0</th>\n",
       "      <td>0</td>\n",
       "      <td>2212148486</td>\n",
       "      <td>Wed Jun 17 13:44:08 PDT 2009</td>\n",
       "      <td>NO_QUERY</td>\n",
       "      <td>lmnovo</td>\n",
       "      <td>Alright. Seriously Tweetdeck...what is with Er...</td>\n",
       "    </tr>\n",
       "    <tr>\n",
       "      <th>1</th>\n",
       "      <td>0</td>\n",
       "      <td>2238656905</td>\n",
       "      <td>Fri Jun 19 07:34:14 PDT 2009</td>\n",
       "      <td>NO_QUERY</td>\n",
       "      <td>_1981_</td>\n",
       "      <td>Ran into my ex, damn, she's still beautiful.</td>\n",
       "    </tr>\n",
       "    <tr>\n",
       "      <th>2</th>\n",
       "      <td>0</td>\n",
       "      <td>2254408975</td>\n",
       "      <td>Sat Jun 20 09:42:13 PDT 2009</td>\n",
       "      <td>NO_QUERY</td>\n",
       "      <td>ReverbRoyalty</td>\n",
       "      <td>@brandigoldman I'll share the details over a b...</td>\n",
       "    </tr>\n",
       "    <tr>\n",
       "      <th>3</th>\n",
       "      <td>4</td>\n",
       "      <td>2181003364</td>\n",
       "      <td>Mon Jun 15 11:14:04 PDT 2009</td>\n",
       "      <td>NO_QUERY</td>\n",
       "      <td>inuyaki</td>\n",
       "      <td>@btn Westphal is sloppy seconds. Rambis turned...</td>\n",
       "    </tr>\n",
       "    <tr>\n",
       "      <th>4</th>\n",
       "      <td>0</td>\n",
       "      <td>1932813043</td>\n",
       "      <td>Tue May 26 22:16:44 PDT 2009</td>\n",
       "      <td>NO_QUERY</td>\n",
       "      <td>RoyalAntsJosh</td>\n",
       "      <td>@rickgalan so you'll be out of town on saturda...</td>\n",
       "    </tr>\n",
       "  </tbody>\n",
       "</table>\n",
       "</div>"
      ],
      "text/plain": [
       "   target         ids                          date      flag           user  \\\n",
       "0       0  2212148486  Wed Jun 17 13:44:08 PDT 2009  NO_QUERY         lmnovo   \n",
       "1       0  2238656905  Fri Jun 19 07:34:14 PDT 2009  NO_QUERY         _1981_   \n",
       "2       0  2254408975  Sat Jun 20 09:42:13 PDT 2009  NO_QUERY  ReverbRoyalty   \n",
       "3       4  2181003364  Mon Jun 15 11:14:04 PDT 2009  NO_QUERY        inuyaki   \n",
       "4       0  1932813043  Tue May 26 22:16:44 PDT 2009  NO_QUERY  RoyalAntsJosh   \n",
       "\n",
       "                                                text  \n",
       "0  Alright. Seriously Tweetdeck...what is with Er...  \n",
       "1     Ran into my ex, damn, she's still beautiful.    \n",
       "2  @brandigoldman I'll share the details over a b...  \n",
       "3  @btn Westphal is sloppy seconds. Rambis turned...  \n",
       "4  @rickgalan so you'll be out of town on saturda...  "
      ]
     },
     "execution_count": 3,
     "metadata": {},
     "output_type": "execute_result"
    }
   ],
   "source": [
    "df = df.sample(frac=1).reset_index(drop=True) #aleatoriza el orden de las filas\n",
    "df.head()"
   ]
  },
  {
   "cell_type": "code",
   "execution_count": 4,
   "id": "0cbd1f2f",
   "metadata": {
    "execution": {
     "iopub.execute_input": "2023-05-16T18:29:49.321354Z",
     "iopub.status.busy": "2023-05-16T18:29:49.320745Z",
     "iopub.status.idle": "2023-05-16T18:29:49.637321Z",
     "shell.execute_reply": "2023-05-16T18:29:49.636379Z",
     "shell.execute_reply.started": "2023-05-16T18:29:49.321318Z"
    }
   },
   "outputs": [
    {
     "data": {
      "image/png": "[encoded data removed]",
      "text/plain": [
       "<Figure size 640x480 with 1 Axes>"
      ]
     },
     "metadata": {},
     "output_type": "display_data"
    }
   ],
   "source": [
    "# Count the number of positive and negative texts\n",
    "counts = df['target'].value_counts()\n",
    "\n",
    "# Create histogram\n",
    "fig, ax = plt.subplots()\n",
    "counts.plot(kind='bar', ax=ax)\n",
    "\n",
    "# Set labels and title\n",
    "ax.set_ylabel('Count')\n",
    "ax.set_title('Histograma de tweets')\n",
    "ax.set_xticklabels(['Negative', 'Positive'])\n",
    "ax.tick_params(axis='x', rotation=360)\n",
    "\n",
    "plt.show()"
   ]
  },
  {
   "cell_type": "markdown",
   "id": "93f45b4b",
   "metadata": {},
   "source": [
    "## 1.2. Visualización de los tweets y procesado del texto\n",
    "\n",
    "<div style=\"background-color: #EDF7FF; border-color: #7C9DBF; border-left: 5px solid #7C9DBF; padding: 0.5em;\">\n",
    "Muesta 5 tweets distintos, comprobarás que aparecen símbolos de puntuación, palabras en minúsculas o mayúsculas, etc. Realiza una limpieza y estandarización preliminar de todo el texto y luego cuenta las veces que aparece cada palabra y ordenálas. A la palabra que más veces aparece se le asigna el número 1, la siguiente el 2, etc. Representa en escala logarítmica la frequencia de apareción versus el número asignado.</p>\n",
    "</div>"
   ]
  },
  {
   "cell_type": "code",
   "execution_count": 5,
   "id": "bb88cc0b",
   "metadata": {
    "execution": {
     "iopub.execute_input": "2023-05-16T18:29:49.639146Z",
     "iopub.status.busy": "2023-05-16T18:29:49.638807Z",
     "iopub.status.idle": "2023-05-16T18:29:49.688041Z",
     "shell.execute_reply": "2023-05-16T18:29:49.687068Z",
     "shell.execute_reply.started": "2023-05-16T18:29:49.639113Z"
    }
   },
   "outputs": [
    {
     "name": "stdout",
     "output_type": "stream",
     "text": [
      "Text 1: Previous problem solved!Finally got my itune and ipod synch again   Time to bath and start revising.\n",
      "\n",
      "Text 2: @Miss_Higgs Sains. gave me a Â£10 gift card without question, because my pizza was 'all dough and very little topping' very appreciated \n",
      "\n",
      "Text 3: eating breakfast and drinking coffe - strong coffe! \n",
      "\n",
      "Text 4: @ amanduhwood ... hmmm i don't know how i feel about that ... \n",
      "\n",
      "Text 5: Happy Father's Day to all you dads out there.  Unfortunately, I lost mine when I was a teenager!  \n",
      "\n"
     ]
    }
   ],
   "source": [
    "# Muestra de 5 tweets aleatorios:\n",
    "random_texts = df['text'].sample(n=5, random_state=45)\n",
    "\n",
    "for i, text in enumerate(random_texts):\n",
    "    print(f\"Text {i+1}: {text}\\n\")"
   ]
  },
  {
   "cell_type": "markdown",
   "id": "2f817489",
   "metadata": {},
   "source": [
    "**Limpieza del texto:**"
   ]
  },
  {
   "cell_type": "code",
   "execution_count": 6,
   "id": "7de89912",
   "metadata": {
    "execution": {
     "iopub.execute_input": "2023-05-16T18:29:49.689829Z",
     "iopub.status.busy": "2023-05-16T18:29:49.689484Z",
     "iopub.status.idle": "2023-05-16T18:29:50.688889Z",
     "shell.execute_reply": "2023-05-16T18:29:50.687900Z",
     "shell.execute_reply.started": "2023-05-16T18:29:49.689796Z"
    }
   },
   "outputs": [],
   "source": [
    "#Agrego una nueva columna al dataset que contendra el texto limpio\n",
    "# Convertir a lowercase\n",
    "df['clean_text'] = df['text'].apply(lambda x: x.lower())"
   ]
  },
  {
   "cell_type": "code",
   "execution_count": 7,
   "id": "8e5a6862",
   "metadata": {
    "execution": {
     "iopub.execute_input": "2023-05-16T18:29:50.690808Z",
     "iopub.status.busy": "2023-05-16T18:29:50.690347Z",
     "iopub.status.idle": "2023-05-16T18:29:59.584304Z",
     "shell.execute_reply": "2023-05-16T18:29:59.583315Z",
     "shell.execute_reply.started": "2023-05-16T18:29:50.690774Z"
    }
   },
   "outputs": [],
   "source": [
    "# Eliminacion de signos de puntuacion y caracteres especiales\n",
    "df['clean_text'] = df['clean_text'].apply(lambda x: re.sub(r'[^\\w\\s]', '', x))"
   ]
  },
  {
   "cell_type": "code",
   "execution_count": 8,
   "id": "ee89ce1d",
   "metadata": {
    "execution": {
     "iopub.execute_input": "2023-05-16T18:29:59.586164Z",
     "iopub.status.busy": "2023-05-16T18:29:59.585794Z",
     "iopub.status.idle": "2023-05-16T18:30:06.078542Z",
     "shell.execute_reply": "2023-05-16T18:30:06.077562Z",
     "shell.execute_reply.started": "2023-05-16T18:29:59.586132Z"
    }
   },
   "outputs": [],
   "source": [
    "# Eliminacion de numeros\n",
    "df['clean_text'] = df['clean_text'].apply(lambda x: re.sub(r'\\d+', '', x))"
   ]
  },
  {
   "cell_type": "code",
   "execution_count": 9,
   "id": "3324629a",
   "metadata": {
    "execution": {
     "iopub.execute_input": "2023-05-16T18:30:06.080214Z",
     "iopub.status.busy": "2023-05-16T18:30:06.079863Z",
     "iopub.status.idle": "2023-05-16T18:30:17.911142Z",
     "shell.execute_reply": "2023-05-16T18:30:17.910217Z",
     "shell.execute_reply.started": "2023-05-16T18:30:06.080181Z"
    }
   },
   "outputs": [],
   "source": [
    "# Eliminacion de espacios en blanco extras: si hay espacio en blanco es solo uno\n",
    "df['clean_text'] = df['clean_text'].apply(lambda x: re.sub(r'\\s+', ' ', x))"
   ]
  },
  {
   "cell_type": "code",
   "execution_count": 10,
   "id": "33276160",
   "metadata": {
    "execution": {
     "iopub.execute_input": "2023-05-16T18:30:17.915387Z",
     "iopub.status.busy": "2023-05-16T18:30:17.915058Z",
     "iopub.status.idle": "2023-05-16T18:30:17.963350Z",
     "shell.execute_reply": "2023-05-16T18:30:17.962426Z",
     "shell.execute_reply.started": "2023-05-16T18:30:17.915348Z"
    }
   },
   "outputs": [
    {
     "name": "stdout",
     "output_type": "stream",
     "text": [
      "Text 1: previous problem solvedfinally got my itune and ipod synch again time to bath and start revising\n",
      "\n",
      "Text 2: miss_higgs sains gave me a â gift card without question because my pizza was all dough and very little topping very appreciated \n",
      "\n",
      "Text 3: eating breakfast and drinking coffe strong coffe \n",
      "\n",
      "Text 4:  amanduhwood hmmm i dont know how i feel about that \n",
      "\n",
      "Text 5: happy fathers day to all you dads out there unfortunately i lost mine when i was a teenager \n",
      "\n"
     ]
    }
   ],
   "source": [
    "# Muestra de 5 tweets aleatorios:\n",
    "random_texts = df['clean_text'].sample(n=5, random_state=45)\n",
    "\n",
    "for i, text in enumerate(random_texts):\n",
    "    print(f\"Text {i+1}: {text}\\n\")"
   ]
  },
  {
   "cell_type": "markdown",
   "id": "79669ba5",
   "metadata": {},
   "source": [
    "**Contar las veces que aparece cada palabra:**"
   ]
  },
  {
   "cell_type": "code",
   "execution_count": 11,
   "id": "16d9afc8",
   "metadata": {
    "execution": {
     "iopub.execute_input": "2023-05-16T18:30:17.965264Z",
     "iopub.status.busy": "2023-05-16T18:30:17.964827Z",
     "iopub.status.idle": "2023-05-16T18:30:33.087378Z",
     "shell.execute_reply": "2023-05-16T18:30:33.086331Z",
     "shell.execute_reply.started": "2023-05-16T18:30:17.965230Z"
    }
   },
   "outputs": [],
   "source": [
    "# Separacion del texto en palabras\n",
    "df['words'] = df['clean_text'].apply(lambda x: x.split())\n",
    "\n",
    "# Frecuencia de cada palabra\n",
    "word_freq = {}\n",
    "for words in df['words']:\n",
    "    for word in words:\n",
    "        if word in word_freq:\n",
    "            word_freq[word] += 1\n",
    "        else:\n",
    "            word_freq[word] = 1"
   ]
  },
  {
   "cell_type": "code",
   "execution_count": 12,
   "id": "dd04b34d",
   "metadata": {
    "execution": {
     "iopub.execute_input": "2023-05-16T18:30:33.089167Z",
     "iopub.status.busy": "2023-05-16T18:30:33.088785Z",
     "iopub.status.idle": "2023-05-16T18:30:33.687494Z",
     "shell.execute_reply": "2023-05-16T18:30:33.686477Z",
     "shell.execute_reply.started": "2023-05-16T18:30:33.089134Z"
    }
   },
   "outputs": [],
   "source": [
    "# Palabras en orden descendiente por frecuencia\n",
    "sorted_words = sorted(word_freq, key=word_freq.get, reverse=True)\n",
    "# Ranking de palabras en orden segun su frecuencia de aparicion:\n",
    "word_ranks = {word: rank for rank, word in enumerate(sorted_words, 1)}"
   ]
  },
  {
   "cell_type": "code",
   "execution_count": 13,
   "id": "8b442609",
   "metadata": {
    "execution": {
     "iopub.execute_input": "2023-05-16T18:30:33.689918Z",
     "iopub.status.busy": "2023-05-16T18:30:33.689140Z",
     "iopub.status.idle": "2023-05-16T18:30:34.851165Z",
     "shell.execute_reply": "2023-05-16T18:30:34.850278Z",
     "shell.execute_reply.started": "2023-05-16T18:30:33.689883Z"
    }
   },
   "outputs": [
    {
     "data": {
      "image/png": "[encoded data removed]",
      "text/plain": [
       "<Figure size 640x480 with 1 Axes>"
      ]
     },
     "metadata": {},
     "output_type": "display_data"
    }
   ],
   "source": [
    "# Grafico de las palabras segun su frecuencia en escala logaritmica\n",
    "#Cantidad de veces que aparece cada palabra en orden descendiente:\n",
    "freqs = np.array([word_freq[word] for word in sorted_words]) \n",
    "#Ranking de las palabras en orden descendiente:\n",
    "ranks = np.array([word_ranks[word] for word in sorted_words])\n",
    "\n",
    "#Aplicamos el logaritmo tanto a la frecuencia como al ranking:\n",
    "plt.plot(np.log10(ranks), np.log10(freqs))\n",
    "plt.xlabel('log(rank)')\n",
    "plt.ylabel('log(frequency)')\n",
    "plt.title('Representación de la freq de aparición vs el ranking')\n",
    "plt.show()"
   ]
  },
  {
   "cell_type": "markdown",
   "id": "1be69bec",
   "metadata": {},
   "source": [
    "## 1.3. Procesado de las etiquetas y tokenización\n",
    "\n",
    "<div style=\"background-color: #EDF7FF; border-color: #7C9DBF; border-left: 5px solid #7C9DBF; padding: 0.5em;\">\n",
    "Como habrás observado, el lenguaje natural está muy desbalanceado, unas pocas palabras aparecen muchas veces y muchas palabras aparecen en pocas ocasiones. Esta información la tendremos en cuenta para construir posteriormente nuestros vocabulario de tokens, descartando palabras que aparecen poco.\n",
    "    \n",
    "Ahora nos vamos a quedar únicamente 20000 frases de todo el dataset. Las etiquetas han de ser convertidas al formato adecuado y se procesaran los textos para obtenerlos en forma de tokens con la función Tokenizer de Tensorflow. Muestra un ejemplo de una frase tokenizada y decodificada de nuevo.\n",
    "\n",
    "</div>"
   ]
  },
  {
   "cell_type": "code",
   "execution_count": 14,
   "id": "6ba944a0",
   "metadata": {
    "execution": {
     "iopub.execute_input": "2023-05-16T18:30:34.853379Z",
     "iopub.status.busy": "2023-05-16T18:30:34.852723Z",
     "iopub.status.idle": "2023-05-16T18:30:36.342567Z",
     "shell.execute_reply": "2023-05-16T18:30:36.341598Z",
     "shell.execute_reply.started": "2023-05-16T18:30:34.853331Z"
    }
   },
   "outputs": [],
   "source": [
    "# Elegimos 20000 frases al azar:\n",
    "df2 = df.sample(n=20000, random_state=42)\n",
    "\n",
    "# Convertimos las etiquetas al formato adecuado\n",
    "df2['target'] = df2['target'].apply(lambda x: 1 if x == 4 else 0)\n",
    "\n",
    "# Procesamos los textos para obtenerlos en forma de tokens:\n",
    "tokenizer = tf.keras.preprocessing.text.Tokenizer(oov_token='<OOV>')\n",
    "tokenizer.fit_on_texts(df2['clean_text'])\n",
    "sequences = tokenizer.texts_to_sequences(df2['clean_text'])"
   ]
  },
  {
   "cell_type": "code",
   "execution_count": 15,
   "id": "7c4784bc",
   "metadata": {
    "execution": {
     "iopub.execute_input": "2023-05-16T18:30:36.344401Z",
     "iopub.status.busy": "2023-05-16T18:30:36.344041Z",
     "iopub.status.idle": "2023-05-16T18:30:36.354012Z",
     "shell.execute_reply": "2023-05-16T18:30:36.353050Z",
     "shell.execute_reply.started": "2023-05-16T18:30:36.344352Z"
    }
   },
   "outputs": [
    {
     "name": "stdout",
     "output_type": "stream",
     "text": [
      "Original sentence: snack time teddy grams and baked lays \n",
      "Tokenized sentence: [4499, 55, 3683, 9002, 7, 2441, 5832]\n",
      "Decoded sentence: snack time teddy grams and baked lays\n"
     ]
    }
   ],
   "source": [
    "# Ejemplo de una frase tokenizada y decodificada: \n",
    "sentence = df2['clean_text'].iloc[0]\n",
    "\n",
    "# Tokenize the sentence using the tokenizer\n",
    "tokens = tokenizer.texts_to_sequences([sentence])[0]\n",
    "\n",
    "# Print the original sentence and its tokenized form\n",
    "print('Original sentence:', sentence)\n",
    "print('Tokenized sentence:', tokens)\n",
    "\n",
    "# Decode the tokenized sentence back into text form\n",
    "decoded_sentence = tokenizer.sequences_to_texts([tokens])[0]\n",
    "\n",
    "# Print the decoded sentence\n",
    "print('Decoded sentence:', decoded_sentence)"
   ]
  },
  {
   "cell_type": "markdown",
   "id": "86932cd2",
   "metadata": {},
   "source": [
    "## 1.4. Partición de los datos\n",
    "\n",
    "<div style=\"background-color: #EDF7FF; border-color: #7C9DBF; border-left: 5px solid #7C9DBF; padding: 0.5em;\">\n",
    "Finalmente deja un 80% de los datos para train y el resto para test. Únicamente se utilizaran 3000 tokens distintos.</div>\n",
    "\n",
    "Utiliza la función `tf.keras.utils.pad_sequences` para normalizar el tamaño de todas los mensajes tokenizados. El tamaño final será el tamaño del mensaje más largo. Muestra un ejemplo de una frase una vez que se ha aplicado esta función."
   ]
  },
  {
   "cell_type": "code",
   "execution_count": 16,
   "id": "9a191206",
   "metadata": {
    "execution": {
     "iopub.execute_input": "2023-05-16T18:30:36.356211Z",
     "iopub.status.busy": "2023-05-16T18:30:36.355136Z",
     "iopub.status.idle": "2023-05-16T18:30:37.251288Z",
     "shell.execute_reply": "2023-05-16T18:30:37.250314Z",
     "shell.execute_reply.started": "2023-05-16T18:30:36.356176Z"
    }
   },
   "outputs": [],
   "source": [
    "# Tokenize the text using the TensorFlow Tokenizer function\n",
    "tokenizer = Tokenizer(num_words=3000, oov_token='<OOV>')\n",
    "tokenizer.fit_on_texts(df2['clean_text'])\n",
    "# Convert the texts to sequences of tokens\n",
    "sequences = tokenizer.texts_to_sequences(df2['clean_text'])\n",
    "# Pad the sequences to a maximum length of the longest message\n",
    "maxlen = max(len(seq) for seq in sequences)\n",
    "\n",
    "padded_sequences = tf.keras.utils.pad_sequences(sequences, maxlen=maxlen)\n",
    "\n",
    "# Split the data into training and testing sets\n",
    "X_train, X_test, y_train, y_test = train_test_split(padded_sequences, df2['target'], test_size=0.2, random_state=42)"
   ]
  },
  {
   "cell_type": "code",
   "execution_count": 17,
   "id": "77c1500a",
   "metadata": {
    "execution": {
     "iopub.execute_input": "2023-05-16T18:30:37.252798Z",
     "iopub.status.busy": "2023-05-16T18:30:37.252453Z",
     "iopub.status.idle": "2023-05-16T18:30:37.259456Z",
     "shell.execute_reply": "2023-05-16T18:30:37.258424Z",
     "shell.execute_reply.started": "2023-05-16T18:30:37.252768Z"
    }
   },
   "outputs": [
    {
     "name": "stdout",
     "output_type": "stream",
     "text": [
      "Original Text: snack time teddy grams and baked lays \n",
      "Padded Text: [[   1   55    1    1    7 2441    1    0    0    0    0    0    0    0\n",
      "     0    0    0    0    0    0    0    0    0    0    0    0    0    0\n",
      "     0    0    0    0    0    0]]\n"
     ]
    }
   ],
   "source": [
    "# Ejemplo de una frase luego de haber aplicado la función pad_sequences donde se ve como completa con 0 los espacios:\n",
    "text = df2['clean_text'].iloc[0]\n",
    "print('Original Text:', text)\n",
    "\n",
    "tokenized_text = tokenizer.texts_to_sequences([text])\n",
    "padded_text = tf.keras.utils.pad_sequences(tokenized_text, maxlen=maxlen, padding='post', truncating='post')\n",
    "print('Padded Text:', padded_text)"
   ]
  },
  {
   "cell_type": "markdown",
   "id": "d9827650",
   "metadata": {},
   "source": [
    "# 2. Clasificación de tweets\n",
    "\n",
    "## 2.1 Entrenando el modelo con una RNN o LSTM\n",
    "\n"
   ]
  },
  {
   "cell_type": "markdown",
   "id": "71df045c",
   "metadata": {},
   "source": [
    "\n",
    "<div style=\"background-color: #EDF7FF; border-color: #7C9DBF; border-left: 5px solid #7C9DBF; padding: 0.5em;\">\n",
    "Utilizando los conocimientos adquiridos hasta ahora, entrenar un modelo de análisis de sentimientos con con una RNN o LSTM. Se proporciona la capa de entrada para facilitar el procesado de los tokens. Representar la accuracy durante el entrenamiento y durante la validación.\n",
    "Varía los parámetros o la configuración de la red para mejorar el resultado. Finalmente, muestra el mejor resultado obtenido sobre test.\n",
    "</div>\n"
   ]
  },
  {
   "cell_type": "code",
   "execution_count": 26,
   "id": "20420d99",
   "metadata": {
    "execution": {
     "iopub.execute_input": "2023-05-16T18:38:31.933037Z",
     "iopub.status.busy": "2023-05-16T18:38:31.932684Z",
     "iopub.status.idle": "2023-05-16T18:38:31.939708Z",
     "shell.execute_reply": "2023-05-16T18:38:31.938779Z",
     "shell.execute_reply.started": "2023-05-16T18:38:31.933010Z"
    }
   },
   "outputs": [],
   "source": [
    "# Esta capa se proporciona para facilitar la tarea.\n",
    "class TokenAndPositionEmbedding(layers.Layer):\n",
    "    def __init__(self, maxlen, vocab_size, embed_dim):\n",
    "        super().__init__()\n",
    "        self.token_emb = layers.Embedding(input_dim=vocab_size, output_dim=embed_dim)\n",
    "        self.pos_emb = layers.Embedding(input_dim=maxlen, output_dim=embed_dim)\n",
    "\n",
    "    def call(self, x):\n",
    "        maxlen = tf.shape(x)[-1]\n",
    "        positions = tf.range(start=0, limit=maxlen, delta=1)\n",
    "        positions = self.pos_emb(positions)\n",
    "        x = self.token_emb(x)\n",
    "        return x + positions"
   ]
  },
  {
   "cell_type": "code",
   "execution_count": 27,
   "id": "b6b72bd8",
   "metadata": {
    "execution": {
     "iopub.execute_input": "2023-05-16T18:38:35.619151Z",
     "iopub.status.busy": "2023-05-16T18:38:35.618015Z",
     "iopub.status.idle": "2023-05-16T18:38:41.335069Z",
     "shell.execute_reply": "2023-05-16T18:38:41.334117Z",
     "shell.execute_reply.started": "2023-05-16T18:38:35.619112Z"
    }
   },
   "outputs": [],
   "source": [
    "# Esto se proporciona\n",
    "vocab_size=3000\n",
    "embed_dim=32\n",
    "\n",
    "inputs = tf.keras.layers.Input(shape=(maxlen,))\n",
    "embedding_layer = TokenAndPositionEmbedding(maxlen, vocab_size, embed_dim)\n",
    "x = embedding_layer(inputs)\n",
    "x = tf.keras.layers.Dropout(0.5)(x)\n",
    "x = tf.keras.layers.LSTM(64)(x)\n",
    "x = tf.keras.layers.Dropout(0.5)(x)\n",
    "output_layer = tf.keras.layers.Dense(1, activation=\"sigmoid\")(x)\n",
    "\n",
    "model_lstm1 = tf.keras.Model(inputs=inputs, outputs=output_layer)"
   ]
  },
  {
   "cell_type": "code",
   "execution_count": 21,
   "id": "ece2861c",
   "metadata": {
    "execution": {
     "iopub.execute_input": "2023-05-16T05:53:56.660086Z",
     "iopub.status.busy": "2023-05-16T05:53:56.659687Z",
     "iopub.status.idle": "2023-05-16T05:53:56.701836Z",
     "shell.execute_reply": "2023-05-16T05:53:56.701120Z",
     "shell.execute_reply.started": "2023-05-16T05:53:56.660049Z"
    }
   },
   "outputs": [
    {
     "name": "stdout",
     "output_type": "stream",
     "text": [
      "Model: \"model\"\n",
      "_________________________________________________________________\n",
      " Layer (type)                Output Shape              Param #   \n",
      "=================================================================\n",
      " input_1 (InputLayer)        [(None, 33)]              0         \n",
      "                                                                 \n",
      " token_and_position_embeddin  (None, 33, 32)           97056     \n",
      " g (TokenAndPositionEmbeddin                                     \n",
      " g)                                                              \n",
      "                                                                 \n",
      " dropout (Dropout)           (None, 33, 32)            0         \n",
      "                                                                 \n",
      " lstm (LSTM)                 (None, 64)                24832     \n",
      "                                                                 \n",
      " dropout_1 (Dropout)         (None, 64)                0         \n",
      "                                                                 \n",
      " dense (Dense)               (None, 1)                 65        \n",
      "                                                                 \n",
      "=================================================================\n",
      "Total params: 121,953\n",
      "Trainable params: 121,953\n",
      "Non-trainable params: 0\n",
      "_________________________________________________________________\n"
     ]
    }
   ],
   "source": [
    "#Compile the model\n",
    "model_lstm1.compile(optimizer='adam', loss='binary_crossentropy', metrics=['binary_accuracy'])\n",
    "model_lstm1.summary()"
   ]
  },
  {
   "cell_type": "code",
   "execution_count": 31,
   "id": "c20934e1",
   "metadata": {
    "execution": {
     "iopub.execute_input": "2023-05-16T18:39:24.717271Z",
     "iopub.status.busy": "2023-05-16T18:39:24.716906Z",
     "iopub.status.idle": "2023-05-16T18:39:24.722266Z",
     "shell.execute_reply": "2023-05-16T18:39:24.721263Z",
     "shell.execute_reply.started": "2023-05-16T18:39:24.717242Z"
    }
   },
   "outputs": [],
   "source": [
    "earlystop_callback = EarlyStopping(monitor='loss', patience=10)"
   ]
  },
  {
   "cell_type": "code",
   "execution_count": 22,
   "id": "1a8bb8d4",
   "metadata": {
    "execution": {
     "iopub.execute_input": "2023-05-08T11:43:13.685663Z",
     "iopub.status.busy": "2023-05-08T11:43:13.685339Z",
     "iopub.status.idle": "2023-05-08T11:45:37.694095Z",
     "shell.execute_reply": "2023-05-08T11:45:37.693054Z",
     "shell.execute_reply.started": "2023-05-08T11:43:13.685633Z"
    },
    "scrolled": true
   },
   "outputs": [
    {
     "name": "stdout",
     "output_type": "stream",
     "text": [
      "Epoch 1/100\n",
      "63/63 [==============================] - 20s 136ms/step - loss: 0.6805 - binary_accuracy: 0.5667 - val_loss: 0.6375 - val_binary_accuracy: 0.6622\n",
      "Epoch 2/100\n",
      "63/63 [==============================] - 4s 59ms/step - loss: 0.5831 - binary_accuracy: 0.7019 - val_loss: 0.5437 - val_binary_accuracy: 0.7390\n",
      "Epoch 3/100\n",
      "63/63 [==============================] - 3s 50ms/step - loss: 0.5017 - binary_accuracy: 0.7635 - val_loss: 0.5183 - val_binary_accuracy: 0.7610\n",
      "Epoch 4/100\n",
      "63/63 [==============================] - 3s 43ms/step - loss: 0.4666 - binary_accuracy: 0.7855 - val_loss: 0.5066 - val_binary_accuracy: 0.7613\n",
      "Epoch 5/100\n",
      "63/63 [==============================] - 1s 24ms/step - loss: 0.4450 - binary_accuracy: 0.7989 - val_loss: 0.5072 - val_binary_accuracy: 0.7638\n",
      "Epoch 6/100\n",
      "63/63 [==============================] - 1s 18ms/step - loss: 0.4290 - binary_accuracy: 0.8073 - val_loss: 0.5139 - val_binary_accuracy: 0.7640\n",
      "Epoch 7/100\n",
      "63/63 [==============================] - 1s 19ms/step - loss: 0.4208 - binary_accuracy: 0.8133 - val_loss: 0.5172 - val_binary_accuracy: 0.7602\n",
      "Epoch 8/100\n",
      "63/63 [==============================] - 1s 18ms/step - loss: 0.4168 - binary_accuracy: 0.8154 - val_loss: 0.5199 - val_binary_accuracy: 0.7550\n",
      "Epoch 9/100\n",
      "63/63 [==============================] - 1s 21ms/step - loss: 0.4030 - binary_accuracy: 0.8183 - val_loss: 0.5201 - val_binary_accuracy: 0.7580\n",
      "Epoch 10/100\n",
      "63/63 [==============================] - 1s 19ms/step - loss: 0.3954 - binary_accuracy: 0.8242 - val_loss: 0.5301 - val_binary_accuracy: 0.7533\n",
      "Epoch 11/100\n",
      "63/63 [==============================] - 1s 11ms/step - loss: 0.3897 - binary_accuracy: 0.8266 - val_loss: 0.5368 - val_binary_accuracy: 0.7620\n",
      "Epoch 12/100\n",
      "63/63 [==============================] - 1s 11ms/step - loss: 0.3850 - binary_accuracy: 0.8322 - val_loss: 0.5385 - val_binary_accuracy: 0.7548\n",
      "Epoch 13/100\n",
      "63/63 [==============================] - 1s 21ms/step - loss: 0.3764 - binary_accuracy: 0.8376 - val_loss: 0.5465 - val_binary_accuracy: 0.7533\n",
      "Epoch 14/100\n",
      "63/63 [==============================] - 1s 11ms/step - loss: 0.3659 - binary_accuracy: 0.8409 - val_loss: 0.5595 - val_binary_accuracy: 0.7582\n",
      "Epoch 15/100\n",
      "63/63 [==============================] - 1s 18ms/step - loss: 0.3609 - binary_accuracy: 0.8417 - val_loss: 0.5837 - val_binary_accuracy: 0.7450\n",
      "Epoch 16/100\n",
      "63/63 [==============================] - 1s 13ms/step - loss: 0.3539 - binary_accuracy: 0.8449 - val_loss: 0.5726 - val_binary_accuracy: 0.7440\n",
      "Epoch 17/100\n",
      "63/63 [==============================] - 1s 13ms/step - loss: 0.3509 - binary_accuracy: 0.8480 - val_loss: 0.5918 - val_binary_accuracy: 0.7505\n",
      "Epoch 18/100\n",
      "63/63 [==============================] - 1s 15ms/step - loss: 0.3376 - binary_accuracy: 0.8541 - val_loss: 0.6023 - val_binary_accuracy: 0.7485\n",
      "Epoch 19/100\n",
      "63/63 [==============================] - 1s 10ms/step - loss: 0.3312 - binary_accuracy: 0.8546 - val_loss: 0.6032 - val_binary_accuracy: 0.7475\n",
      "Epoch 20/100\n",
      "63/63 [==============================] - 1s 13ms/step - loss: 0.3248 - binary_accuracy: 0.8591 - val_loss: 0.6173 - val_binary_accuracy: 0.7400\n",
      "Epoch 21/100\n",
      "63/63 [==============================] - 1s 13ms/step - loss: 0.3233 - binary_accuracy: 0.8565 - val_loss: 0.6243 - val_binary_accuracy: 0.7427\n",
      "Epoch 22/100\n",
      "63/63 [==============================] - 1s 13ms/step - loss: 0.3172 - binary_accuracy: 0.8629 - val_loss: 0.6190 - val_binary_accuracy: 0.7418\n",
      "Epoch 23/100\n",
      "63/63 [==============================] - 1s 13ms/step - loss: 0.3092 - binary_accuracy: 0.8669 - val_loss: 0.6490 - val_binary_accuracy: 0.7390\n",
      "Epoch 24/100\n",
      "63/63 [==============================] - 1s 11ms/step - loss: 0.3099 - binary_accuracy: 0.8627 - val_loss: 0.6697 - val_binary_accuracy: 0.7347\n",
      "Epoch 25/100\n",
      "63/63 [==============================] - 1s 11ms/step - loss: 0.3052 - binary_accuracy: 0.8664 - val_loss: 0.6831 - val_binary_accuracy: 0.7390\n",
      "Epoch 26/100\n",
      "63/63 [==============================] - 1s 15ms/step - loss: 0.2972 - binary_accuracy: 0.8729 - val_loss: 0.6528 - val_binary_accuracy: 0.7295\n",
      "Epoch 27/100\n",
      "63/63 [==============================] - 1s 11ms/step - loss: 0.2942 - binary_accuracy: 0.8735 - val_loss: 0.6563 - val_binary_accuracy: 0.7402\n",
      "Epoch 28/100\n",
      "63/63 [==============================] - 1s 8ms/step - loss: 0.2858 - binary_accuracy: 0.8776 - val_loss: 0.6815 - val_binary_accuracy: 0.7275\n",
      "Epoch 29/100\n",
      "63/63 [==============================] - 0s 8ms/step - loss: 0.2854 - binary_accuracy: 0.8778 - val_loss: 0.6833 - val_binary_accuracy: 0.7350\n",
      "Epoch 30/100\n",
      "63/63 [==============================] - 1s 15ms/step - loss: 0.2837 - binary_accuracy: 0.8754 - val_loss: 0.6979 - val_binary_accuracy: 0.7308\n",
      "Epoch 31/100\n",
      "63/63 [==============================] - 1s 13ms/step - loss: 0.2770 - binary_accuracy: 0.8811 - val_loss: 0.7036 - val_binary_accuracy: 0.7312\n",
      "Epoch 32/100\n",
      "63/63 [==============================] - 1s 13ms/step - loss: 0.2782 - binary_accuracy: 0.8814 - val_loss: 0.7588 - val_binary_accuracy: 0.7358\n",
      "Epoch 33/100\n",
      "63/63 [==============================] - 1s 8ms/step - loss: 0.2754 - binary_accuracy: 0.8806 - val_loss: 0.7281 - val_binary_accuracy: 0.7272\n",
      "Epoch 34/100\n",
      "63/63 [==============================] - 1s 13ms/step - loss: 0.2717 - binary_accuracy: 0.8823 - val_loss: 0.7324 - val_binary_accuracy: 0.7315\n",
      "Epoch 35/100\n",
      "63/63 [==============================] - 1s 13ms/step - loss: 0.2720 - binary_accuracy: 0.8849 - val_loss: 0.7290 - val_binary_accuracy: 0.7297\n",
      "Epoch 36/100\n",
      "63/63 [==============================] - 1s 13ms/step - loss: 0.2702 - binary_accuracy: 0.8846 - val_loss: 0.7427 - val_binary_accuracy: 0.7278\n",
      "Epoch 37/100\n",
      "63/63 [==============================] - 1s 13ms/step - loss: 0.2619 - binary_accuracy: 0.8882 - val_loss: 0.7884 - val_binary_accuracy: 0.7318\n",
      "Epoch 38/100\n",
      "63/63 [==============================] - 1s 10ms/step - loss: 0.2607 - binary_accuracy: 0.8871 - val_loss: 0.7432 - val_binary_accuracy: 0.7280\n",
      "Epoch 39/100\n",
      "63/63 [==============================] - 1s 13ms/step - loss: 0.2602 - binary_accuracy: 0.8910 - val_loss: 0.7635 - val_binary_accuracy: 0.7305\n",
      "Epoch 40/100\n",
      "63/63 [==============================] - 1s 11ms/step - loss: 0.2604 - binary_accuracy: 0.8892 - val_loss: 0.7952 - val_binary_accuracy: 0.7318\n",
      "Epoch 41/100\n",
      "63/63 [==============================] - 1s 10ms/step - loss: 0.2526 - binary_accuracy: 0.8948 - val_loss: 0.7445 - val_binary_accuracy: 0.7318\n",
      "Epoch 42/100\n",
      "63/63 [==============================] - 1s 8ms/step - loss: 0.2530 - binary_accuracy: 0.8921 - val_loss: 0.8133 - val_binary_accuracy: 0.7310\n",
      "Epoch 43/100\n",
      "63/63 [==============================] - 1s 10ms/step - loss: 0.2516 - binary_accuracy: 0.8927 - val_loss: 0.7792 - val_binary_accuracy: 0.7318\n",
      "Epoch 44/100\n",
      "63/63 [==============================] - 0s 8ms/step - loss: 0.2468 - binary_accuracy: 0.8953 - val_loss: 0.8120 - val_binary_accuracy: 0.7375\n",
      "Epoch 45/100\n",
      "63/63 [==============================] - 1s 13ms/step - loss: 0.2392 - binary_accuracy: 0.8969 - val_loss: 0.8687 - val_binary_accuracy: 0.7320\n",
      "Epoch 46/100\n",
      "63/63 [==============================] - 1s 10ms/step - loss: 0.2339 - binary_accuracy: 0.8982 - val_loss: 0.8288 - val_binary_accuracy: 0.7318\n",
      "Epoch 47/100\n",
      "63/63 [==============================] - 1s 11ms/step - loss: 0.2397 - binary_accuracy: 0.8995 - val_loss: 0.8213 - val_binary_accuracy: 0.7225\n",
      "Epoch 48/100\n",
      "63/63 [==============================] - 1s 19ms/step - loss: 0.2364 - binary_accuracy: 0.8966 - val_loss: 0.8809 - val_binary_accuracy: 0.7275\n",
      "Epoch 49/100\n",
      "63/63 [==============================] - 1s 10ms/step - loss: 0.2280 - binary_accuracy: 0.9029 - val_loss: 0.9531 - val_binary_accuracy: 0.7352\n",
      "Epoch 50/100\n",
      "63/63 [==============================] - 1s 10ms/step - loss: 0.2338 - binary_accuracy: 0.9006 - val_loss: 0.8891 - val_binary_accuracy: 0.7258\n",
      "Epoch 51/100\n",
      "63/63 [==============================] - 1s 13ms/step - loss: 0.2325 - binary_accuracy: 0.9019 - val_loss: 0.9112 - val_binary_accuracy: 0.7305\n",
      "Epoch 52/100\n",
      "63/63 [==============================] - 0s 8ms/step - loss: 0.2331 - binary_accuracy: 0.8998 - val_loss: 0.8518 - val_binary_accuracy: 0.7285\n",
      "Epoch 53/100\n",
      "63/63 [==============================] - 1s 13ms/step - loss: 0.2230 - binary_accuracy: 0.9046 - val_loss: 0.9387 - val_binary_accuracy: 0.7303\n",
      "Epoch 54/100\n",
      "63/63 [==============================] - 0s 8ms/step - loss: 0.2207 - binary_accuracy: 0.9064 - val_loss: 0.9053 - val_binary_accuracy: 0.7268\n",
      "Epoch 55/100\n",
      "63/63 [==============================] - 1s 10ms/step - loss: 0.2212 - binary_accuracy: 0.9057 - val_loss: 0.9215 - val_binary_accuracy: 0.7310\n",
      "Epoch 56/100\n",
      "63/63 [==============================] - 1s 13ms/step - loss: 0.2193 - binary_accuracy: 0.9083 - val_loss: 0.8887 - val_binary_accuracy: 0.7280\n",
      "Epoch 57/100\n",
      "63/63 [==============================] - 1s 9ms/step - loss: 0.2178 - binary_accuracy: 0.9084 - val_loss: 0.9023 - val_binary_accuracy: 0.7275\n",
      "Epoch 58/100\n",
      "63/63 [==============================] - 1s 9ms/step - loss: 0.2104 - binary_accuracy: 0.9086 - val_loss: 0.9222 - val_binary_accuracy: 0.7305\n",
      "Epoch 59/100\n",
      "63/63 [==============================] - 1s 10ms/step - loss: 0.2100 - binary_accuracy: 0.9134 - val_loss: 0.9339 - val_binary_accuracy: 0.7278\n",
      "Epoch 60/100\n",
      "63/63 [==============================] - 1s 11ms/step - loss: 0.2078 - binary_accuracy: 0.9111 - val_loss: 0.9879 - val_binary_accuracy: 0.7262\n",
      "Epoch 61/100\n",
      "63/63 [==============================] - 0s 8ms/step - loss: 0.2142 - binary_accuracy: 0.9096 - val_loss: 0.9260 - val_binary_accuracy: 0.7265\n",
      "Epoch 62/100\n",
      "63/63 [==============================] - 1s 11ms/step - loss: 0.2070 - binary_accuracy: 0.9133 - val_loss: 0.9865 - val_binary_accuracy: 0.7200\n",
      "Epoch 63/100\n",
      "63/63 [==============================] - 1s 13ms/step - loss: 0.2083 - binary_accuracy: 0.9087 - val_loss: 0.9692 - val_binary_accuracy: 0.7255\n",
      "Epoch 64/100\n",
      "63/63 [==============================] - 1s 10ms/step - loss: 0.1987 - binary_accuracy: 0.9168 - val_loss: 1.0118 - val_binary_accuracy: 0.7278\n",
      "Epoch 65/100\n",
      "63/63 [==============================] - 1s 11ms/step - loss: 0.1960 - binary_accuracy: 0.9209 - val_loss: 1.0100 - val_binary_accuracy: 0.7262\n",
      "Epoch 66/100\n",
      "63/63 [==============================] - 1s 11ms/step - loss: 0.1984 - binary_accuracy: 0.9158 - val_loss: 0.9705 - val_binary_accuracy: 0.7255\n",
      "Epoch 67/100\n",
      "63/63 [==============================] - 1s 11ms/step - loss: 0.2000 - binary_accuracy: 0.9136 - val_loss: 0.9792 - val_binary_accuracy: 0.7312\n",
      "Epoch 68/100\n",
      "63/63 [==============================] - 1s 10ms/step - loss: 0.1927 - binary_accuracy: 0.9188 - val_loss: 0.9727 - val_binary_accuracy: 0.7193\n",
      "Epoch 69/100\n",
      "63/63 [==============================] - 0s 8ms/step - loss: 0.1974 - binary_accuracy: 0.9171 - val_loss: 0.9742 - val_binary_accuracy: 0.7178\n",
      "Epoch 70/100\n",
      "63/63 [==============================] - 1s 8ms/step - loss: 0.1916 - binary_accuracy: 0.9204 - val_loss: 0.9626 - val_binary_accuracy: 0.7240\n",
      "Epoch 71/100\n",
      "63/63 [==============================] - 1s 8ms/step - loss: 0.1910 - binary_accuracy: 0.9174 - val_loss: 0.9879 - val_binary_accuracy: 0.7272\n",
      "Epoch 72/100\n",
      "63/63 [==============================] - 0s 8ms/step - loss: 0.1887 - binary_accuracy: 0.9218 - val_loss: 1.0603 - val_binary_accuracy: 0.7240\n",
      "Epoch 73/100\n",
      "63/63 [==============================] - 1s 8ms/step - loss: 0.1958 - binary_accuracy: 0.9179 - val_loss: 0.9541 - val_binary_accuracy: 0.7207\n",
      "Epoch 74/100\n",
      "63/63 [==============================] - 0s 8ms/step - loss: 0.1869 - binary_accuracy: 0.9202 - val_loss: 1.0160 - val_binary_accuracy: 0.7222\n",
      "Epoch 75/100\n",
      "63/63 [==============================] - 1s 8ms/step - loss: 0.1874 - binary_accuracy: 0.9206 - val_loss: 1.0189 - val_binary_accuracy: 0.7262\n",
      "Epoch 76/100\n",
      "63/63 [==============================] - 1s 8ms/step - loss: 0.1774 - binary_accuracy: 0.9258 - val_loss: 1.0335 - val_binary_accuracy: 0.7203\n",
      "Epoch 77/100\n",
      "63/63 [==============================] - 1s 11ms/step - loss: 0.1898 - binary_accuracy: 0.9189 - val_loss: 1.0206 - val_binary_accuracy: 0.7265\n",
      "Epoch 78/100\n",
      "63/63 [==============================] - 1s 8ms/step - loss: 0.1820 - binary_accuracy: 0.9249 - val_loss: 1.0686 - val_binary_accuracy: 0.7218\n",
      "Epoch 79/100\n",
      "63/63 [==============================] - 1s 8ms/step - loss: 0.1791 - binary_accuracy: 0.9231 - val_loss: 1.1125 - val_binary_accuracy: 0.7215\n",
      "Epoch 80/100\n",
      "63/63 [==============================] - 1s 10ms/step - loss: 0.1809 - binary_accuracy: 0.9248 - val_loss: 1.0711 - val_binary_accuracy: 0.7250\n",
      "Epoch 81/100\n",
      "63/63 [==============================] - 1s 11ms/step - loss: 0.1807 - binary_accuracy: 0.9237 - val_loss: 1.0952 - val_binary_accuracy: 0.7270\n",
      "Epoch 82/100\n",
      "63/63 [==============================] - 0s 8ms/step - loss: 0.1777 - binary_accuracy: 0.9245 - val_loss: 1.0711 - val_binary_accuracy: 0.7205\n",
      "Epoch 83/100\n",
      "63/63 [==============================] - 1s 10ms/step - loss: 0.1726 - binary_accuracy: 0.9279 - val_loss: 1.0567 - val_binary_accuracy: 0.7197\n",
      "Epoch 84/100\n",
      "63/63 [==============================] - 1s 8ms/step - loss: 0.1758 - binary_accuracy: 0.9271 - val_loss: 1.0463 - val_binary_accuracy: 0.7258\n",
      "Epoch 85/100\n",
      "63/63 [==============================] - 0s 8ms/step - loss: 0.1743 - binary_accuracy: 0.9277 - val_loss: 1.1549 - val_binary_accuracy: 0.7207\n",
      "Epoch 86/100\n",
      "63/63 [==============================] - 1s 15ms/step - loss: 0.1741 - binary_accuracy: 0.9287 - val_loss: 1.1136 - val_binary_accuracy: 0.7210\n",
      "Epoch 87/100\n",
      "63/63 [==============================] - 0s 8ms/step - loss: 0.1735 - binary_accuracy: 0.9281 - val_loss: 1.1178 - val_binary_accuracy: 0.7185\n",
      "Epoch 88/100\n",
      "63/63 [==============================] - 1s 10ms/step - loss: 0.1667 - binary_accuracy: 0.9288 - val_loss: 1.1258 - val_binary_accuracy: 0.7195\n",
      "Epoch 89/100\n",
      "63/63 [==============================] - 1s 13ms/step - loss: 0.1727 - binary_accuracy: 0.9257 - val_loss: 1.0947 - val_binary_accuracy: 0.7207\n",
      "Epoch 90/100\n",
      "63/63 [==============================] - 1s 13ms/step - loss: 0.1698 - binary_accuracy: 0.9293 - val_loss: 1.0950 - val_binary_accuracy: 0.7210\n",
      "Epoch 91/100\n",
      "63/63 [==============================] - 1s 10ms/step - loss: 0.1722 - binary_accuracy: 0.9273 - val_loss: 1.0490 - val_binary_accuracy: 0.7218\n",
      "Epoch 92/100\n",
      "63/63 [==============================] - 1s 11ms/step - loss: 0.1660 - binary_accuracy: 0.9309 - val_loss: 1.1409 - val_binary_accuracy: 0.7255\n",
      "Epoch 93/100\n",
      "63/63 [==============================] - 1s 12ms/step - loss: 0.1664 - binary_accuracy: 0.9288 - val_loss: 1.0959 - val_binary_accuracy: 0.7197\n",
      "Epoch 94/100\n",
      "63/63 [==============================] - 1s 8ms/step - loss: 0.1638 - binary_accuracy: 0.9322 - val_loss: 1.1690 - val_binary_accuracy: 0.7178\n",
      "Epoch 95/100\n",
      "63/63 [==============================] - 1s 8ms/step - loss: 0.1684 - binary_accuracy: 0.9310 - val_loss: 1.1127 - val_binary_accuracy: 0.7145\n",
      "Epoch 96/100\n",
      "63/63 [==============================] - 0s 8ms/step - loss: 0.1653 - binary_accuracy: 0.9314 - val_loss: 1.1612 - val_binary_accuracy: 0.7172\n",
      "Epoch 97/100\n",
      "63/63 [==============================] - 1s 14ms/step - loss: 0.1690 - binary_accuracy: 0.9291 - val_loss: 1.1156 - val_binary_accuracy: 0.7210\n",
      "Epoch 98/100\n",
      "63/63 [==============================] - 1s 15ms/step - loss: 0.1622 - binary_accuracy: 0.9314 - val_loss: 1.1659 - val_binary_accuracy: 0.7107\n",
      "Epoch 99/100\n",
      "63/63 [==============================] - 1s 11ms/step - loss: 0.1584 - binary_accuracy: 0.9336 - val_loss: 1.1790 - val_binary_accuracy: 0.7153\n",
      "Epoch 100/100\n",
      "63/63 [==============================] - 1s 8ms/step - loss: 0.1576 - binary_accuracy: 0.9341 - val_loss: 1.1941 - val_binary_accuracy: 0.7163\n"
     ]
    }
   ],
   "source": [
    "#Fit the model\n",
    "history_lstm1 = model_lstm1.fit(X_train, y_train, \n",
    "                    validation_data=(X_test, y_test),\n",
    "                    epochs=100, batch_size=256,\n",
    "                    callbacks=[earlystop_callback],\n",
    "                    verbose=1)"
   ]
  },
  {
   "cell_type": "code",
   "execution_count": 23,
   "id": "e0e5611a",
   "metadata": {
    "execution": {
     "iopub.execute_input": "2023-05-08T11:45:37.697201Z",
     "iopub.status.busy": "2023-05-08T11:45:37.696867Z",
     "iopub.status.idle": "2023-05-08T11:45:38.383603Z",
     "shell.execute_reply": "2023-05-08T11:45:38.382633Z",
     "shell.execute_reply.started": "2023-05-08T11:45:37.697169Z"
    }
   },
   "outputs": [
    {
     "name": "stdout",
     "output_type": "stream",
     "text": [
      "125/125 [==============================] - 0s 4ms/step - loss: 1.1941 - binary_accuracy: 0.7163\n",
      "Test loss: 1.1940901279449463\n",
      "Test accuracy: 0.7162500023841858\n"
     ]
    }
   ],
   "source": [
    "# Evaluate the model\n",
    "test_loss_lstm1, test_acc_lstm1 = model_lstm1.evaluate(X_test, y_test)\n",
    "\n",
    "print(\"Test loss:\", test_loss_lstm1)\n",
    "print(\"Test accuracy:\", test_acc_lstm1)"
   ]
  },
  {
   "cell_type": "markdown",
   "id": "2e523ee9",
   "metadata": {},
   "source": [
    "**MODELO 2: Pruebo modificando la cantidad de neuronas de la capa LSTM y agregando una capa LSTM más**"
   ]
  },
  {
   "cell_type": "code",
   "execution_count": 24,
   "id": "48a2f191",
   "metadata": {
    "execution": {
     "iopub.execute_input": "2023-05-08T11:45:38.385490Z",
     "iopub.status.busy": "2023-05-08T11:45:38.385124Z",
     "iopub.status.idle": "2023-05-08T11:45:38.867070Z",
     "shell.execute_reply": "2023-05-08T11:45:38.866182Z",
     "shell.execute_reply.started": "2023-05-08T11:45:38.385456Z"
    }
   },
   "outputs": [],
   "source": [
    "inputs = tf.keras.layers.Input(shape=(maxlen,))\n",
    "embedding_layer = TokenAndPositionEmbedding(maxlen, vocab_size, embed_dim)\n",
    "x = embedding_layer(inputs)\n",
    "x = tf.keras.layers.LSTM(128, return_sequences=True)(x)\n",
    "x = tf.keras.layers.Dropout(0.5)(x)\n",
    "x = tf.keras.layers.LSTM(128)(x)\n",
    "x = tf.keras.layers.Dropout(0.5)(x)\n",
    "output_layer = tf.keras.layers.Dense(1, activation=\"sigmoid\")(x)\n",
    "\n",
    "model_lstm2 = tf.keras.Model(inputs=inputs, outputs=output_layer)"
   ]
  },
  {
   "cell_type": "code",
   "execution_count": 25,
   "id": "e5ce0579",
   "metadata": {
    "execution": {
     "iopub.execute_input": "2023-05-08T11:45:38.868786Z",
     "iopub.status.busy": "2023-05-08T11:45:38.868458Z",
     "iopub.status.idle": "2023-05-08T11:45:38.900472Z",
     "shell.execute_reply": "2023-05-08T11:45:38.899640Z",
     "shell.execute_reply.started": "2023-05-08T11:45:38.868737Z"
    }
   },
   "outputs": [
    {
     "name": "stdout",
     "output_type": "stream",
     "text": [
      "Model: \"model_1\"\n",
      "_________________________________________________________________\n",
      " Layer (type)                Output Shape              Param #   \n",
      "=================================================================\n",
      " input_2 (InputLayer)        [(None, 34)]              0         \n",
      "                                                                 \n",
      " token_and_position_embeddin  (None, 34, 32)           97088     \n",
      " g_1 (TokenAndPositionEmbedd                                     \n",
      " ing)                                                            \n",
      "                                                                 \n",
      " lstm_1 (LSTM)               (None, 34, 128)           82432     \n",
      "                                                                 \n",
      " dropout_2 (Dropout)         (None, 34, 128)           0         \n",
      "                                                                 \n",
      " lstm_2 (LSTM)               (None, 128)               131584    \n",
      "                                                                 \n",
      " dropout_3 (Dropout)         (None, 128)               0         \n",
      "                                                                 \n",
      " dense_1 (Dense)             (None, 1)                 129       \n",
      "                                                                 \n",
      "=================================================================\n",
      "Total params: 311,233\n",
      "Trainable params: 311,233\n",
      "Non-trainable params: 0\n",
      "_________________________________________________________________\n"
     ]
    }
   ],
   "source": [
    "#Compile the model\n",
    "model_lstm2.compile(optimizer='adam', loss='binary_crossentropy', metrics=['binary_accuracy'])\n",
    "model_lstm2.summary()"
   ]
  },
  {
   "cell_type": "code",
   "execution_count": 26,
   "id": "93413574",
   "metadata": {
    "execution": {
     "iopub.execute_input": "2023-05-08T11:45:38.901855Z",
     "iopub.status.busy": "2023-05-08T11:45:38.901445Z",
     "iopub.status.idle": "2023-05-08T11:47:15.070005Z",
     "shell.execute_reply": "2023-05-08T11:47:15.068792Z",
     "shell.execute_reply.started": "2023-05-08T11:45:38.901823Z"
    }
   },
   "outputs": [
    {
     "name": "stdout",
     "output_type": "stream",
     "text": [
      "Epoch 1/100\n",
      "63/63 [==============================] - 10s 101ms/step - loss: 0.6527 - binary_accuracy: 0.6005 - val_loss: 0.5791 - val_binary_accuracy: 0.7015\n",
      "Epoch 2/100\n",
      "63/63 [==============================] - 3s 53ms/step - loss: 0.5128 - binary_accuracy: 0.7542 - val_loss: 0.5251 - val_binary_accuracy: 0.7477\n",
      "Epoch 3/100\n",
      "63/63 [==============================] - 3s 49ms/step - loss: 0.4485 - binary_accuracy: 0.7961 - val_loss: 0.5357 - val_binary_accuracy: 0.7400\n",
      "Epoch 4/100\n",
      "63/63 [==============================] - 2s 30ms/step - loss: 0.4232 - binary_accuracy: 0.8130 - val_loss: 0.5297 - val_binary_accuracy: 0.7545\n",
      "Epoch 5/100\n",
      "63/63 [==============================] - 1s 20ms/step - loss: 0.4029 - binary_accuracy: 0.8227 - val_loss: 0.5399 - val_binary_accuracy: 0.7505\n",
      "Epoch 6/100\n",
      "63/63 [==============================] - 1s 22ms/step - loss: 0.3883 - binary_accuracy: 0.8332 - val_loss: 0.5564 - val_binary_accuracy: 0.7390\n",
      "Epoch 7/100\n",
      "63/63 [==============================] - 2s 25ms/step - loss: 0.3712 - binary_accuracy: 0.8379 - val_loss: 0.5772 - val_binary_accuracy: 0.7448\n",
      "Epoch 8/100\n",
      "63/63 [==============================] - 1s 21ms/step - loss: 0.3483 - binary_accuracy: 0.8522 - val_loss: 0.6029 - val_binary_accuracy: 0.7420\n",
      "Epoch 9/100\n",
      "63/63 [==============================] - 1s 17ms/step - loss: 0.3380 - binary_accuracy: 0.8544 - val_loss: 0.6460 - val_binary_accuracy: 0.7385\n",
      "Epoch 10/100\n",
      "63/63 [==============================] - 1s 14ms/step - loss: 0.3143 - binary_accuracy: 0.8661 - val_loss: 0.6920 - val_binary_accuracy: 0.7310\n",
      "Epoch 11/100\n",
      "63/63 [==============================] - 1s 17ms/step - loss: 0.3005 - binary_accuracy: 0.8713 - val_loss: 0.7084 - val_binary_accuracy: 0.7335\n",
      "Epoch 12/100\n",
      "63/63 [==============================] - 1s 14ms/step - loss: 0.2848 - binary_accuracy: 0.8788 - val_loss: 0.8182 - val_binary_accuracy: 0.7268\n",
      "Epoch 13/100\n",
      "63/63 [==============================] - 1s 18ms/step - loss: 0.2702 - binary_accuracy: 0.8838 - val_loss: 0.8374 - val_binary_accuracy: 0.7285\n",
      "Epoch 14/100\n",
      "63/63 [==============================] - 1s 14ms/step - loss: 0.2572 - binary_accuracy: 0.8900 - val_loss: 0.8564 - val_binary_accuracy: 0.7265\n",
      "Epoch 15/100\n",
      "63/63 [==============================] - 1s 13ms/step - loss: 0.2435 - binary_accuracy: 0.8968 - val_loss: 0.8859 - val_binary_accuracy: 0.7222\n",
      "Epoch 16/100\n",
      "63/63 [==============================] - 1s 18ms/step - loss: 0.2258 - binary_accuracy: 0.9016 - val_loss: 0.9060 - val_binary_accuracy: 0.7188\n",
      "Epoch 17/100\n",
      "63/63 [==============================] - 1s 14ms/step - loss: 0.2126 - binary_accuracy: 0.9098 - val_loss: 1.1646 - val_binary_accuracy: 0.7190\n",
      "Epoch 18/100\n",
      "63/63 [==============================] - 1s 15ms/step - loss: 0.2006 - binary_accuracy: 0.9146 - val_loss: 1.2260 - val_binary_accuracy: 0.7188\n",
      "Epoch 19/100\n",
      "63/63 [==============================] - 1s 17ms/step - loss: 0.1810 - binary_accuracy: 0.9218 - val_loss: 1.3843 - val_binary_accuracy: 0.7150\n",
      "Epoch 20/100\n",
      "63/63 [==============================] - 1s 15ms/step - loss: 0.1805 - binary_accuracy: 0.9217 - val_loss: 1.1629 - val_binary_accuracy: 0.7122\n",
      "Epoch 21/100\n",
      "63/63 [==============================] - 1s 16ms/step - loss: 0.1710 - binary_accuracy: 0.9241 - val_loss: 1.5618 - val_binary_accuracy: 0.7150\n",
      "Epoch 22/100\n",
      "63/63 [==============================] - 1s 16ms/step - loss: 0.1751 - binary_accuracy: 0.9243 - val_loss: 1.3439 - val_binary_accuracy: 0.7178\n",
      "Epoch 23/100\n",
      "63/63 [==============================] - 1s 13ms/step - loss: 0.1502 - binary_accuracy: 0.9339 - val_loss: 1.4557 - val_binary_accuracy: 0.7180\n",
      "Epoch 24/100\n",
      "63/63 [==============================] - 1s 15ms/step - loss: 0.1484 - binary_accuracy: 0.9331 - val_loss: 1.6164 - val_binary_accuracy: 0.7128\n",
      "Epoch 25/100\n",
      "63/63 [==============================] - 1s 13ms/step - loss: 0.1396 - binary_accuracy: 0.9380 - val_loss: 1.5299 - val_binary_accuracy: 0.7070\n",
      "Epoch 26/100\n",
      "63/63 [==============================] - 1s 14ms/step - loss: 0.1453 - binary_accuracy: 0.9358 - val_loss: 1.6220 - val_binary_accuracy: 0.7078\n",
      "Epoch 27/100\n",
      "63/63 [==============================] - 1s 16ms/step - loss: 0.1286 - binary_accuracy: 0.9415 - val_loss: 1.6873 - val_binary_accuracy: 0.7132\n",
      "Epoch 28/100\n",
      "63/63 [==============================] - 1s 13ms/step - loss: 0.1247 - binary_accuracy: 0.9461 - val_loss: 1.7245 - val_binary_accuracy: 0.7145\n",
      "Epoch 29/100\n",
      "63/63 [==============================] - 1s 13ms/step - loss: 0.1172 - binary_accuracy: 0.9496 - val_loss: 1.8561 - val_binary_accuracy: 0.7053\n",
      "Epoch 30/100\n",
      "63/63 [==============================] - 1s 14ms/step - loss: 0.1112 - binary_accuracy: 0.9527 - val_loss: 1.9460 - val_binary_accuracy: 0.7075\n",
      "Epoch 31/100\n",
      "63/63 [==============================] - 1s 17ms/step - loss: 0.1107 - binary_accuracy: 0.9500 - val_loss: 1.9804 - val_binary_accuracy: 0.7107\n",
      "Epoch 32/100\n",
      "63/63 [==============================] - 1s 18ms/step - loss: 0.1074 - binary_accuracy: 0.9516 - val_loss: 2.1290 - val_binary_accuracy: 0.7032\n",
      "Epoch 33/100\n",
      "63/63 [==============================] - 1s 14ms/step - loss: 0.0992 - binary_accuracy: 0.9561 - val_loss: 2.1697 - val_binary_accuracy: 0.7025\n",
      "Epoch 34/100\n",
      "63/63 [==============================] - 1s 13ms/step - loss: 0.1073 - binary_accuracy: 0.9534 - val_loss: 1.8445 - val_binary_accuracy: 0.6965\n",
      "Epoch 35/100\n",
      "63/63 [==============================] - 1s 17ms/step - loss: 0.1056 - binary_accuracy: 0.9534 - val_loss: 2.2559 - val_binary_accuracy: 0.7097\n",
      "Epoch 36/100\n",
      "63/63 [==============================] - 1s 15ms/step - loss: 0.0966 - binary_accuracy: 0.9575 - val_loss: 2.2228 - val_binary_accuracy: 0.7080\n",
      "Epoch 37/100\n",
      "63/63 [==============================] - 1s 13ms/step - loss: 0.0865 - binary_accuracy: 0.9623 - val_loss: 2.2862 - val_binary_accuracy: 0.7023\n",
      "Epoch 38/100\n",
      "63/63 [==============================] - 1s 16ms/step - loss: 0.0922 - binary_accuracy: 0.9606 - val_loss: 2.0700 - val_binary_accuracy: 0.7072\n",
      "Epoch 39/100\n",
      "63/63 [==============================] - 1s 13ms/step - loss: 0.0891 - binary_accuracy: 0.9631 - val_loss: 2.1812 - val_binary_accuracy: 0.7038\n",
      "Epoch 40/100\n",
      "63/63 [==============================] - 1s 13ms/step - loss: 0.0740 - binary_accuracy: 0.9685 - val_loss: 2.4021 - val_binary_accuracy: 0.6977\n",
      "Epoch 41/100\n",
      "63/63 [==============================] - 1s 15ms/step - loss: 0.0838 - binary_accuracy: 0.9639 - val_loss: 2.2145 - val_binary_accuracy: 0.6948\n",
      "Epoch 42/100\n",
      "63/63 [==============================] - 1s 14ms/step - loss: 0.0873 - binary_accuracy: 0.9649 - val_loss: 2.3565 - val_binary_accuracy: 0.7090\n",
      "Epoch 43/100\n",
      "63/63 [==============================] - 1s 13ms/step - loss: 0.0803 - binary_accuracy: 0.9661 - val_loss: 2.3695 - val_binary_accuracy: 0.6980\n",
      "Epoch 44/100\n",
      "63/63 [==============================] - 1s 13ms/step - loss: 0.0703 - binary_accuracy: 0.9703 - val_loss: 2.4998 - val_binary_accuracy: 0.6948\n",
      "Epoch 45/100\n",
      "63/63 [==============================] - 1s 16ms/step - loss: 0.0669 - binary_accuracy: 0.9706 - val_loss: 2.6236 - val_binary_accuracy: 0.7005\n",
      "Epoch 46/100\n",
      "63/63 [==============================] - 1s 15ms/step - loss: 0.0623 - binary_accuracy: 0.9730 - val_loss: 2.6289 - val_binary_accuracy: 0.6963\n",
      "Epoch 47/100\n",
      "63/63 [==============================] - 1s 14ms/step - loss: 0.0820 - binary_accuracy: 0.9662 - val_loss: 2.3193 - val_binary_accuracy: 0.7095\n",
      "Epoch 48/100\n",
      "63/63 [==============================] - 1s 13ms/step - loss: 0.0715 - binary_accuracy: 0.9699 - val_loss: 2.5370 - val_binary_accuracy: 0.7013\n",
      "Epoch 49/100\n",
      "63/63 [==============================] - 1s 11ms/step - loss: 0.0723 - binary_accuracy: 0.9706 - val_loss: 2.4624 - val_binary_accuracy: 0.6948\n",
      "Epoch 50/100\n",
      "63/63 [==============================] - 1s 14ms/step - loss: 0.0636 - binary_accuracy: 0.9741 - val_loss: 2.4724 - val_binary_accuracy: 0.6935\n",
      "Epoch 51/100\n",
      "63/63 [==============================] - 1s 13ms/step - loss: 0.0653 - binary_accuracy: 0.9722 - val_loss: 2.5462 - val_binary_accuracy: 0.7010\n",
      "Epoch 52/100\n",
      "63/63 [==============================] - 1s 13ms/step - loss: 0.0585 - binary_accuracy: 0.9753 - val_loss: 2.6446 - val_binary_accuracy: 0.6963\n",
      "Epoch 53/100\n",
      "63/63 [==============================] - 1s 13ms/step - loss: 0.0521 - binary_accuracy: 0.9778 - val_loss: 2.7649 - val_binary_accuracy: 0.6982\n",
      "Epoch 54/100\n",
      "63/63 [==============================] - 1s 13ms/step - loss: 0.0502 - binary_accuracy: 0.9793 - val_loss: 2.8152 - val_binary_accuracy: 0.7017\n",
      "Epoch 55/100\n",
      "63/63 [==============================] - 1s 14ms/step - loss: 0.0465 - binary_accuracy: 0.9806 - val_loss: 3.1032 - val_binary_accuracy: 0.6925\n",
      "Epoch 56/100\n",
      "63/63 [==============================] - 1s 13ms/step - loss: 0.0586 - binary_accuracy: 0.9766 - val_loss: 2.6436 - val_binary_accuracy: 0.6955\n",
      "Epoch 57/100\n",
      "63/63 [==============================] - 1s 14ms/step - loss: 0.0611 - binary_accuracy: 0.9758 - val_loss: 2.5322 - val_binary_accuracy: 0.6923\n",
      "Epoch 58/100\n",
      "63/63 [==============================] - 1s 11ms/step - loss: 0.0560 - binary_accuracy: 0.9769 - val_loss: 2.5356 - val_binary_accuracy: 0.6905\n",
      "Epoch 59/100\n",
      "63/63 [==============================] - 1s 15ms/step - loss: 0.0608 - binary_accuracy: 0.9740 - val_loss: 2.5088 - val_binary_accuracy: 0.6900\n",
      "Epoch 60/100\n",
      "63/63 [==============================] - 1s 11ms/step - loss: 0.0515 - binary_accuracy: 0.9781 - val_loss: 2.5626 - val_binary_accuracy: 0.7010\n",
      "Epoch 61/100\n",
      "63/63 [==============================] - 1s 13ms/step - loss: 0.0443 - binary_accuracy: 0.9815 - val_loss: 2.8666 - val_binary_accuracy: 0.6955\n",
      "Epoch 62/100\n",
      "63/63 [==============================] - 1s 16ms/step - loss: 0.0380 - binary_accuracy: 0.9851 - val_loss: 3.0647 - val_binary_accuracy: 0.6973\n",
      "Epoch 63/100\n",
      "63/63 [==============================] - 1s 11ms/step - loss: 0.0381 - binary_accuracy: 0.9846 - val_loss: 3.0525 - val_binary_accuracy: 0.6910\n",
      "Epoch 64/100\n",
      "63/63 [==============================] - 1s 13ms/step - loss: 0.0357 - binary_accuracy: 0.9846 - val_loss: 3.2012 - val_binary_accuracy: 0.7060\n",
      "Epoch 65/100\n",
      "63/63 [==============================] - 1s 13ms/step - loss: 0.0511 - binary_accuracy: 0.9801 - val_loss: 2.7793 - val_binary_accuracy: 0.7040\n",
      "Epoch 66/100\n",
      "63/63 [==============================] - 1s 13ms/step - loss: 0.0495 - binary_accuracy: 0.9796 - val_loss: 2.6713 - val_binary_accuracy: 0.6950\n",
      "Epoch 67/100\n",
      "63/63 [==============================] - 1s 15ms/step - loss: 0.0462 - binary_accuracy: 0.9824 - val_loss: 2.7934 - val_binary_accuracy: 0.6870\n",
      "Epoch 68/100\n",
      "63/63 [==============================] - 1s 16ms/step - loss: 0.0428 - binary_accuracy: 0.9824 - val_loss: 2.9295 - val_binary_accuracy: 0.6960\n",
      "Epoch 69/100\n",
      "63/63 [==============================] - 1s 13ms/step - loss: 0.0375 - binary_accuracy: 0.9836 - val_loss: 2.9915 - val_binary_accuracy: 0.6995\n",
      "Epoch 70/100\n",
      "63/63 [==============================] - 1s 13ms/step - loss: 0.0399 - binary_accuracy: 0.9821 - val_loss: 3.0766 - val_binary_accuracy: 0.6942\n",
      "Epoch 71/100\n",
      "63/63 [==============================] - 1s 13ms/step - loss: 0.0550 - binary_accuracy: 0.9774 - val_loss: 2.6897 - val_binary_accuracy: 0.6980\n",
      "Epoch 72/100\n",
      "63/63 [==============================] - 1s 17ms/step - loss: 0.0613 - binary_accuracy: 0.9753 - val_loss: 2.4915 - val_binary_accuracy: 0.6935\n",
      "Epoch 73/100\n",
      "63/63 [==============================] - 1s 14ms/step - loss: 0.0388 - binary_accuracy: 0.9842 - val_loss: 2.7843 - val_binary_accuracy: 0.6910\n",
      "Epoch 74/100\n",
      "63/63 [==============================] - 1s 12ms/step - loss: 0.0356 - binary_accuracy: 0.9857 - val_loss: 3.0300 - val_binary_accuracy: 0.6860\n",
      "Epoch 75/100\n",
      "63/63 [==============================] - 1s 16ms/step - loss: 0.0359 - binary_accuracy: 0.9872 - val_loss: 2.9630 - val_binary_accuracy: 0.6862\n",
      "Epoch 76/100\n",
      "63/63 [==============================] - 1s 12ms/step - loss: 0.0543 - binary_accuracy: 0.9789 - val_loss: 2.4899 - val_binary_accuracy: 0.6957\n",
      "Epoch 77/100\n",
      "63/63 [==============================] - 1s 12ms/step - loss: 0.0408 - binary_accuracy: 0.9833 - val_loss: 2.6582 - val_binary_accuracy: 0.6875\n",
      "Epoch 78/100\n",
      "63/63 [==============================] - 1s 12ms/step - loss: 0.0325 - binary_accuracy: 0.9865 - val_loss: 2.9696 - val_binary_accuracy: 0.6855\n",
      "Epoch 79/100\n",
      "63/63 [==============================] - 1s 13ms/step - loss: 0.0305 - binary_accuracy: 0.9873 - val_loss: 3.0288 - val_binary_accuracy: 0.6892\n",
      "Epoch 80/100\n",
      "63/63 [==============================] - 1s 14ms/step - loss: 0.0270 - binary_accuracy: 0.9884 - val_loss: 3.2093 - val_binary_accuracy: 0.6915\n",
      "Epoch 81/100\n",
      "63/63 [==============================] - 1s 11ms/step - loss: 0.0307 - binary_accuracy: 0.9871 - val_loss: 3.1734 - val_binary_accuracy: 0.6923\n",
      "Epoch 82/100\n",
      "63/63 [==============================] - 1s 12ms/step - loss: 0.0383 - binary_accuracy: 0.9839 - val_loss: 2.8832 - val_binary_accuracy: 0.6988\n",
      "Epoch 83/100\n",
      "63/63 [==============================] - 1s 14ms/step - loss: 0.0393 - binary_accuracy: 0.9843 - val_loss: 2.7270 - val_binary_accuracy: 0.6920\n",
      "Epoch 84/100\n",
      "63/63 [==============================] - 1s 11ms/step - loss: 0.0428 - binary_accuracy: 0.9818 - val_loss: 2.5405 - val_binary_accuracy: 0.6823\n",
      "Epoch 85/100\n",
      "63/63 [==============================] - 1s 13ms/step - loss: 0.0551 - binary_accuracy: 0.9786 - val_loss: 2.4412 - val_binary_accuracy: 0.6990\n",
      "Epoch 86/100\n",
      "63/63 [==============================] - 1s 14ms/step - loss: 0.0353 - binary_accuracy: 0.9864 - val_loss: 2.6411 - val_binary_accuracy: 0.6960\n",
      "Epoch 87/100\n",
      "63/63 [==============================] - 1s 14ms/step - loss: 0.0315 - binary_accuracy: 0.9868 - val_loss: 2.9264 - val_binary_accuracy: 0.6948\n",
      "Epoch 88/100\n",
      "63/63 [==============================] - 1s 11ms/step - loss: 0.0319 - binary_accuracy: 0.9868 - val_loss: 2.9271 - val_binary_accuracy: 0.6948\n",
      "Epoch 89/100\n",
      "63/63 [==============================] - 1s 12ms/step - loss: 0.0312 - binary_accuracy: 0.9869 - val_loss: 2.8236 - val_binary_accuracy: 0.6945\n",
      "Epoch 90/100\n",
      "63/63 [==============================] - 1s 13ms/step - loss: 0.0286 - binary_accuracy: 0.9877 - val_loss: 2.9816 - val_binary_accuracy: 0.6988\n"
     ]
    }
   ],
   "source": [
    "#Fit the model\n",
    "history_lstm2 = model_lstm2.fit(X_train, y_train, \n",
    "                    validation_data=(X_test, y_test),\n",
    "                    epochs=100, batch_size=256,\n",
    "                    callbacks=[earlystop_callback],\n",
    "                    verbose=1)"
   ]
  },
  {
   "cell_type": "code",
   "execution_count": 27,
   "id": "4d8b5379",
   "metadata": {
    "execution": {
     "iopub.execute_input": "2023-05-08T11:47:15.072466Z",
     "iopub.status.busy": "2023-05-08T11:47:15.071961Z",
     "iopub.status.idle": "2023-05-08T11:47:15.759623Z",
     "shell.execute_reply": "2023-05-08T11:47:15.758530Z",
     "shell.execute_reply.started": "2023-05-08T11:47:15.072428Z"
    }
   },
   "outputs": [
    {
     "name": "stdout",
     "output_type": "stream",
     "text": [
      "125/125 [==============================] - 1s 4ms/step - loss: 2.9816 - binary_accuracy: 0.6988\n",
      "Test loss: 2.981630563735962\n",
      "Test accuracy: 0.6987500190734863\n"
     ]
    }
   ],
   "source": [
    "# Evaluate the model\n",
    "test_loss_lstm2, test_acc_lstm2 = model_lstm2.evaluate(X_test, y_test)\n",
    "\n",
    "print(\"Test loss:\", test_loss_lstm2)\n",
    "print(\"Test accuracy:\", test_acc_lstm2)"
   ]
  },
  {
   "cell_type": "markdown",
   "id": "64a11b59",
   "metadata": {},
   "source": [
    "**MODELO 3: Pruebo otro modelo LSTM pero ahora usando una capa Max Pooling:**"
   ]
  },
  {
   "cell_type": "code",
   "execution_count": 28,
   "id": "b31bff6b",
   "metadata": {
    "execution": {
     "iopub.execute_input": "2023-05-08T11:47:15.761872Z",
     "iopub.status.busy": "2023-05-08T11:47:15.761060Z",
     "iopub.status.idle": "2023-05-08T11:47:16.025878Z",
     "shell.execute_reply": "2023-05-08T11:47:16.025016Z",
     "shell.execute_reply.started": "2023-05-08T11:47:15.761838Z"
    }
   },
   "outputs": [],
   "source": [
    "inputs = tf.keras.layers.Input(shape=(maxlen,))\n",
    "embedding_layer = TokenAndPositionEmbedding(maxlen, vocab_size, embed_dim)\n",
    "x = embedding_layer(inputs)\n",
    "x = tf.keras.layers.LSTM(64)(x)\n",
    "x = tf.keras.layers.Reshape((-1, 64))(x)\n",
    "x = tf.keras.layers.GlobalMaxPooling1D()(x)\n",
    "output_layer = tf.keras.layers.Dense(1, activation=\"sigmoid\")(x)\n",
    "\n",
    "model_lstm3 = tf.keras.Model(inputs=inputs, outputs=output_layer)"
   ]
  },
  {
   "cell_type": "code",
   "execution_count": 29,
   "id": "7fd6f317",
   "metadata": {
    "execution": {
     "iopub.execute_input": "2023-05-08T11:47:16.029788Z",
     "iopub.status.busy": "2023-05-08T11:47:16.029511Z",
     "iopub.status.idle": "2023-05-08T11:47:16.059218Z",
     "shell.execute_reply": "2023-05-08T11:47:16.058536Z",
     "shell.execute_reply.started": "2023-05-08T11:47:16.029762Z"
    }
   },
   "outputs": [
    {
     "name": "stdout",
     "output_type": "stream",
     "text": [
      "Model: \"model_2\"\n",
      "_________________________________________________________________\n",
      " Layer (type)                Output Shape              Param #   \n",
      "=================================================================\n",
      " input_3 (InputLayer)        [(None, 34)]              0         \n",
      "                                                                 \n",
      " token_and_position_embeddin  (None, 34, 32)           97088     \n",
      " g_2 (TokenAndPositionEmbedd                                     \n",
      " ing)                                                            \n",
      "                                                                 \n",
      " lstm_3 (LSTM)               (None, 64)                24832     \n",
      "                                                                 \n",
      " reshape (Reshape)           (None, 1, 64)             0         \n",
      "                                                                 \n",
      " global_max_pooling1d (Globa  (None, 64)               0         \n",
      " lMaxPooling1D)                                                  \n",
      "                                                                 \n",
      " dense_2 (Dense)             (None, 1)                 65        \n",
      "                                                                 \n",
      "=================================================================\n",
      "Total params: 121,985\n",
      "Trainable params: 121,985\n",
      "Non-trainable params: 0\n",
      "_________________________________________________________________\n"
     ]
    }
   ],
   "source": [
    "#Compile the model\n",
    "model_lstm3.compile(optimizer='adam', loss='binary_crossentropy', metrics=['binary_accuracy'])\n",
    "model_lstm3.summary()"
   ]
  },
  {
   "cell_type": "code",
   "execution_count": 30,
   "id": "c1ee96f7",
   "metadata": {
    "execution": {
     "iopub.execute_input": "2023-05-08T11:47:16.060628Z",
     "iopub.status.busy": "2023-05-08T11:47:16.060269Z",
     "iopub.status.idle": "2023-05-08T11:48:18.251711Z",
     "shell.execute_reply": "2023-05-08T11:48:18.250721Z",
     "shell.execute_reply.started": "2023-05-08T11:47:16.060598Z"
    }
   },
   "outputs": [
    {
     "name": "stdout",
     "output_type": "stream",
     "text": [
      "Epoch 1/100\n",
      "63/63 [==============================] - 8s 88ms/step - loss: 0.6626 - binary_accuracy: 0.6022 - val_loss: 0.5974 - val_binary_accuracy: 0.6858\n",
      "Epoch 2/100\n",
      "63/63 [==============================] - 3s 46ms/step - loss: 0.5209 - binary_accuracy: 0.7493 - val_loss: 0.5306 - val_binary_accuracy: 0.7433\n",
      "Epoch 3/100\n",
      "63/63 [==============================] - 3s 40ms/step - loss: 0.4514 - binary_accuracy: 0.7926 - val_loss: 0.5108 - val_binary_accuracy: 0.7575\n",
      "Epoch 4/100\n",
      "63/63 [==============================] - 1s 23ms/step - loss: 0.4236 - binary_accuracy: 0.8117 - val_loss: 0.5132 - val_binary_accuracy: 0.7605\n",
      "Epoch 5/100\n",
      "63/63 [==============================] - 1s 21ms/step - loss: 0.4010 - binary_accuracy: 0.8221 - val_loss: 0.5233 - val_binary_accuracy: 0.7582\n",
      "Epoch 6/100\n",
      "63/63 [==============================] - 2s 24ms/step - loss: 0.3859 - binary_accuracy: 0.8327 - val_loss: 0.5326 - val_binary_accuracy: 0.7500\n",
      "Epoch 7/100\n",
      "63/63 [==============================] - 1s 12ms/step - loss: 0.3725 - binary_accuracy: 0.8401 - val_loss: 0.5595 - val_binary_accuracy: 0.7513\n",
      "Epoch 8/100\n",
      "63/63 [==============================] - 1s 13ms/step - loss: 0.3629 - binary_accuracy: 0.8443 - val_loss: 0.5827 - val_binary_accuracy: 0.7437\n",
      "Epoch 9/100\n",
      "63/63 [==============================] - 1s 14ms/step - loss: 0.3447 - binary_accuracy: 0.8544 - val_loss: 0.6017 - val_binary_accuracy: 0.7427\n",
      "Epoch 10/100\n",
      "63/63 [==============================] - 1s 13ms/step - loss: 0.3335 - binary_accuracy: 0.8595 - val_loss: 0.6178 - val_binary_accuracy: 0.7423\n",
      "Epoch 11/100\n",
      "63/63 [==============================] - 1s 13ms/step - loss: 0.3159 - binary_accuracy: 0.8664 - val_loss: 0.6385 - val_binary_accuracy: 0.7315\n",
      "Epoch 12/100\n",
      "63/63 [==============================] - 1s 10ms/step - loss: 0.2978 - binary_accuracy: 0.8754 - val_loss: 0.6585 - val_binary_accuracy: 0.7360\n",
      "Epoch 13/100\n",
      "63/63 [==============================] - 1s 11ms/step - loss: 0.2827 - binary_accuracy: 0.8835 - val_loss: 0.7206 - val_binary_accuracy: 0.7287\n",
      "Epoch 14/100\n",
      "63/63 [==============================] - 1s 11ms/step - loss: 0.2647 - binary_accuracy: 0.8901 - val_loss: 0.7531 - val_binary_accuracy: 0.7275\n",
      "Epoch 15/100\n",
      "63/63 [==============================] - 1s 11ms/step - loss: 0.2532 - binary_accuracy: 0.8944 - val_loss: 0.8028 - val_binary_accuracy: 0.7305\n",
      "Epoch 16/100\n",
      "63/63 [==============================] - 1s 13ms/step - loss: 0.2367 - binary_accuracy: 0.9023 - val_loss: 0.9503 - val_binary_accuracy: 0.7268\n",
      "Epoch 17/100\n",
      "63/63 [==============================] - 1s 11ms/step - loss: 0.2328 - binary_accuracy: 0.9045 - val_loss: 0.8170 - val_binary_accuracy: 0.7245\n",
      "Epoch 18/100\n",
      "63/63 [==============================] - 1s 9ms/step - loss: 0.2234 - binary_accuracy: 0.9088 - val_loss: 0.9050 - val_binary_accuracy: 0.7157\n",
      "Epoch 19/100\n",
      "63/63 [==============================] - 1s 11ms/step - loss: 0.2162 - binary_accuracy: 0.9106 - val_loss: 0.9177 - val_binary_accuracy: 0.7220\n",
      "Epoch 20/100\n",
      "63/63 [==============================] - 1s 13ms/step - loss: 0.1997 - binary_accuracy: 0.9191 - val_loss: 1.0036 - val_binary_accuracy: 0.7190\n",
      "Epoch 21/100\n",
      "63/63 [==============================] - 1s 10ms/step - loss: 0.1859 - binary_accuracy: 0.9249 - val_loss: 1.0312 - val_binary_accuracy: 0.7185\n",
      "Epoch 22/100\n",
      "63/63 [==============================] - 1s 10ms/step - loss: 0.1773 - binary_accuracy: 0.9291 - val_loss: 1.0679 - val_binary_accuracy: 0.7205\n",
      "Epoch 23/100\n",
      "63/63 [==============================] - 0s 8ms/step - loss: 0.1863 - binary_accuracy: 0.9246 - val_loss: 1.1208 - val_binary_accuracy: 0.7165\n",
      "Epoch 24/100\n",
      "63/63 [==============================] - 1s 11ms/step - loss: 0.1623 - binary_accuracy: 0.9341 - val_loss: 1.1664 - val_binary_accuracy: 0.7138\n",
      "Epoch 25/100\n",
      "63/63 [==============================] - 1s 14ms/step - loss: 0.1536 - binary_accuracy: 0.9374 - val_loss: 1.2556 - val_binary_accuracy: 0.7147\n",
      "Epoch 26/100\n",
      "63/63 [==============================] - 1s 10ms/step - loss: 0.1438 - binary_accuracy: 0.9416 - val_loss: 1.3161 - val_binary_accuracy: 0.7113\n",
      "Epoch 27/100\n",
      "63/63 [==============================] - 1s 11ms/step - loss: 0.1345 - binary_accuracy: 0.9457 - val_loss: 1.2186 - val_binary_accuracy: 0.7085\n",
      "Epoch 28/100\n",
      "63/63 [==============================] - 1s 9ms/step - loss: 0.1288 - binary_accuracy: 0.9486 - val_loss: 1.4164 - val_binary_accuracy: 0.7160\n",
      "Epoch 29/100\n",
      "63/63 [==============================] - 1s 13ms/step - loss: 0.1254 - binary_accuracy: 0.9497 - val_loss: 1.4470 - val_binary_accuracy: 0.7097\n",
      "Epoch 30/100\n",
      "63/63 [==============================] - 1s 8ms/step - loss: 0.1231 - binary_accuracy: 0.9513 - val_loss: 1.5458 - val_binary_accuracy: 0.7115\n",
      "Epoch 31/100\n",
      "63/63 [==============================] - 1s 12ms/step - loss: 0.1147 - binary_accuracy: 0.9531 - val_loss: 1.6020 - val_binary_accuracy: 0.7117\n",
      "Epoch 32/100\n",
      "63/63 [==============================] - 1s 8ms/step - loss: 0.1110 - binary_accuracy: 0.9540 - val_loss: 1.6257 - val_binary_accuracy: 0.7145\n",
      "Epoch 33/100\n",
      "63/63 [==============================] - 1s 9ms/step - loss: 0.1075 - binary_accuracy: 0.9551 - val_loss: 1.6050 - val_binary_accuracy: 0.7090\n",
      "Epoch 34/100\n",
      "63/63 [==============================] - 0s 8ms/step - loss: 0.1019 - binary_accuracy: 0.9578 - val_loss: 1.5636 - val_binary_accuracy: 0.7070\n",
      "Epoch 35/100\n",
      "63/63 [==============================] - 1s 8ms/step - loss: 0.0914 - binary_accuracy: 0.9637 - val_loss: 1.7875 - val_binary_accuracy: 0.7097\n",
      "Epoch 36/100\n",
      "63/63 [==============================] - 1s 8ms/step - loss: 0.0924 - binary_accuracy: 0.9632 - val_loss: 1.8421 - val_binary_accuracy: 0.7110\n",
      "Epoch 37/100\n",
      "63/63 [==============================] - 1s 9ms/step - loss: 0.0832 - binary_accuracy: 0.9652 - val_loss: 1.9244 - val_binary_accuracy: 0.6977\n",
      "Epoch 38/100\n",
      "63/63 [==============================] - 1s 13ms/step - loss: 0.0770 - binary_accuracy: 0.9696 - val_loss: 1.9529 - val_binary_accuracy: 0.6973\n",
      "Epoch 39/100\n",
      "63/63 [==============================] - 1s 11ms/step - loss: 0.0753 - binary_accuracy: 0.9697 - val_loss: 1.9478 - val_binary_accuracy: 0.6980\n",
      "Epoch 40/100\n",
      "63/63 [==============================] - 1s 11ms/step - loss: 0.0723 - binary_accuracy: 0.9712 - val_loss: 2.0991 - val_binary_accuracy: 0.7040\n",
      "Epoch 41/100\n",
      "63/63 [==============================] - 1s 10ms/step - loss: 0.0698 - binary_accuracy: 0.9716 - val_loss: 2.1182 - val_binary_accuracy: 0.7013\n",
      "Epoch 42/100\n",
      "63/63 [==============================] - 1s 13ms/step - loss: 0.0756 - binary_accuracy: 0.9689 - val_loss: 2.1404 - val_binary_accuracy: 0.7050\n",
      "Epoch 43/100\n",
      "63/63 [==============================] - 1s 15ms/step - loss: 0.0939 - binary_accuracy: 0.9621 - val_loss: 2.0129 - val_binary_accuracy: 0.6982\n",
      "Epoch 44/100\n",
      "63/63 [==============================] - 1s 17ms/step - loss: 0.0791 - binary_accuracy: 0.9682 - val_loss: 2.0804 - val_binary_accuracy: 0.7097\n",
      "Epoch 45/100\n",
      "63/63 [==============================] - 1s 12ms/step - loss: 0.0686 - binary_accuracy: 0.9719 - val_loss: 2.1708 - val_binary_accuracy: 0.7013\n",
      "Epoch 46/100\n",
      "63/63 [==============================] - 1s 8ms/step - loss: 0.0645 - binary_accuracy: 0.9733 - val_loss: 2.1895 - val_binary_accuracy: 0.7000\n",
      "Epoch 47/100\n",
      "63/63 [==============================] - 1s 9ms/step - loss: 0.0639 - binary_accuracy: 0.9741 - val_loss: 2.3061 - val_binary_accuracy: 0.7042\n",
      "Epoch 48/100\n",
      "63/63 [==============================] - 1s 10ms/step - loss: 0.0600 - binary_accuracy: 0.9753 - val_loss: 2.3279 - val_binary_accuracy: 0.6973\n",
      "Epoch 49/100\n",
      "63/63 [==============================] - 1s 10ms/step - loss: 0.0519 - binary_accuracy: 0.9794 - val_loss: 2.4654 - val_binary_accuracy: 0.6975\n",
      "Epoch 50/100\n",
      "63/63 [==============================] - 1s 10ms/step - loss: 0.0471 - binary_accuracy: 0.9804 - val_loss: 2.5668 - val_binary_accuracy: 0.6967\n",
      "Epoch 51/100\n",
      "63/63 [==============================] - 1s 10ms/step - loss: 0.0454 - binary_accuracy: 0.9819 - val_loss: 2.5668 - val_binary_accuracy: 0.6925\n",
      "Epoch 52/100\n",
      "63/63 [==============================] - 1s 9ms/step - loss: 0.0494 - binary_accuracy: 0.9804 - val_loss: 2.4647 - val_binary_accuracy: 0.6890\n",
      "Epoch 53/100\n",
      "63/63 [==============================] - 1s 11ms/step - loss: 0.0487 - binary_accuracy: 0.9802 - val_loss: 2.6532 - val_binary_accuracy: 0.6920\n",
      "Epoch 54/100\n",
      "63/63 [==============================] - 1s 10ms/step - loss: 0.0650 - binary_accuracy: 0.9726 - val_loss: 2.2969 - val_binary_accuracy: 0.6873\n",
      "Epoch 55/100\n",
      "63/63 [==============================] - 1s 12ms/step - loss: 0.0638 - binary_accuracy: 0.9750 - val_loss: 2.3367 - val_binary_accuracy: 0.6960\n",
      "Epoch 56/100\n",
      "63/63 [==============================] - 1s 12ms/step - loss: 0.0566 - binary_accuracy: 0.9776 - val_loss: 2.5047 - val_binary_accuracy: 0.6948\n",
      "Epoch 57/100\n",
      "63/63 [==============================] - 1s 10ms/step - loss: 0.0468 - binary_accuracy: 0.9812 - val_loss: 2.6014 - val_binary_accuracy: 0.6992\n",
      "Epoch 58/100\n",
      "63/63 [==============================] - 1s 10ms/step - loss: 0.0410 - binary_accuracy: 0.9844 - val_loss: 2.7079 - val_binary_accuracy: 0.6957\n",
      "Epoch 59/100\n",
      "63/63 [==============================] - 1s 10ms/step - loss: 0.0372 - binary_accuracy: 0.9849 - val_loss: 2.8006 - val_binary_accuracy: 0.6915\n",
      "Epoch 60/100\n",
      "63/63 [==============================] - 1s 10ms/step - loss: 0.0346 - binary_accuracy: 0.9871 - val_loss: 2.8532 - val_binary_accuracy: 0.6938\n",
      "Epoch 61/100\n",
      "63/63 [==============================] - 0s 8ms/step - loss: 0.0354 - binary_accuracy: 0.9866 - val_loss: 2.7981 - val_binary_accuracy: 0.6865\n",
      "Epoch 62/100\n",
      "63/63 [==============================] - 1s 18ms/step - loss: 0.0484 - binary_accuracy: 0.9809 - val_loss: 2.7211 - val_binary_accuracy: 0.6945\n",
      "Epoch 63/100\n",
      "63/63 [==============================] - 1s 14ms/step - loss: 0.0486 - binary_accuracy: 0.9802 - val_loss: 2.7105 - val_binary_accuracy: 0.6948\n",
      "Epoch 64/100\n",
      "63/63 [==============================] - 1s 15ms/step - loss: 0.0483 - binary_accuracy: 0.9803 - val_loss: 2.6313 - val_binary_accuracy: 0.6905\n",
      "Epoch 65/100\n",
      "63/63 [==============================] - 1s 11ms/step - loss: 0.0378 - binary_accuracy: 0.9847 - val_loss: 2.8214 - val_binary_accuracy: 0.6955\n",
      "Epoch 66/100\n",
      "63/63 [==============================] - 1s 13ms/step - loss: 0.0422 - binary_accuracy: 0.9839 - val_loss: 2.6169 - val_binary_accuracy: 0.6890\n",
      "Epoch 67/100\n",
      "63/63 [==============================] - 1s 11ms/step - loss: 0.0404 - binary_accuracy: 0.9829 - val_loss: 2.8048 - val_binary_accuracy: 0.6963\n",
      "Epoch 68/100\n",
      "63/63 [==============================] - 1s 11ms/step - loss: 0.0428 - binary_accuracy: 0.9837 - val_loss: 2.8715 - val_binary_accuracy: 0.6855\n",
      "Epoch 69/100\n",
      "63/63 [==============================] - 1s 12ms/step - loss: 0.0418 - binary_accuracy: 0.9834 - val_loss: 2.5909 - val_binary_accuracy: 0.6860\n",
      "Epoch 70/100\n",
      "63/63 [==============================] - 1s 10ms/step - loss: 0.0378 - binary_accuracy: 0.9844 - val_loss: 2.7269 - val_binary_accuracy: 0.6977\n"
     ]
    }
   ],
   "source": [
    "#Fit the model\n",
    "history_lstm3 = model_lstm3.fit(X_train, y_train, \n",
    "                    validation_data=(X_test, y_test),\n",
    "                    epochs=100, batch_size=256,\n",
    "                    callbacks=[earlystop_callback],\n",
    "                    verbose=1)"
   ]
  },
  {
   "cell_type": "code",
   "execution_count": 31,
   "id": "a08d4703",
   "metadata": {
    "execution": {
     "iopub.execute_input": "2023-05-08T11:48:18.253449Z",
     "iopub.status.busy": "2023-05-08T11:48:18.253091Z",
     "iopub.status.idle": "2023-05-08T11:48:18.938981Z",
     "shell.execute_reply": "2023-05-08T11:48:18.938024Z",
     "shell.execute_reply.started": "2023-05-08T11:48:18.253415Z"
    }
   },
   "outputs": [
    {
     "name": "stdout",
     "output_type": "stream",
     "text": [
      "125/125 [==============================] - 0s 3ms/step - loss: 2.7269 - binary_accuracy: 0.6977\n",
      "Test loss: 2.7268576622009277\n",
      "Test accuracy: 0.6977499723434448\n"
     ]
    }
   ],
   "source": [
    "# Evaluate the model\n",
    "test_loss_lstm3, test_acc_lstm3 = model_lstm3.evaluate(X_test, y_test)\n",
    "\n",
    "print(\"Test loss:\", test_loss_lstm3)\n",
    "print(\"Test accuracy:\", test_acc_lstm3)"
   ]
  },
  {
   "cell_type": "markdown",
   "id": "54532bd1",
   "metadata": {},
   "source": [
    "**MODELO 4: Pruebo otro modelo usando una capa simple RNN**"
   ]
  },
  {
   "cell_type": "code",
   "execution_count": 32,
   "id": "459964c3",
   "metadata": {
    "execution": {
     "iopub.execute_input": "2023-05-08T11:48:18.940922Z",
     "iopub.status.busy": "2023-05-08T11:48:18.940563Z",
     "iopub.status.idle": "2023-05-08T11:48:19.050098Z",
     "shell.execute_reply": "2023-05-08T11:48:19.049269Z",
     "shell.execute_reply.started": "2023-05-08T11:48:18.940887Z"
    }
   },
   "outputs": [],
   "source": [
    "inputs = tf.keras.layers.Input(shape=(maxlen,))\n",
    "embedding_layer = TokenAndPositionEmbedding(maxlen, vocab_size, embed_dim)\n",
    "x = embedding_layer(inputs)\n",
    "x = tf.keras.layers.Dropout(0.5)(x)\n",
    "x = tf.keras.layers.SimpleRNN(64)(x)\n",
    "x = tf.keras.layers.Dropout(0.5)(x)\n",
    "output_layer = tf.keras.layers.Dense(1, activation=\"sigmoid\")(x)\n",
    "\n",
    "model_rnn1 = tf.keras.Model(inputs=inputs, outputs=output_layer)"
   ]
  },
  {
   "cell_type": "code",
   "execution_count": 33,
   "id": "96bdb06a",
   "metadata": {
    "execution": {
     "iopub.execute_input": "2023-05-08T11:48:19.051680Z",
     "iopub.status.busy": "2023-05-08T11:48:19.051342Z",
     "iopub.status.idle": "2023-05-08T11:48:19.082973Z",
     "shell.execute_reply": "2023-05-08T11:48:19.082234Z",
     "shell.execute_reply.started": "2023-05-08T11:48:19.051646Z"
    }
   },
   "outputs": [
    {
     "name": "stdout",
     "output_type": "stream",
     "text": [
      "Model: \"model_3\"\n",
      "_________________________________________________________________\n",
      " Layer (type)                Output Shape              Param #   \n",
      "=================================================================\n",
      " input_4 (InputLayer)        [(None, 34)]              0         \n",
      "                                                                 \n",
      " token_and_position_embeddin  (None, 34, 32)           97088     \n",
      " g_3 (TokenAndPositionEmbedd                                     \n",
      " ing)                                                            \n",
      "                                                                 \n",
      " dropout_4 (Dropout)         (None, 34, 32)            0         \n",
      "                                                                 \n",
      " simple_rnn (SimpleRNN)      (None, 64)                6208      \n",
      "                                                                 \n",
      " dropout_5 (Dropout)         (None, 64)                0         \n",
      "                                                                 \n",
      " dense_3 (Dense)             (None, 1)                 65        \n",
      "                                                                 \n",
      "=================================================================\n",
      "Total params: 103,361\n",
      "Trainable params: 103,361\n",
      "Non-trainable params: 0\n",
      "_________________________________________________________________\n"
     ]
    }
   ],
   "source": [
    "#Compile the model\n",
    "model_rnn1.compile(optimizer='adam', loss='binary_crossentropy', metrics=['binary_accuracy'])\n",
    "model_rnn1.summary()"
   ]
  },
  {
   "cell_type": "code",
   "execution_count": 34,
   "id": "e1871fd8",
   "metadata": {
    "execution": {
     "iopub.execute_input": "2023-05-08T11:48:19.084242Z",
     "iopub.status.busy": "2023-05-08T11:48:19.083928Z",
     "iopub.status.idle": "2023-05-08T11:51:42.819935Z",
     "shell.execute_reply": "2023-05-08T11:51:42.818962Z",
     "shell.execute_reply.started": "2023-05-08T11:48:19.084211Z"
    }
   },
   "outputs": [
    {
     "name": "stdout",
     "output_type": "stream",
     "text": [
      "Epoch 1/100\n",
      "63/63 - 8s - loss: 0.6991 - binary_accuracy: 0.5101 - val_loss: 0.6780 - val_binary_accuracy: 0.6140 - 8s/epoch - 134ms/step\n",
      "Epoch 2/100\n",
      "63/63 - 6s - loss: 0.6469 - binary_accuracy: 0.6269 - val_loss: 0.5879 - val_binary_accuracy: 0.7005 - 6s/epoch - 94ms/step\n",
      "Epoch 3/100\n",
      "63/63 - 4s - loss: 0.5573 - binary_accuracy: 0.7237 - val_loss: 0.5572 - val_binary_accuracy: 0.7128 - 4s/epoch - 57ms/step\n",
      "Epoch 4/100\n",
      "63/63 - 3s - loss: 0.5042 - binary_accuracy: 0.7619 - val_loss: 0.5271 - val_binary_accuracy: 0.7480 - 3s/epoch - 53ms/step\n",
      "Epoch 5/100\n",
      "63/63 - 3s - loss: 0.4596 - binary_accuracy: 0.7874 - val_loss: 0.5295 - val_binary_accuracy: 0.7400 - 3s/epoch - 48ms/step\n",
      "Epoch 6/100\n",
      "63/63 - 3s - loss: 0.4412 - binary_accuracy: 0.8034 - val_loss: 0.5197 - val_binary_accuracy: 0.7495 - 3s/epoch - 42ms/step\n",
      "Epoch 7/100\n",
      "63/63 - 3s - loss: 0.4137 - binary_accuracy: 0.8150 - val_loss: 0.5324 - val_binary_accuracy: 0.7458 - 3s/epoch - 43ms/step\n",
      "Epoch 8/100\n",
      "63/63 - 3s - loss: 0.3873 - binary_accuracy: 0.8321 - val_loss: 0.5398 - val_binary_accuracy: 0.7508 - 3s/epoch - 46ms/step\n",
      "Epoch 9/100\n",
      "63/63 - 2s - loss: 0.3639 - binary_accuracy: 0.8401 - val_loss: 0.5737 - val_binary_accuracy: 0.7312 - 2s/epoch - 37ms/step\n",
      "Epoch 10/100\n",
      "63/63 - 3s - loss: 0.3378 - binary_accuracy: 0.8565 - val_loss: 0.5877 - val_binary_accuracy: 0.7372 - 3s/epoch - 42ms/step\n",
      "Epoch 11/100\n",
      "63/63 - 3s - loss: 0.3164 - binary_accuracy: 0.8641 - val_loss: 0.6150 - val_binary_accuracy: 0.7272 - 3s/epoch - 42ms/step\n",
      "Epoch 12/100\n",
      "63/63 - 3s - loss: 0.2951 - binary_accuracy: 0.8751 - val_loss: 0.6686 - val_binary_accuracy: 0.7258 - 3s/epoch - 51ms/step\n",
      "Epoch 13/100\n",
      "63/63 - 3s - loss: 0.2823 - binary_accuracy: 0.8816 - val_loss: 0.6678 - val_binary_accuracy: 0.7303 - 3s/epoch - 42ms/step\n",
      "Epoch 14/100\n",
      "63/63 - 3s - loss: 0.2602 - binary_accuracy: 0.8929 - val_loss: 0.6851 - val_binary_accuracy: 0.7228 - 3s/epoch - 41ms/step\n",
      "Epoch 15/100\n",
      "63/63 - 2s - loss: 0.2471 - binary_accuracy: 0.8971 - val_loss: 0.7049 - val_binary_accuracy: 0.7180 - 2s/epoch - 39ms/step\n",
      "Epoch 16/100\n",
      "63/63 - 3s - loss: 0.2365 - binary_accuracy: 0.9023 - val_loss: 0.7373 - val_binary_accuracy: 0.7203 - 3s/epoch - 41ms/step\n",
      "Epoch 17/100\n",
      "63/63 - 2s - loss: 0.2255 - binary_accuracy: 0.9074 - val_loss: 0.7466 - val_binary_accuracy: 0.7125 - 2s/epoch - 37ms/step\n",
      "Epoch 18/100\n",
      "63/63 - 2s - loss: 0.2210 - binary_accuracy: 0.9086 - val_loss: 0.7675 - val_binary_accuracy: 0.7270 - 2s/epoch - 39ms/step\n",
      "Epoch 19/100\n",
      "63/63 - 3s - loss: 0.2156 - binary_accuracy: 0.9091 - val_loss: 0.8062 - val_binary_accuracy: 0.7222 - 3s/epoch - 41ms/step\n",
      "Epoch 20/100\n",
      "63/63 - 3s - loss: 0.2053 - binary_accuracy: 0.9137 - val_loss: 0.8177 - val_binary_accuracy: 0.7178 - 3s/epoch - 41ms/step\n",
      "Epoch 21/100\n",
      "63/63 - 3s - loss: 0.1928 - binary_accuracy: 0.9222 - val_loss: 0.8513 - val_binary_accuracy: 0.7028 - 3s/epoch - 41ms/step\n",
      "Epoch 22/100\n",
      "63/63 - 3s - loss: 0.1878 - binary_accuracy: 0.9241 - val_loss: 0.8410 - val_binary_accuracy: 0.7165 - 3s/epoch - 42ms/step\n",
      "Epoch 23/100\n",
      "63/63 - 2s - loss: 0.1815 - binary_accuracy: 0.9249 - val_loss: 0.9127 - val_binary_accuracy: 0.7117 - 2s/epoch - 39ms/step\n",
      "Epoch 24/100\n",
      "63/63 - 3s - loss: 0.1812 - binary_accuracy: 0.9258 - val_loss: 0.8685 - val_binary_accuracy: 0.7092 - 3s/epoch - 44ms/step\n",
      "Epoch 25/100\n",
      "63/63 - 3s - loss: 0.1760 - binary_accuracy: 0.9299 - val_loss: 0.9069 - val_binary_accuracy: 0.7100 - 3s/epoch - 47ms/step\n",
      "Epoch 26/100\n",
      "63/63 - 2s - loss: 0.1794 - binary_accuracy: 0.9240 - val_loss: 0.9139 - val_binary_accuracy: 0.7040 - 2s/epoch - 38ms/step\n",
      "Epoch 27/100\n",
      "63/63 - 2s - loss: 0.1730 - binary_accuracy: 0.9282 - val_loss: 0.9249 - val_binary_accuracy: 0.7138 - 2s/epoch - 37ms/step\n",
      "Epoch 28/100\n",
      "63/63 - 3s - loss: 0.1723 - binary_accuracy: 0.9286 - val_loss: 0.9090 - val_binary_accuracy: 0.7028 - 3s/epoch - 41ms/step\n",
      "Epoch 29/100\n",
      "63/63 - 3s - loss: 0.1652 - binary_accuracy: 0.9324 - val_loss: 0.9413 - val_binary_accuracy: 0.6992 - 3s/epoch - 40ms/step\n",
      "Epoch 30/100\n",
      "63/63 - 3s - loss: 0.1661 - binary_accuracy: 0.9314 - val_loss: 0.9772 - val_binary_accuracy: 0.7150 - 3s/epoch - 40ms/step\n",
      "Epoch 31/100\n",
      "63/63 - 2s - loss: 0.1612 - binary_accuracy: 0.9349 - val_loss: 0.9611 - val_binary_accuracy: 0.7035 - 2s/epoch - 35ms/step\n",
      "Epoch 32/100\n",
      "63/63 - 3s - loss: 0.1571 - binary_accuracy: 0.9356 - val_loss: 0.9671 - val_binary_accuracy: 0.7063 - 3s/epoch - 41ms/step\n",
      "Epoch 33/100\n",
      "63/63 - 3s - loss: 0.1530 - binary_accuracy: 0.9367 - val_loss: 0.9732 - val_binary_accuracy: 0.7035 - 3s/epoch - 40ms/step\n",
      "Epoch 34/100\n",
      "63/63 - 3s - loss: 0.1492 - binary_accuracy: 0.9394 - val_loss: 1.0519 - val_binary_accuracy: 0.7090 - 3s/epoch - 40ms/step\n",
      "Epoch 35/100\n",
      "63/63 - 2s - loss: 0.1564 - binary_accuracy: 0.9354 - val_loss: 0.9968 - val_binary_accuracy: 0.6995 - 2s/epoch - 38ms/step\n",
      "Epoch 36/100\n",
      "63/63 - 3s - loss: 0.1549 - binary_accuracy: 0.9359 - val_loss: 1.0047 - val_binary_accuracy: 0.6977 - 3s/epoch - 40ms/step\n",
      "Epoch 37/100\n",
      "63/63 - 3s - loss: 0.1515 - binary_accuracy: 0.9380 - val_loss: 1.0043 - val_binary_accuracy: 0.6955 - 3s/epoch - 50ms/step\n",
      "Epoch 38/100\n",
      "63/63 - 3s - loss: 0.1565 - binary_accuracy: 0.9355 - val_loss: 1.0047 - val_binary_accuracy: 0.7157 - 3s/epoch - 42ms/step\n",
      "Epoch 39/100\n",
      "63/63 - 2s - loss: 0.1498 - binary_accuracy: 0.9381 - val_loss: 1.0464 - val_binary_accuracy: 0.6895 - 2s/epoch - 37ms/step\n",
      "Epoch 40/100\n",
      "63/63 - 2s - loss: 0.1486 - binary_accuracy: 0.9379 - val_loss: 1.0432 - val_binary_accuracy: 0.7023 - 2s/epoch - 37ms/step\n",
      "Epoch 41/100\n",
      "63/63 - 2s - loss: 0.1420 - binary_accuracy: 0.9431 - val_loss: 1.0581 - val_binary_accuracy: 0.7125 - 2s/epoch - 35ms/step\n",
      "Epoch 42/100\n",
      "63/63 - 3s - loss: 0.1343 - binary_accuracy: 0.9443 - val_loss: 1.0880 - val_binary_accuracy: 0.6990 - 3s/epoch - 41ms/step\n",
      "Epoch 43/100\n",
      "63/63 - 2s - loss: 0.1392 - binary_accuracy: 0.9423 - val_loss: 1.0826 - val_binary_accuracy: 0.7055 - 2s/epoch - 38ms/step\n",
      "Epoch 44/100\n",
      "63/63 - 2s - loss: 0.1442 - binary_accuracy: 0.9400 - val_loss: 1.0748 - val_binary_accuracy: 0.7168 - 2s/epoch - 36ms/step\n",
      "Epoch 45/100\n",
      "63/63 - 3s - loss: 0.1401 - binary_accuracy: 0.9430 - val_loss: 1.0934 - val_binary_accuracy: 0.7010 - 3s/epoch - 40ms/step\n",
      "Epoch 46/100\n",
      "63/63 - 2s - loss: 0.1418 - binary_accuracy: 0.9425 - val_loss: 1.0741 - val_binary_accuracy: 0.7042 - 2s/epoch - 38ms/step\n",
      "Epoch 47/100\n",
      "63/63 - 2s - loss: 0.1365 - binary_accuracy: 0.9438 - val_loss: 1.0931 - val_binary_accuracy: 0.7020 - 2s/epoch - 39ms/step\n",
      "Epoch 48/100\n",
      "63/63 - 2s - loss: 0.1427 - binary_accuracy: 0.9417 - val_loss: 1.0765 - val_binary_accuracy: 0.7030 - 2s/epoch - 38ms/step\n",
      "Epoch 49/100\n",
      "63/63 - 2s - loss: 0.1414 - binary_accuracy: 0.9431 - val_loss: 1.1002 - val_binary_accuracy: 0.6940 - 2s/epoch - 36ms/step\n",
      "Epoch 50/100\n",
      "63/63 - 3s - loss: 0.1297 - binary_accuracy: 0.9462 - val_loss: 1.1271 - val_binary_accuracy: 0.7005 - 3s/epoch - 46ms/step\n",
      "Epoch 51/100\n",
      "63/63 - 3s - loss: 0.1364 - binary_accuracy: 0.9434 - val_loss: 1.1373 - val_binary_accuracy: 0.6973 - 3s/epoch - 42ms/step\n",
      "Epoch 52/100\n",
      "63/63 - 2s - loss: 0.1328 - binary_accuracy: 0.9443 - val_loss: 1.1335 - val_binary_accuracy: 0.6942 - 2s/epoch - 36ms/step\n",
      "Epoch 53/100\n",
      "63/63 - 2s - loss: 0.1338 - binary_accuracy: 0.9443 - val_loss: 1.1511 - val_binary_accuracy: 0.6998 - 2s/epoch - 38ms/step\n",
      "Epoch 54/100\n",
      "63/63 - 2s - loss: 0.1316 - binary_accuracy: 0.9469 - val_loss: 1.1197 - val_binary_accuracy: 0.6960 - 2s/epoch - 39ms/step\n",
      "Epoch 55/100\n",
      "63/63 - 2s - loss: 0.1269 - binary_accuracy: 0.9473 - val_loss: 1.1610 - val_binary_accuracy: 0.6902 - 2s/epoch - 36ms/step\n",
      "Epoch 56/100\n",
      "63/63 - 3s - loss: 0.1296 - binary_accuracy: 0.9467 - val_loss: 1.1610 - val_binary_accuracy: 0.6998 - 3s/epoch - 40ms/step\n",
      "Epoch 57/100\n",
      "63/63 - 2s - loss: 0.1273 - binary_accuracy: 0.9458 - val_loss: 1.1907 - val_binary_accuracy: 0.7078 - 2s/epoch - 39ms/step\n",
      "Epoch 58/100\n",
      "63/63 - 2s - loss: 0.1264 - binary_accuracy: 0.9481 - val_loss: 1.1690 - val_binary_accuracy: 0.6952 - 2s/epoch - 38ms/step\n",
      "Epoch 59/100\n",
      "63/63 - 3s - loss: 0.1291 - binary_accuracy: 0.9474 - val_loss: 1.1719 - val_binary_accuracy: 0.6960 - 3s/epoch - 43ms/step\n",
      "Epoch 60/100\n",
      "63/63 - 3s - loss: 0.1271 - binary_accuracy: 0.9466 - val_loss: 1.2518 - val_binary_accuracy: 0.6917 - 3s/epoch - 40ms/step\n",
      "Epoch 61/100\n",
      "63/63 - 2s - loss: 0.1382 - binary_accuracy: 0.9430 - val_loss: 1.1100 - val_binary_accuracy: 0.7003 - 2s/epoch - 36ms/step\n",
      "Epoch 62/100\n",
      "63/63 - 3s - loss: 0.1278 - binary_accuracy: 0.9486 - val_loss: 1.1458 - val_binary_accuracy: 0.6935 - 3s/epoch - 48ms/step\n",
      "Epoch 63/100\n",
      "63/63 - 2s - loss: 0.1237 - binary_accuracy: 0.9498 - val_loss: 1.2118 - val_binary_accuracy: 0.6955 - 2s/epoch - 39ms/step\n",
      "Epoch 64/100\n",
      "63/63 - 3s - loss: 0.1304 - binary_accuracy: 0.9464 - val_loss: 1.1505 - val_binary_accuracy: 0.6960 - 3s/epoch - 42ms/step\n",
      "Epoch 65/100\n",
      "63/63 - 2s - loss: 0.1247 - binary_accuracy: 0.9489 - val_loss: 1.2000 - val_binary_accuracy: 0.7015 - 2s/epoch - 38ms/step\n",
      "Epoch 66/100\n",
      "63/63 - 2s - loss: 0.1185 - binary_accuracy: 0.9518 - val_loss: 1.2305 - val_binary_accuracy: 0.6940 - 2s/epoch - 36ms/step\n",
      "Epoch 67/100\n",
      "63/63 - 2s - loss: 0.1200 - binary_accuracy: 0.9506 - val_loss: 1.1878 - val_binary_accuracy: 0.6933 - 2s/epoch - 38ms/step\n",
      "Epoch 68/100\n",
      "63/63 - 2s - loss: 0.1220 - binary_accuracy: 0.9502 - val_loss: 1.2480 - val_binary_accuracy: 0.6945 - 2s/epoch - 37ms/step\n",
      "Epoch 69/100\n",
      "63/63 - 2s - loss: 0.1229 - binary_accuracy: 0.9502 - val_loss: 1.2104 - val_binary_accuracy: 0.7030 - 2s/epoch - 37ms/step\n",
      "Epoch 70/100\n",
      "63/63 - 2s - loss: 0.1185 - binary_accuracy: 0.9517 - val_loss: 1.2960 - val_binary_accuracy: 0.6970 - 2s/epoch - 36ms/step\n",
      "Epoch 71/100\n",
      "63/63 - 3s - loss: 0.1329 - binary_accuracy: 0.9462 - val_loss: 1.1944 - val_binary_accuracy: 0.6933 - 3s/epoch - 40ms/step\n",
      "Epoch 72/100\n",
      "63/63 - 2s - loss: 0.1255 - binary_accuracy: 0.9478 - val_loss: 1.1725 - val_binary_accuracy: 0.6930 - 2s/epoch - 37ms/step\n",
      "Epoch 73/100\n",
      "63/63 - 2s - loss: 0.1208 - binary_accuracy: 0.9519 - val_loss: 1.2179 - val_binary_accuracy: 0.7007 - 2s/epoch - 38ms/step\n",
      "Epoch 74/100\n",
      "63/63 - 2s - loss: 0.1225 - binary_accuracy: 0.9508 - val_loss: 1.2098 - val_binary_accuracy: 0.6925 - 2s/epoch - 38ms/step\n",
      "Epoch 75/100\n",
      "63/63 - 3s - loss: 0.1224 - binary_accuracy: 0.9510 - val_loss: 1.2543 - val_binary_accuracy: 0.6923 - 3s/epoch - 53ms/step\n",
      "Epoch 76/100\n",
      "63/63 - 2s - loss: 0.1200 - binary_accuracy: 0.9513 - val_loss: 1.2303 - val_binary_accuracy: 0.7005 - 2s/epoch - 37ms/step\n"
     ]
    }
   ],
   "source": [
    "#Fit the model\n",
    "history_rnn1 = model_rnn1.fit(X_train, y_train, \n",
    "                    validation_data=(X_test, y_test),\n",
    "                    epochs=100, batch_size=256,\n",
    "                    callbacks=[earlystop_callback],\n",
    "                    verbose=2)"
   ]
  },
  {
   "cell_type": "code",
   "execution_count": 35,
   "id": "8a98f6b5",
   "metadata": {
    "execution": {
     "iopub.execute_input": "2023-05-08T11:51:42.821986Z",
     "iopub.status.busy": "2023-05-08T11:51:42.821637Z",
     "iopub.status.idle": "2023-05-08T11:52:43.553350Z",
     "shell.execute_reply": "2023-05-08T11:52:43.552352Z",
     "shell.execute_reply.started": "2023-05-08T11:51:42.821953Z"
    }
   },
   "outputs": [
    {
     "name": "stdout",
     "output_type": "stream",
     "text": [
      "125/125 [==============================] - 1s 5ms/step - loss: 1.2303 - binary_accuracy: 0.7005\n",
      "Test loss: 1.2302885055541992\n",
      "Test accuracy: 0.7005000114440918\n"
     ]
    }
   ],
   "source": [
    "# Evaluate the model\n",
    "test_loss4, test_acc4 = model_rnn1.evaluate(X_test, y_test)\n",
    "\n",
    "print(\"Test loss:\", test_loss4)\n",
    "print(\"Test accuracy:\", test_acc4)"
   ]
  },
  {
   "cell_type": "markdown",
   "id": "1b04a167",
   "metadata": {},
   "source": [
    "**MODELO 5: Pruebo otro modelo modificando los parámetros de la capa RNN y agregando más**"
   ]
  },
  {
   "cell_type": "code",
   "execution_count": 36,
   "id": "6ac9d653",
   "metadata": {
    "execution": {
     "iopub.execute_input": "2023-05-08T11:52:43.555218Z",
     "iopub.status.busy": "2023-05-08T11:52:43.554885Z",
     "iopub.status.idle": "2023-05-08T11:52:43.724584Z",
     "shell.execute_reply": "2023-05-08T11:52:43.723659Z",
     "shell.execute_reply.started": "2023-05-08T11:52:43.555187Z"
    },
    "scrolled": true
   },
   "outputs": [],
   "source": [
    "inputs = tf.keras.layers.Input(shape=(maxlen,))\n",
    "embedding_layer = TokenAndPositionEmbedding(maxlen, vocab_size, embed_dim)\n",
    "x = embedding_layer(inputs)\n",
    "x = tf.keras.layers.Reshape((maxlen, embed_dim))(x)\n",
    "x = tf.keras.layers.SimpleRNN(128, return_sequences=True)(x)\n",
    "x = tf.keras.layers.Dropout(0.5)(x)\n",
    "x = tf.keras.layers.SimpleRNN(128)(x)\n",
    "x = tf.keras.layers.Dropout(0.5)(x)\n",
    "x = tf.keras.layers.Dense(128, activation=\"relu\")(x)\n",
    "x = tf.keras.layers.Dropout(0.5)(x)\n",
    "output_layer = tf.keras.layers.Dense(1, activation=\"sigmoid\")(x)\n",
    "    \n",
    "model_rnn2 = tf.keras.Model(inputs=inputs, outputs=output_layer)"
   ]
  },
  {
   "cell_type": "code",
   "execution_count": 37,
   "id": "68e6aa02",
   "metadata": {
    "execution": {
     "iopub.execute_input": "2023-05-08T11:52:43.726133Z",
     "iopub.status.busy": "2023-05-08T11:52:43.725788Z",
     "iopub.status.idle": "2023-05-08T11:52:43.763698Z",
     "shell.execute_reply": "2023-05-08T11:52:43.763020Z",
     "shell.execute_reply.started": "2023-05-08T11:52:43.726101Z"
    }
   },
   "outputs": [
    {
     "name": "stdout",
     "output_type": "stream",
     "text": [
      "Model: \"model_4\"\n",
      "_________________________________________________________________\n",
      " Layer (type)                Output Shape              Param #   \n",
      "=================================================================\n",
      " input_5 (InputLayer)        [(None, 34)]              0         \n",
      "                                                                 \n",
      " token_and_position_embeddin  (None, 34, 32)           97088     \n",
      " g_4 (TokenAndPositionEmbedd                                     \n",
      " ing)                                                            \n",
      "                                                                 \n",
      " reshape_1 (Reshape)         (None, 34, 32)            0         \n",
      "                                                                 \n",
      " simple_rnn_1 (SimpleRNN)    (None, 34, 128)           20608     \n",
      "                                                                 \n",
      " dropout_6 (Dropout)         (None, 34, 128)           0         \n",
      "                                                                 \n",
      " simple_rnn_2 (SimpleRNN)    (None, 128)               32896     \n",
      "                                                                 \n",
      " dropout_7 (Dropout)         (None, 128)               0         \n",
      "                                                                 \n",
      " dense_4 (Dense)             (None, 128)               16512     \n",
      "                                                                 \n",
      " dropout_8 (Dropout)         (None, 128)               0         \n",
      "                                                                 \n",
      " dense_5 (Dense)             (None, 1)                 129       \n",
      "                                                                 \n",
      "=================================================================\n",
      "Total params: 167,233\n",
      "Trainable params: 167,233\n",
      "Non-trainable params: 0\n",
      "_________________________________________________________________\n"
     ]
    }
   ],
   "source": [
    "#Compile the model\n",
    "model_rnn2.compile(optimizer='adam', loss='binary_crossentropy', metrics=['binary_accuracy'])\n",
    "model_rnn2.summary()"
   ]
  },
  {
   "cell_type": "code",
   "execution_count": 38,
   "id": "a28af64a",
   "metadata": {
    "execution": {
     "iopub.execute_input": "2023-05-08T11:52:43.764917Z",
     "iopub.status.busy": "2023-05-08T11:52:43.764598Z",
     "iopub.status.idle": "2023-05-08T11:57:26.197131Z",
     "shell.execute_reply": "2023-05-08T11:57:26.196144Z",
     "shell.execute_reply.started": "2023-05-08T11:52:43.764877Z"
    }
   },
   "outputs": [
    {
     "name": "stdout",
     "output_type": "stream",
     "text": [
      "Epoch 1/100\n",
      "63/63 - 14s - loss: 0.7192 - binary_accuracy: 0.5038 - val_loss: 0.6959 - val_binary_accuracy: 0.4975 - 14s/epoch - 215ms/step\n",
      "Epoch 2/100\n",
      "63/63 - 8s - loss: 0.7024 - binary_accuracy: 0.5012 - val_loss: 0.6925 - val_binary_accuracy: 0.4983 - 8s/epoch - 129ms/step\n",
      "Epoch 3/100\n",
      "63/63 - 7s - loss: 0.6894 - binary_accuracy: 0.5414 - val_loss: 0.6779 - val_binary_accuracy: 0.6085 - 7s/epoch - 119ms/step\n",
      "Epoch 4/100\n",
      "63/63 - 6s - loss: 0.6225 - binary_accuracy: 0.6543 - val_loss: 0.5572 - val_binary_accuracy: 0.7240 - 6s/epoch - 102ms/step\n",
      "Epoch 5/100\n",
      "63/63 - 6s - loss: 0.5184 - binary_accuracy: 0.7510 - val_loss: 0.5332 - val_binary_accuracy: 0.7322 - 6s/epoch - 93ms/step\n",
      "Epoch 6/100\n",
      "63/63 - 6s - loss: 0.4619 - binary_accuracy: 0.7939 - val_loss: 0.5811 - val_binary_accuracy: 0.7370 - 6s/epoch - 95ms/step\n",
      "Epoch 7/100\n",
      "63/63 - 6s - loss: 0.4297 - binary_accuracy: 0.8115 - val_loss: 0.5253 - val_binary_accuracy: 0.7540 - 6s/epoch - 98ms/step\n",
      "Epoch 8/100\n",
      "63/63 - 6s - loss: 0.3789 - binary_accuracy: 0.8418 - val_loss: 0.5612 - val_binary_accuracy: 0.7423 - 6s/epoch - 103ms/step\n",
      "Epoch 9/100\n",
      "63/63 - 6s - loss: 0.3326 - binary_accuracy: 0.8612 - val_loss: 0.6235 - val_binary_accuracy: 0.7303 - 6s/epoch - 103ms/step\n",
      "Epoch 10/100\n",
      "63/63 - 6s - loss: 0.2712 - binary_accuracy: 0.8896 - val_loss: 0.8508 - val_binary_accuracy: 0.7105 - 6s/epoch - 95ms/step\n",
      "Epoch 11/100\n",
      "63/63 - 6s - loss: 0.2402 - binary_accuracy: 0.9021 - val_loss: 0.8373 - val_binary_accuracy: 0.7097 - 6s/epoch - 93ms/step\n",
      "Epoch 12/100\n",
      "63/63 - 6s - loss: 0.1732 - binary_accuracy: 0.9327 - val_loss: 1.0696 - val_binary_accuracy: 0.6745 - 6s/epoch - 88ms/step\n",
      "Epoch 13/100\n",
      "63/63 - 6s - loss: 0.1547 - binary_accuracy: 0.9391 - val_loss: 1.0051 - val_binary_accuracy: 0.7145 - 6s/epoch - 90ms/step\n",
      "Epoch 14/100\n",
      "63/63 - 6s - loss: 0.1378 - binary_accuracy: 0.9476 - val_loss: 1.2280 - val_binary_accuracy: 0.6927 - 6s/epoch - 97ms/step\n",
      "Epoch 15/100\n",
      "63/63 - 5s - loss: 0.1056 - binary_accuracy: 0.9582 - val_loss: 1.2831 - val_binary_accuracy: 0.6960 - 5s/epoch - 86ms/step\n",
      "Epoch 16/100\n",
      "63/63 - 6s - loss: 0.0977 - binary_accuracy: 0.9622 - val_loss: 1.4712 - val_binary_accuracy: 0.6935 - 6s/epoch - 93ms/step\n",
      "Epoch 17/100\n",
      "63/63 - 6s - loss: 0.0846 - binary_accuracy: 0.9669 - val_loss: 1.6134 - val_binary_accuracy: 0.6982 - 6s/epoch - 90ms/step\n",
      "Epoch 18/100\n",
      "63/63 - 6s - loss: 0.0712 - binary_accuracy: 0.9736 - val_loss: 1.7993 - val_binary_accuracy: 0.6747 - 6s/epoch - 95ms/step\n",
      "Epoch 19/100\n",
      "63/63 - 6s - loss: 0.0794 - binary_accuracy: 0.9684 - val_loss: 1.7598 - val_binary_accuracy: 0.6715 - 6s/epoch - 100ms/step\n",
      "Epoch 20/100\n",
      "63/63 - 6s - loss: 0.0712 - binary_accuracy: 0.9726 - val_loss: 1.8882 - val_binary_accuracy: 0.6618 - 6s/epoch - 91ms/step\n",
      "Epoch 21/100\n",
      "63/63 - 6s - loss: 0.0646 - binary_accuracy: 0.9745 - val_loss: 1.8921 - val_binary_accuracy: 0.6747 - 6s/epoch - 90ms/step\n",
      "Epoch 22/100\n",
      "63/63 - 6s - loss: 0.0509 - binary_accuracy: 0.9791 - val_loss: 2.1805 - val_binary_accuracy: 0.6827 - 6s/epoch - 91ms/step\n",
      "Epoch 23/100\n",
      "63/63 - 6s - loss: 0.0494 - binary_accuracy: 0.9813 - val_loss: 2.2067 - val_binary_accuracy: 0.6777 - 6s/epoch - 89ms/step\n",
      "Epoch 24/100\n",
      "63/63 - 6s - loss: 0.0611 - binary_accuracy: 0.9776 - val_loss: 1.9874 - val_binary_accuracy: 0.6665 - 6s/epoch - 96ms/step\n",
      "Epoch 25/100\n",
      "63/63 - 6s - loss: 0.0527 - binary_accuracy: 0.9784 - val_loss: 2.3004 - val_binary_accuracy: 0.6650 - 6s/epoch - 98ms/step\n",
      "Epoch 26/100\n",
      "63/63 - 6s - loss: 0.0526 - binary_accuracy: 0.9787 - val_loss: 2.2583 - val_binary_accuracy: 0.6693 - 6s/epoch - 94ms/step\n",
      "Epoch 27/100\n",
      "63/63 - 6s - loss: 0.0573 - binary_accuracy: 0.9769 - val_loss: 2.1686 - val_binary_accuracy: 0.6765 - 6s/epoch - 90ms/step\n",
      "Epoch 28/100\n",
      "63/63 - 6s - loss: 0.0575 - binary_accuracy: 0.9773 - val_loss: 2.1017 - val_binary_accuracy: 0.6777 - 6s/epoch - 91ms/step\n",
      "Epoch 29/100\n",
      "63/63 - 6s - loss: 0.0494 - binary_accuracy: 0.9808 - val_loss: 2.2893 - val_binary_accuracy: 0.6768 - 6s/epoch - 94ms/step\n",
      "Epoch 30/100\n",
      "63/63 - 6s - loss: 0.0430 - binary_accuracy: 0.9826 - val_loss: 2.4363 - val_binary_accuracy: 0.6787 - 6s/epoch - 102ms/step\n",
      "Epoch 31/100\n",
      "63/63 - 6s - loss: 0.0370 - binary_accuracy: 0.9844 - val_loss: 2.5484 - val_binary_accuracy: 0.6587 - 6s/epoch - 92ms/step\n",
      "Epoch 32/100\n",
      "63/63 - 6s - loss: 0.0418 - binary_accuracy: 0.9830 - val_loss: 2.6483 - val_binary_accuracy: 0.6653 - 6s/epoch - 90ms/step\n",
      "Epoch 33/100\n",
      "63/63 - 6s - loss: 0.0492 - binary_accuracy: 0.9811 - val_loss: 2.4930 - val_binary_accuracy: 0.6768 - 6s/epoch - 89ms/step\n",
      "Epoch 34/100\n",
      "63/63 - 5s - loss: 0.0666 - binary_accuracy: 0.9744 - val_loss: 2.2323 - val_binary_accuracy: 0.6633 - 5s/epoch - 86ms/step\n",
      "Epoch 35/100\n",
      "63/63 - 6s - loss: 0.0341 - binary_accuracy: 0.9864 - val_loss: 2.6045 - val_binary_accuracy: 0.6743 - 6s/epoch - 102ms/step\n",
      "Epoch 36/100\n",
      "63/63 - 5s - loss: 0.0304 - binary_accuracy: 0.9876 - val_loss: 2.6606 - val_binary_accuracy: 0.6653 - 5s/epoch - 85ms/step\n",
      "Epoch 37/100\n",
      "63/63 - 6s - loss: 0.0330 - binary_accuracy: 0.9874 - val_loss: 2.6772 - val_binary_accuracy: 0.6765 - 6s/epoch - 89ms/step\n",
      "Epoch 38/100\n",
      "63/63 - 6s - loss: 0.0347 - binary_accuracy: 0.9849 - val_loss: 2.9173 - val_binary_accuracy: 0.6562 - 6s/epoch - 89ms/step\n",
      "Epoch 39/100\n",
      "63/63 - 6s - loss: 0.0338 - binary_accuracy: 0.9865 - val_loss: 2.8243 - val_binary_accuracy: 0.6808 - 6s/epoch - 88ms/step\n",
      "Epoch 40/100\n",
      "63/63 - 5s - loss: 0.0357 - binary_accuracy: 0.9858 - val_loss: 2.7136 - val_binary_accuracy: 0.6668 - 5s/epoch - 85ms/step\n",
      "Epoch 41/100\n",
      "63/63 - 6s - loss: 0.0385 - binary_accuracy: 0.9846 - val_loss: 2.8465 - val_binary_accuracy: 0.6600 - 6s/epoch - 102ms/step\n",
      "Epoch 42/100\n",
      "63/63 - 6s - loss: 0.0352 - binary_accuracy: 0.9857 - val_loss: 2.8848 - val_binary_accuracy: 0.6768 - 6s/epoch - 89ms/step\n",
      "Epoch 43/100\n",
      "63/63 - 6s - loss: 0.0387 - binary_accuracy: 0.9850 - val_loss: 2.6873 - val_binary_accuracy: 0.6605 - 6s/epoch - 93ms/step\n",
      "Epoch 44/100\n",
      "63/63 - 6s - loss: 0.0351 - binary_accuracy: 0.9854 - val_loss: 2.7585 - val_binary_accuracy: 0.6805 - 6s/epoch - 93ms/step\n",
      "Epoch 45/100\n",
      "63/63 - 6s - loss: 0.0321 - binary_accuracy: 0.9866 - val_loss: 2.9436 - val_binary_accuracy: 0.6530 - 6s/epoch - 91ms/step\n",
      "Epoch 46/100\n",
      "63/63 - 7s - loss: 0.0388 - binary_accuracy: 0.9850 - val_loss: 2.8936 - val_binary_accuracy: 0.6595 - 7s/epoch - 105ms/step\n"
     ]
    }
   ],
   "source": [
    "#Fit the model\n",
    "history_rnn2 = model_rnn2.fit(X_train, y_train, \n",
    "                    validation_data=(X_test, y_test),\n",
    "                    epochs=100, batch_size=256,\n",
    "                    callbacks=[earlystop_callback],\n",
    "                    verbose=2)"
   ]
  },
  {
   "cell_type": "code",
   "execution_count": 39,
   "id": "b7d359fa",
   "metadata": {
    "execution": {
     "iopub.execute_input": "2023-05-08T11:57:26.199405Z",
     "iopub.status.busy": "2023-05-08T11:57:26.198931Z",
     "iopub.status.idle": "2023-05-08T11:58:08.949371Z",
     "shell.execute_reply": "2023-05-08T11:58:08.948360Z",
     "shell.execute_reply.started": "2023-05-08T11:57:26.199368Z"
    }
   },
   "outputs": [
    {
     "name": "stdout",
     "output_type": "stream",
     "text": [
      "125/125 [==============================] - 1s 8ms/step - loss: 2.8936 - binary_accuracy: 0.6595\n",
      "Test loss: 2.893599510192871\n",
      "Test accuracy: 0.659500002861023\n"
     ]
    }
   ],
   "source": [
    "# Evaluate the model\n",
    "test_loss5, test_acc5 = model_rnn2.evaluate(X_test, y_test)\n",
    "\n",
    "print(\"Test loss:\", test_loss5)\n",
    "print(\"Test accuracy:\", test_acc5)"
   ]
  },
  {
   "cell_type": "markdown",
   "id": "3b35b276",
   "metadata": {},
   "source": [
    "**Comparativa del accuracy de los modelos:**"
   ]
  },
  {
   "cell_type": "code",
   "execution_count": 40,
   "id": "a9e08044",
   "metadata": {
    "execution": {
     "iopub.execute_input": "2023-05-08T11:58:08.951839Z",
     "iopub.status.busy": "2023-05-08T11:58:08.950879Z",
     "iopub.status.idle": "2023-05-08T11:58:09.184766Z",
     "shell.execute_reply": "2023-05-08T11:58:09.183896Z",
     "shell.execute_reply.started": "2023-05-08T11:58:08.951804Z"
    }
   },
   "outputs": [
    {
     "data": {
      "image/png": "[encoded data removed]",
      "text/plain": [
       "<Figure size 640x480 with 1 Axes>"
      ]
     },
     "metadata": {},
     "output_type": "display_data"
    }
   ],
   "source": [
    "model_names = ['Model LSTM 1', 'Model LSTM 2', 'Model LSTM 3', 'Model RNN 1', 'Model RNN 2']\n",
    "\n",
    "# create a list of accuracy values\n",
    "accuracy_values = [test_acc_lstm1, test_acc_lstm2, test_acc_lstm3, test_acc4, test_acc5]\n",
    "\n",
    "# plot a bar graph of the accuracy values for each model\n",
    "plt.plot(model_names, accuracy_values)\n",
    "\n",
    "# add a horizontal line at the maximum accuracy value\n",
    "plt.axhline(y=max(accuracy_values), color='r', linestyle='--', label='Max Accuracy')\n",
    "\n",
    "# add labels and a title to the plot\n",
    "plt.xlabel('Models')\n",
    "plt.ylabel('Accuracy')\n",
    "plt.title('Comparison of Model Accuracy')\n",
    "\n",
    "# display the plot\n",
    "plt.show()"
   ]
  },
  {
   "cell_type": "markdown",
   "id": "5afd08bf",
   "metadata": {},
   "source": [
    "El modelo con el accuracy más alto es el primero."
   ]
  },
  {
   "cell_type": "markdown",
   "id": "29e580e2",
   "metadata": {},
   "source": [
    "## 2.2 Construye una red con dos capas de atención y entrena el modelo de nuevo\n",
    "\n",
    "<div style=\"background-color: #EDF7FF; border-color: #7C9DBF; border-left: 5px solid #7C9DBF; padding: 0.5em;\">\n",
    "Implementar una arquitectura basada en capas de atención que tendrá la siguiente estructura:\n",
    "    \n",
    "* La entrada primero se convierte a posicional embeddings con la función proporcionada TokenAndPositionEmbedding.\n",
    "* Después habrá una capa MultiHeadAttention, seguida de un dropout y normalizacion\n",
    "* Se añade otra capa MultiHeadAttention, seguida de un dropout y normalizacion.\n",
    "* Despues añadir dos redes full connected, la primera con 32 neuronas y la segunda con 16.\n",
    "* Finalmente añadir una capa de normalizacion, un droput, una capa de GlobalAveragePooling1D\n",
    "    \n",
    "Los dropouts serán del 20%, el numero de cabezas de la red Multihead será de 6\n"
   ]
  },
  {
   "cell_type": "code",
   "execution_count": 86,
   "id": "de789a60",
   "metadata": {
    "execution": {
     "iopub.execute_input": "2023-05-08T08:25:46.324513Z",
     "iopub.status.busy": "2023-05-08T08:25:46.324164Z",
     "iopub.status.idle": "2023-05-08T08:25:46.329479Z",
     "shell.execute_reply": "2023-05-08T08:25:46.328467Z",
     "shell.execute_reply.started": "2023-05-08T08:25:46.324481Z"
    }
   },
   "outputs": [],
   "source": [
    "# La siguiente estructura se proporciona\n",
    "# class Transformer(layers.Layer):\n",
    "#     def __init__(self, sizedense, sizedense2, num_heads):\n",
    "#         super().__init__()\n",
    "#         #####.....\n",
    "\n",
    "#     def call(self, inputs, training):\n",
    "#         #######\n",
    "#         return \n",
    "    \n",
    "\n",
    "# sizedense = 64 \n",
    "# sizedense2 = 16\n",
    "# num_heads = 6  \n",
    "\n",
    "# # Input\n",
    "# inputs = layers.Input(shape=(maxlen,))\n",
    "\n",
    "# # output\n",
    "# embedding_layer = TokenAndPositionEmbedding(maxlen, vocab_size, embed_dim)\n",
    "\n",
    "# # .....\n",
    "# # ....\n",
    "\n"
   ]
  },
  {
   "cell_type": "code",
   "execution_count": 23,
   "id": "150d4fc7",
   "metadata": {
    "execution": {
     "iopub.execute_input": "2023-05-16T18:38:15.682278Z",
     "iopub.status.busy": "2023-05-16T18:38:15.681303Z",
     "iopub.status.idle": "2023-05-16T18:38:15.692458Z",
     "shell.execute_reply": "2023-05-16T18:38:15.691435Z",
     "shell.execute_reply.started": "2023-05-16T18:38:15.682234Z"
    }
   },
   "outputs": [],
   "source": [
    "class Transformer(layers.Layer):\n",
    "    def __init__(self, sizedense, sizedense2, num_heads):\n",
    "        super().__init__()\n",
    "        self.attention_layer1 = layers.MultiHeadAttention(num_heads=num_heads, key_dim=embed_dim)\n",
    "        self.dropout_layer1 = layers.Dropout(0.2)\n",
    "        self.normalization_layer1 = layers.LayerNormalization(epsilon=1e-6)\n",
    "        self.attention_layer2 = layers.MultiHeadAttention(num_heads=num_heads, key_dim=embed_dim)\n",
    "        self.dropout_layer2 = layers.Dropout(0.2)\n",
    "        self.normalization_layer2 = layers.LayerNormalization(epsilon=1e-6)\n",
    "        self.dense_layer1 = layers.Dense(sizedense, activation=\"relu\")\n",
    "        self.dense_layer2 = layers.Dense(sizedense2, activation=\"relu\")\n",
    "        self.normalization_layer3 = layers.LayerNormalization(epsilon=1e-6)\n",
    "        self.dropout_layer3 = layers.Dropout(0.2)\n",
    "        self.pooling_layer = layers.GlobalAveragePooling1D()\n",
    "\n",
    "    def call(self, inputs, training):\n",
    "        attention_output1 = self.attention_layer1(inputs, inputs)\n",
    "        x = self.dropout_layer1(attention_output1, training=training)\n",
    "        x = self.normalization_layer1(x + attention_output1)\n",
    "        attention_output2 = self.attention_layer2(x, x)\n",
    "        x = self.dropout_layer2(attention_output2, training=training)\n",
    "        x = self.normalization_layer2(x + attention_output2)\n",
    "        x = self.dense_layer1(x)\n",
    "        x = self.dense_layer2(x)\n",
    "        x = self.normalization_layer3(x)\n",
    "        x = self.dropout_layer3(x, training=training)\n",
    "        x = self.pooling_layer(x)\n",
    "        return x"
   ]
  },
  {
   "cell_type": "code",
   "execution_count": 28,
   "id": "fd2c774e",
   "metadata": {
    "execution": {
     "iopub.execute_input": "2023-05-16T18:38:48.941332Z",
     "iopub.status.busy": "2023-05-16T18:38:48.940922Z",
     "iopub.status.idle": "2023-05-16T18:38:49.281201Z",
     "shell.execute_reply": "2023-05-16T18:38:49.280302Z",
     "shell.execute_reply.started": "2023-05-16T18:38:48.941300Z"
    }
   },
   "outputs": [],
   "source": [
    "sizedense = 32\n",
    "sizedense2 = 16\n",
    "num_heads = 6\n",
    "\n",
    "vocab_size=3000\n",
    "embed_dim=32\n",
    "\n",
    "# Input\n",
    "inputs = layers.Input(shape=(maxlen,))\n",
    "\n",
    "# Token and Position Embedding\n",
    "embedding_layer = TokenAndPositionEmbedding(maxlen, vocab_size, embed_dim)(inputs)\n",
    "\n",
    "# Transformer\n",
    "transformer = Transformer(sizedense, sizedense2, num_heads)\n",
    "outputs = transformer(embedding_layer, training=True)\n",
    "\n",
    "# Create the model\n",
    "model = tf.keras.Model(inputs=inputs, outputs=outputs)"
   ]
  },
  {
   "cell_type": "code",
   "execution_count": 29,
   "id": "092e853c",
   "metadata": {
    "execution": {
     "iopub.execute_input": "2023-05-16T18:38:52.826494Z",
     "iopub.status.busy": "2023-05-16T18:38:52.826111Z",
     "iopub.status.idle": "2023-05-16T18:38:52.847390Z",
     "shell.execute_reply": "2023-05-16T18:38:52.846359Z",
     "shell.execute_reply.started": "2023-05-16T18:38:52.826465Z"
    }
   },
   "outputs": [],
   "source": [
    "# Compile the model\n",
    "model.compile(loss='binary_crossentropy', optimizer='adam', metrics=['binary_accuracy'])"
   ]
  },
  {
   "cell_type": "code",
   "execution_count": 32,
   "id": "e3b0520c",
   "metadata": {
    "execution": {
     "iopub.execute_input": "2023-05-16T18:40:02.353537Z",
     "iopub.status.busy": "2023-05-16T18:40:02.352867Z",
     "iopub.status.idle": "2023-05-16T18:43:10.453912Z",
     "shell.execute_reply": "2023-05-16T18:43:10.452846Z",
     "shell.execute_reply.started": "2023-05-16T18:40:02.353503Z"
    }
   },
   "outputs": [
    {
     "name": "stdout",
     "output_type": "stream",
     "text": [
      "Epoch 1/100\n",
      "250/250 [==============================] - 28s 69ms/step - loss: 6.8788 - binary_accuracy: 0.4992 - val_loss: 6.7749 - val_binary_accuracy: 0.5086\n",
      "Epoch 2/100\n",
      "250/250 [==============================] - 5s 21ms/step - loss: 6.5571 - binary_accuracy: 0.5076 - val_loss: 5.9021 - val_binary_accuracy: 0.5148\n",
      "Epoch 3/100\n",
      "250/250 [==============================] - 3s 12ms/step - loss: 5.6995 - binary_accuracy: 0.5307 - val_loss: 5.1521 - val_binary_accuracy: 0.5110\n",
      "Epoch 4/100\n",
      "250/250 [==============================] - 3s 11ms/step - loss: 5.0664 - binary_accuracy: 0.5724 - val_loss: 4.9693 - val_binary_accuracy: 0.5936\n",
      "Epoch 5/100\n",
      "250/250 [==============================] - 3s 12ms/step - loss: 4.5446 - binary_accuracy: 0.5669 - val_loss: 4.5991 - val_binary_accuracy: 0.5288\n",
      "Epoch 6/100\n",
      "250/250 [==============================] - 3s 13ms/step - loss: 4.6272 - binary_accuracy: 0.5758 - val_loss: 4.5624 - val_binary_accuracy: 0.5996\n",
      "Epoch 7/100\n",
      "250/250 [==============================] - 3s 10ms/step - loss: 4.5841 - binary_accuracy: 0.6171 - val_loss: 4.5680 - val_binary_accuracy: 0.6015\n",
      "Epoch 8/100\n",
      "250/250 [==============================] - 3s 12ms/step - loss: 4.5668 - binary_accuracy: 0.6295 - val_loss: 4.5745 - val_binary_accuracy: 0.6063\n",
      "Epoch 9/100\n",
      "250/250 [==============================] - 3s 10ms/step - loss: 4.7731 - binary_accuracy: 0.5827 - val_loss: 5.0209 - val_binary_accuracy: 0.5140\n",
      "Epoch 10/100\n",
      "250/250 [==============================] - 3s 11ms/step - loss: 5.0125 - binary_accuracy: 0.5340 - val_loss: 4.8877 - val_binary_accuracy: 0.5553\n",
      "Epoch 11/100\n",
      "250/250 [==============================] - 3s 10ms/step - loss: 4.7130 - binary_accuracy: 0.5934 - val_loss: 4.5464 - val_binary_accuracy: 0.5745\n",
      "Epoch 12/100\n",
      "250/250 [==============================] - 2s 10ms/step - loss: 4.5596 - binary_accuracy: 0.5998 - val_loss: 4.4400 - val_binary_accuracy: 0.5675\n",
      "Epoch 13/100\n",
      "250/250 [==============================] - 3s 12ms/step - loss: 4.5080 - binary_accuracy: 0.6023 - val_loss: 4.4524 - val_binary_accuracy: 0.5828\n",
      "Epoch 14/100\n",
      "250/250 [==============================] - 2s 10ms/step - loss: 4.3804 - binary_accuracy: 0.5662 - val_loss: 4.2182 - val_binary_accuracy: 0.5306\n",
      "Epoch 15/100\n",
      "250/250 [==============================] - 3s 11ms/step - loss: 3.9894 - binary_accuracy: 0.5509 - val_loss: 3.8155 - val_binary_accuracy: 0.5546\n",
      "Epoch 16/100\n",
      "250/250 [==============================] - 2s 10ms/step - loss: 3.8629 - binary_accuracy: 0.5666 - val_loss: 3.7450 - val_binary_accuracy: 0.5104\n",
      "Epoch 17/100\n",
      "250/250 [==============================] - 2s 10ms/step - loss: 3.3805 - binary_accuracy: 0.5308 - val_loss: 3.2927 - val_binary_accuracy: 0.5358\n",
      "Epoch 18/100\n",
      "250/250 [==============================] - 3s 11ms/step - loss: 3.3383 - binary_accuracy: 0.5452 - val_loss: 3.2911 - val_binary_accuracy: 0.5410\n",
      "Epoch 19/100\n",
      "250/250 [==============================] - 2s 9ms/step - loss: 3.3362 - binary_accuracy: 0.5541 - val_loss: 3.2908 - val_binary_accuracy: 0.5507\n",
      "Epoch 20/100\n",
      "250/250 [==============================] - 2s 10ms/step - loss: 3.3333 - binary_accuracy: 0.5683 - val_loss: 3.2819 - val_binary_accuracy: 0.5608\n",
      "Epoch 21/100\n",
      "250/250 [==============================] - 3s 10ms/step - loss: 3.3212 - binary_accuracy: 0.5791 - val_loss: 3.2789 - val_binary_accuracy: 0.5616\n",
      "Epoch 22/100\n",
      "250/250 [==============================] - 3s 10ms/step - loss: 3.3053 - binary_accuracy: 0.5949 - val_loss: 3.2763 - val_binary_accuracy: 0.5938\n",
      "Epoch 23/100\n",
      "250/250 [==============================] - 2s 10ms/step - loss: 3.2794 - binary_accuracy: 0.6322 - val_loss: 3.3221 - val_binary_accuracy: 0.6209\n",
      "Epoch 24/100\n",
      "250/250 [==============================] - 3s 11ms/step - loss: 3.2678 - binary_accuracy: 0.6658 - val_loss: 3.2794 - val_binary_accuracy: 0.6255\n",
      "Epoch 25/100\n",
      "250/250 [==============================] - 3s 10ms/step - loss: 3.2501 - binary_accuracy: 0.6743 - val_loss: 3.3348 - val_binary_accuracy: 0.6364\n",
      "Epoch 26/100\n",
      "250/250 [==============================] - 2s 10ms/step - loss: 3.2363 - binary_accuracy: 0.6787 - val_loss: 3.3024 - val_binary_accuracy: 0.6226\n",
      "Epoch 27/100\n",
      "250/250 [==============================] - 3s 10ms/step - loss: 3.2395 - binary_accuracy: 0.6869 - val_loss: 3.3853 - val_binary_accuracy: 0.6454\n",
      "Epoch 28/100\n",
      "250/250 [==============================] - 2s 10ms/step - loss: 3.2276 - binary_accuracy: 0.6954 - val_loss: 3.3534 - val_binary_accuracy: 0.6495\n",
      "Epoch 29/100\n",
      "250/250 [==============================] - 2s 10ms/step - loss: 3.2306 - binary_accuracy: 0.6889 - val_loss: 3.3394 - val_binary_accuracy: 0.6489\n",
      "Epoch 30/100\n",
      "250/250 [==============================] - 2s 10ms/step - loss: 3.2099 - binary_accuracy: 0.7005 - val_loss: 3.3746 - val_binary_accuracy: 0.6470\n",
      "Epoch 31/100\n",
      "250/250 [==============================] - 3s 11ms/step - loss: 3.2238 - binary_accuracy: 0.6973 - val_loss: 3.3838 - val_binary_accuracy: 0.6538\n",
      "Epoch 32/100\n",
      "250/250 [==============================] - 3s 10ms/step - loss: 3.2078 - binary_accuracy: 0.7027 - val_loss: 3.3661 - val_binary_accuracy: 0.6465\n",
      "Epoch 33/100\n",
      "250/250 [==============================] - 3s 10ms/step - loss: 3.2052 - binary_accuracy: 0.7000 - val_loss: 3.3537 - val_binary_accuracy: 0.6530\n",
      "Epoch 34/100\n",
      "250/250 [==============================] - 2s 9ms/step - loss: 3.2014 - binary_accuracy: 0.7015 - val_loss: 3.3351 - val_binary_accuracy: 0.6500\n",
      "Epoch 35/100\n",
      "250/250 [==============================] - 3s 11ms/step - loss: 3.2157 - binary_accuracy: 0.6943 - val_loss: 3.3791 - val_binary_accuracy: 0.6403\n",
      "Epoch 36/100\n",
      "250/250 [==============================] - 3s 10ms/step - loss: 3.2010 - binary_accuracy: 0.7060 - val_loss: 3.3932 - val_binary_accuracy: 0.6539\n",
      "Epoch 37/100\n",
      "250/250 [==============================] - 3s 10ms/step - loss: 3.2219 - binary_accuracy: 0.6945 - val_loss: 3.3644 - val_binary_accuracy: 0.6457\n",
      "Epoch 38/100\n",
      "250/250 [==============================] - 2s 9ms/step - loss: 3.4416 - binary_accuracy: 0.6561 - val_loss: 3.4411 - val_binary_accuracy: 0.6346\n",
      "Epoch 39/100\n",
      "250/250 [==============================] - 3s 10ms/step - loss: 3.2193 - binary_accuracy: 0.6888 - val_loss: 3.3655 - val_binary_accuracy: 0.6455\n",
      "Epoch 40/100\n",
      "250/250 [==============================] - 3s 11ms/step - loss: 3.1956 - binary_accuracy: 0.7013 - val_loss: 3.4483 - val_binary_accuracy: 0.6297\n",
      "Epoch 41/100\n",
      "250/250 [==============================] - 2s 10ms/step - loss: 3.3420 - binary_accuracy: 0.6025 - val_loss: 3.2798 - val_binary_accuracy: 0.5568\n",
      "Epoch 42/100\n",
      "250/250 [==============================] - 2s 9ms/step - loss: 3.2973 - binary_accuracy: 0.6144 - val_loss: 3.2577 - val_binary_accuracy: 0.6007\n",
      "Epoch 43/100\n",
      "250/250 [==============================] - 3s 12ms/step - loss: 3.2714 - binary_accuracy: 0.6450 - val_loss: 3.2431 - val_binary_accuracy: 0.6155\n",
      "Epoch 44/100\n",
      "250/250 [==============================] - 2s 10ms/step - loss: 3.2445 - binary_accuracy: 0.6712 - val_loss: 3.2351 - val_binary_accuracy: 0.6309\n",
      "Epoch 45/100\n",
      "250/250 [==============================] - 3s 11ms/step - loss: 3.2252 - binary_accuracy: 0.6894 - val_loss: 3.2294 - val_binary_accuracy: 0.6371\n",
      "Epoch 46/100\n",
      "250/250 [==============================] - 2s 9ms/step - loss: 3.2149 - binary_accuracy: 0.6978 - val_loss: 3.2259 - val_binary_accuracy: 0.6413\n",
      "Epoch 47/100\n",
      "250/250 [==============================] - 2s 10ms/step - loss: 3.2019 - binary_accuracy: 0.7074 - val_loss: 3.2267 - val_binary_accuracy: 0.6484\n",
      "Epoch 48/100\n",
      "250/250 [==============================] - 3s 10ms/step - loss: 3.1974 - binary_accuracy: 0.7093 - val_loss: 3.2352 - val_binary_accuracy: 0.6480\n",
      "Epoch 49/100\n",
      "250/250 [==============================] - 2s 9ms/step - loss: 3.1871 - binary_accuracy: 0.7156 - val_loss: 3.2411 - val_binary_accuracy: 0.6476\n",
      "Epoch 50/100\n",
      "250/250 [==============================] - 3s 10ms/step - loss: 3.1829 - binary_accuracy: 0.7169 - val_loss: 3.2361 - val_binary_accuracy: 0.6479\n",
      "Epoch 51/100\n",
      "250/250 [==============================] - 3s 10ms/step - loss: 3.1934 - binary_accuracy: 0.7131 - val_loss: 3.2901 - val_binary_accuracy: 0.6306\n",
      "Epoch 52/100\n",
      "250/250 [==============================] - 3s 10ms/step - loss: 3.1736 - binary_accuracy: 0.7194 - val_loss: 3.2654 - val_binary_accuracy: 0.6484\n",
      "Epoch 53/100\n",
      "250/250 [==============================] - 2s 9ms/step - loss: 3.1742 - binary_accuracy: 0.7210 - val_loss: 3.2904 - val_binary_accuracy: 0.6473\n",
      "Epoch 54/100\n",
      "250/250 [==============================] - 2s 10ms/step - loss: 3.1898 - binary_accuracy: 0.7133 - val_loss: 3.3157 - val_binary_accuracy: 0.6324\n",
      "Epoch 55/100\n",
      "250/250 [==============================] - 3s 11ms/step - loss: 3.1790 - binary_accuracy: 0.7200 - val_loss: 3.3378 - val_binary_accuracy: 0.6484\n",
      "Epoch 56/100\n",
      "250/250 [==============================] - 3s 10ms/step - loss: 3.1951 - binary_accuracy: 0.7086 - val_loss: 3.4248 - val_binary_accuracy: 0.6428\n",
      "Epoch 57/100\n",
      "250/250 [==============================] - 2s 9ms/step - loss: 3.7858 - binary_accuracy: 0.5266 - val_loss: 3.7383 - val_binary_accuracy: 0.5338\n",
      "Epoch 58/100\n",
      "250/250 [==============================] - 2s 9ms/step - loss: 3.7647 - binary_accuracy: 0.5498 - val_loss: 3.7324 - val_binary_accuracy: 0.5488\n",
      "Epoch 59/100\n",
      "250/250 [==============================] - 2s 10ms/step - loss: 3.6407 - binary_accuracy: 0.5660 - val_loss: 3.3541 - val_binary_accuracy: 0.5386\n",
      "Epoch 60/100\n",
      "250/250 [==============================] - 2s 10ms/step - loss: 3.3429 - binary_accuracy: 0.5651 - val_loss: 3.3416 - val_binary_accuracy: 0.5579\n",
      "Epoch 61/100\n",
      "250/250 [==============================] - 3s 10ms/step - loss: 3.3149 - binary_accuracy: 0.5886 - val_loss: 3.3538 - val_binary_accuracy: 0.5741\n",
      "Epoch 62/100\n",
      "250/250 [==============================] - 2s 10ms/step - loss: 3.2965 - binary_accuracy: 0.6024 - val_loss: 3.3476 - val_binary_accuracy: 0.5850\n"
     ]
    }
   ],
   "source": [
    "# Fit the model to the training data\n",
    "history = model.fit(X_train, y_train, epochs=100, batch_size=64,callbacks=[earlystop_callback],\n",
    "                    validation_data=(X_test, y_test))"
   ]
  },
  {
   "cell_type": "code",
   "execution_count": 33,
   "id": "f8c6f7c4",
   "metadata": {
    "execution": {
     "iopub.execute_input": "2023-05-16T18:43:52.879557Z",
     "iopub.status.busy": "2023-05-16T18:43:52.878464Z",
     "iopub.status.idle": "2023-05-16T18:43:53.575250Z",
     "shell.execute_reply": "2023-05-16T18:43:53.574318Z",
     "shell.execute_reply.started": "2023-05-16T18:43:52.879499Z"
    }
   },
   "outputs": [
    {
     "name": "stdout",
     "output_type": "stream",
     "text": [
      "125/125 [==============================] - 1s 5ms/step - loss: 3.3507 - binary_accuracy: 0.5851\n",
      "Test accuracy: 0.5850937366485596\n"
     ]
    }
   ],
   "source": [
    "# Evaluate the model\n",
    "test_loss, test_acc = model.evaluate(X_test, y_test)\n",
    "print(\"Test accuracy:\", test_acc)"
   ]
  },
  {
   "cell_type": "markdown",
   "id": "9aad93c3",
   "metadata": {},
   "source": [
    "<div style=\"background-color: #EDF7FF; border-color: #7C9DBF; border-left: 5px solid #7C9DBF; padding: 0.5em;\">\n",
    " Entrena el modelo anterior probando distintos batch sizes, evitando el overfitting y reportando las metricas de loss y accuracy durante el entrenamiento. Muestra finalmente el mejor resultado obtenido y comenta los resultados en comparación con los obtenidos anteriormente."
   ]
  },
  {
   "cell_type": "code",
   "execution_count": 34,
   "id": "4dfe67e5",
   "metadata": {
    "execution": {
     "iopub.execute_input": "2023-05-16T18:44:13.232655Z",
     "iopub.status.busy": "2023-05-16T18:44:13.232261Z",
     "iopub.status.idle": "2023-05-16T19:03:37.551910Z",
     "shell.execute_reply": "2023-05-16T19:03:37.550831Z",
     "shell.execute_reply.started": "2023-05-16T18:44:13.232626Z"
    }
   },
   "outputs": [],
   "source": [
    "# Define a list of batch sizes to test\n",
    "batch_sizes = [16, 32, 64, 128, 256]\n",
    "\n",
    "# Define empty lists to store results\n",
    "train_losses = []\n",
    "train_accs = []\n",
    "val_losses = []\n",
    "val_accs = []\n",
    "\n",
    "# Loop over batch sizes and train the model\n",
    "for batch_size in batch_sizes:\n",
    "    # Define the model\n",
    "    sizedense = 32 \n",
    "    sizedense2 = 16\n",
    "    num_heads = 6  \n",
    "    \n",
    "    # Input\n",
    "    inputs = layers.Input(shape=(maxlen,))\n",
    "\n",
    "    # Token and Position Embedding\n",
    "    embedding_layer = TokenAndPositionEmbedding(maxlen, vocab_size, embed_dim)(inputs)\n",
    "\n",
    "    # Transformer\n",
    "    transformer = Transformer(sizedense, sizedense2, num_heads)\n",
    "    outputs = transformer(embedding_layer, training=True)\n",
    "\n",
    "    # Create the model\n",
    "    model = tf.keras.Model(inputs=inputs, outputs=outputs)\n",
    "\n",
    "    # Compile the model\n",
    "    model.compile(loss='binary_crossentropy', optimizer='adam', metrics=['binary_accuracy'])\n",
    "\n",
    "    # Fit the model to the training data\n",
    "    history = model.fit(X_train, y_train, epochs=100, batch_size=batch_size, validation_data=(X_test, y_test),\n",
    "                        callbacks=[earlystop_callback], verbose=0)\n",
    "    \n",
    "    # Store the results\n",
    "    train_losses.append(history.history['loss'][-1])\n",
    "    train_accs.append(history.history['binary_accuracy'][-1])\n",
    "    val_losses.append(history.history['val_loss'][-1])\n",
    "    val_accs.append(history.history['val_binary_accuracy'][-1])"
   ]
  },
  {
   "cell_type": "code",
   "execution_count": 35,
   "id": "fe63d657",
   "metadata": {
    "execution": {
     "iopub.execute_input": "2023-05-16T19:04:41.176511Z",
     "iopub.status.busy": "2023-05-16T19:04:41.176054Z",
     "iopub.status.idle": "2023-05-16T19:04:41.183199Z",
     "shell.execute_reply": "2023-05-16T19:04:41.182209Z",
     "shell.execute_reply.started": "2023-05-16T19:04:41.176460Z"
    }
   },
   "outputs": [
    {
     "name": "stdout",
     "output_type": "stream",
     "text": [
      "Batch size: 16 - Train loss: 4.39 - Train accuracy: 0.71 - Validation loss: 5.74 - Validation accuracy: 0.59\n",
      "Batch size: 32 - Train loss: 4.53 - Train accuracy: 0.65 - Validation loss: 4.69 - Validation accuracy: 0.6\n",
      "Batch size: 64 - Train loss: 3.15 - Train accuracy: 0.73 - Validation loss: 3.32 - Validation accuracy: 0.65\n",
      "Batch size: 128 - Train loss: 4.22 - Train accuracy: 0.5 - Validation loss: 4.17 - Validation accuracy: 0.5\n",
      "Batch size: 256 - Train loss: 3.33 - Train accuracy: 0.55 - Validation loss: 3.29 - Validation accuracy: 0.55\n"
     ]
    }
   ],
   "source": [
    "# Print the results\n",
    "for i in range(len(batch_sizes)):\n",
    "    print(\"Batch size:\", batch_sizes[i], \"- Train loss:\", round(train_losses[i],2), \"- Train accuracy:\", round(train_accs[i],2),\n",
    "          \"- Validation loss:\", round(val_losses[i],2), \"- Validation accuracy:\", round(val_accs[i],2))"
   ]
  },
  {
   "cell_type": "markdown",
   "id": "8df2058d",
   "metadata": {},
   "source": [
    "<div style=\"background-color: #fcf2f2; border-color: #dfb5b4; border-left: 5px solid #dfb5b4; padding: 0.5em;\">\n",
    "<strong>Comentarios:</strong>\n",
    "<br><br>\n",
    "    El accuracy más alto, de 0.64 con el set de validación se obtuvo con un batch size de 65. \n",
    "    No se observa una mejora en compararcion con los modelos anteriores, lo cual puede deberse a que el análisis de sentimientos suele requerir una compreónnsi del contexto y el significado de las palabras dentro de la oración, lo cual puede ser capturado de forma eficiente por redes neuronales recurrentes, este tipo de redes está diseñado para tratar secuencias de datos y tienen la habilidad de capturar dependencias temporales, mantienen una memoria interna que retiene información de palabras anteriores dentro de una oración, permitiendo que el modelo comprenda el contexto.\n",
    "    \n",
    "<br><br>\n",
    "</div>"
   ]
  },
  {
   "cell_type": "markdown",
   "id": "0c1c5a6b",
   "metadata": {},
   "source": [
    "## 2.3. Búsqueda de hyperparámetros de la red\n",
    "\n",
    "<div style=\"background-color: #EDF7FF; border-color: #7C9DBF; border-left: 5px solid #7C9DBF; padding: 0.5em;\">\n",
    "Vamos a automatizar la busqueda de hyperparametros mediante un grid search. Para ello vamos a tomar como hyperparámetros el número de heads, el batch size y el número de neuronas de la red fully conected. Para cada uno de estos hyperparámetros elige varios valores representativos y entrena un modelo para cada una de las combinaciones. Como el entrenamiento de la red neuronal no es totalmente determinista y se ha restringido el númerode datos, entrena para la misma configuración al menos 5 modelos y guarda la media del mejor accuracy. Haz una representación gráfica <strong>adecuada y explicativa</strong> con la combinacion de hyperparámetros versus resultados.\n",
    "    \n",
    "La búsqueda de hiperaparámetros y la representación se pueden realizar de forma manual y con librerías habituales o bien utilizar implementaciones específicas para ello como la librería optuna. Si se utiliza está librería se puede realizar una búsqueda bayesiana (sugerencia opcional) de los hiperparámetros en vez de un simple grid search.\n",
    "    \n",
    "Comenta los resultados.\n",
    "</div>\n"
   ]
  },
  {
   "cell_type": "code",
   "execution_count": 36,
   "id": "a54be697",
   "metadata": {
    "execution": {
     "iopub.execute_input": "2023-05-16T19:08:11.480018Z",
     "iopub.status.busy": "2023-05-16T19:08:11.479620Z",
     "iopub.status.idle": "2023-05-16T19:48:13.110069Z",
     "shell.execute_reply": "2023-05-16T19:48:13.109067Z",
     "shell.execute_reply.started": "2023-05-16T19:08:11.479988Z"
    }
   },
   "outputs": [
    {
     "name": "stdout",
     "output_type": "stream",
     "text": [
      "Training model with num_heads=6, batch_size=32, sizedense=64\n",
      "Mean Accuracy=0.6136749982833862\n",
      "Training model with num_heads=6, batch_size=32, sizedense=128\n",
      "Mean Accuracy=0.623687493801117\n",
      "Training model with num_heads=6, batch_size=64, sizedense=64\n",
      "Mean Accuracy=0.5873687505722046\n",
      "Training model with num_heads=6, batch_size=64, sizedense=128\n",
      "Mean Accuracy=0.5518468618392944\n",
      "Training model with num_heads=8, batch_size=32, sizedense=64\n",
      "Mean Accuracy=0.6046249866485596\n",
      "Training model with num_heads=8, batch_size=32, sizedense=128\n",
      "Mean Accuracy=0.6067093849182129\n",
      "Training model with num_heads=8, batch_size=64, sizedense=64\n",
      "Mean Accuracy=0.5530093789100647\n",
      "Training model with num_heads=8, batch_size=64, sizedense=128\n",
      "Mean Accuracy=0.5830750107765198\n"
     ]
    }
   ],
   "source": [
    "# Hiperparametros a entrenar:\n",
    "num_heads_values = [6, 8]\n",
    "batch_size_values = [32, 64]\n",
    "sizedense_values = [64, 128]\n",
    "\n",
    "# Cantidad de entrenamientos:\n",
    "num_trainings = 5\n",
    "\n",
    "# Diccionario para guardar el accuracy promedio de cada combinación de hiperparámetros\n",
    "results = {}\n",
    "\n",
    "earlystop_callback = EarlyStopping(monitor='loss', patience=3)\n",
    "\n",
    "# Loop over all combinations of hyperparameters\n",
    "for num_heads in num_heads_values:\n",
    "    for batch_size in batch_size_values:\n",
    "        for sizedense in sizedense_values:\n",
    "            print(f\"Training model with num_heads={num_heads}, batch_size={batch_size}, sizedense={sizedense}\")\n",
    "            \n",
    "            # Train the model five times and store the best validation accuracy\n",
    "            val_accs = []\n",
    "            for i in range(num_trainings):\n",
    "                sizedense2 = 16\n",
    "                # Input\n",
    "                inputs = layers.Input(shape=(maxlen,))\n",
    "\n",
    "                # Token and Position Embedding\n",
    "                embedding_layer = TokenAndPositionEmbedding(maxlen, vocab_size, embed_dim)(inputs)\n",
    "\n",
    "                # Transformer\n",
    "                transformer = Transformer(sizedense, sizedense2, num_heads)\n",
    "                outputs = transformer(embedding_layer, training=True)\n",
    "\n",
    "                # Create the model\n",
    "                model = tf.keras.Model(inputs=inputs, outputs=outputs)\n",
    "\n",
    "                # Compile the model\n",
    "                model.compile(loss='binary_crossentropy', optimizer='adam', metrics=['binary_accuracy'])\n",
    "\n",
    "                # Fit the model to the training data\n",
    "                history = model.fit(X_train, y_train, epochs=100, batch_size=batch_size, validation_data=(X_test, y_test),\n",
    "                                    callbacks=[earlystop_callback], verbose=0)\n",
    "                #Add the model accuracy to val_accs\n",
    "                val_accs.append(max(history.history['val_binary_accuracy']))\n",
    "            \n",
    "            \n",
    "            mean_best_val_acc = np.mean(val_accs)\n",
    "            print(f\"Mean Accuracy={mean_best_val_acc}\")\n",
    "            \n",
    "            # Save the results\n",
    "            results[(num_heads, batch_size, sizedense)] = mean_best_val_acc\n",
    "            "
   ]
  },
  {
   "cell_type": "code",
   "execution_count": 37,
   "id": "8471b088",
   "metadata": {
    "execution": {
     "iopub.execute_input": "2023-05-16T19:48:32.570312Z",
     "iopub.status.busy": "2023-05-16T19:48:32.569269Z",
     "iopub.status.idle": "2023-05-16T19:48:32.577444Z",
     "shell.execute_reply": "2023-05-16T19:48:32.576533Z",
     "shell.execute_reply.started": "2023-05-16T19:48:32.570263Z"
    }
   },
   "outputs": [
    {
     "data": {
      "text/plain": [
       "{(6, 32, 64): 0.6136749982833862,\n",
       " (6, 32, 128): 0.623687493801117,\n",
       " (6, 64, 64): 0.5873687505722046,\n",
       " (6, 64, 128): 0.5518468618392944,\n",
       " (8, 32, 64): 0.6046249866485596,\n",
       " (8, 32, 128): 0.6067093849182129,\n",
       " (8, 64, 64): 0.5530093789100647,\n",
       " (8, 64, 128): 0.5830750107765198}"
      ]
     },
     "execution_count": 37,
     "metadata": {},
     "output_type": "execute_result"
    }
   ],
   "source": [
    "results"
   ]
  },
  {
   "cell_type": "code",
   "execution_count": 38,
   "id": "c56b2683",
   "metadata": {
    "execution": {
     "iopub.execute_input": "2023-05-16T19:48:50.721067Z",
     "iopub.status.busy": "2023-05-16T19:48:50.720245Z",
     "iopub.status.idle": "2023-05-16T19:48:51.188120Z",
     "shell.execute_reply": "2023-05-16T19:48:51.187202Z",
     "shell.execute_reply.started": "2023-05-16T19:48:50.721029Z"
    }
   },
   "outputs": [
    {
     "data": {
      "image/png": "[encoded data removed]",
      "text/plain": [
       "<Figure size 1000x1000 with 2 Axes>"
      ]
     },
     "metadata": {},
     "output_type": "display_data"
    }
   ],
   "source": [
    "from mpl_toolkits.mplot3d import Axes3D\n",
    "\n",
    "# Extract the hyperparameters and accuracy values into separate lists\n",
    "hyperparameters = list(results.keys())\n",
    "accuracies = list(results.values())\n",
    "\n",
    "# Extract each hyperparameter into separate lists\n",
    "x_values = [params[0] for params in hyperparameters]\n",
    "y_values = [params[1] for params in hyperparameters]\n",
    "z_values = [params[2] for params in hyperparameters]\n",
    "\n",
    "# Creo un plot de 3 dimensiones con los hiperparametros en los ejes x,y,z y el accuracy representado por el color\n",
    "fig = plt.figure(figsize=(10,10))\n",
    "ax = fig.add_subplot(111, projection='3d')\n",
    "scatter = ax.scatter(x_values, y_values, z_values, c=accuracies)\n",
    "\n",
    "# Create a scalar mappable object for the color map\n",
    "scalar_mappable = plt.cm.ScalarMappable(cmap=plt.cm.cool)\n",
    "scalar_mappable.set_array(accuracies)\n",
    "\n",
    "# Add labels and title to the plot\n",
    "ax.set_xlabel('num_heads')\n",
    "ax.set_ylabel('batch_size')\n",
    "ax.set_zlabel('sizedense')\n",
    "plt.title('Accuracy vs Hyperparameters')\n",
    "\n",
    "# Add a colorbar to the plot\n",
    "cbar = plt.colorbar(scatter, shrink=0.5, aspect=8)\n",
    "cbar.set_label('Accuracy')\n",
    "plt.show()\n"
   ]
  },
  {
   "cell_type": "markdown",
   "id": "453627a3",
   "metadata": {},
   "source": [
    "<div style=\"background-color: #fcf2f2; border-color: #dfb5b4; border-left: 5px solid #dfb5b4; padding: 0.5em;\">\n",
    "<strong>Comentarios:</strong>\n",
    "<br><br>\n",
    "   En el gráfico se puede ver que los valores de accuracy más altos se obtuvieron con las siguientes combinaciones de hiperparámetros: número de heads 6, batch size 32 y número de neuronas en red fully connected 128. \n",
    "    El hiperparámetro número de heads determina cuántos mecanismos de atención en paralelo se usan en el Transformer. Cada uno de ellos aprende diferencias patrones de atención, permitiendo que el modelo capture relaciones más complejas. \n",
    "    El batch size se refiere al número de muestras que se procesan en cada entrenamiento antes de la actualización de los parámetros. \n",
    "   Por último, la cantidad de neuronas de la capa fully connected determinará la complejidad del modelo y la cantidad de características que podrá aprender.\n",
    "<br><br>\n",
    "</div>"
   ]
  },
  {
   "cell_type": "markdown",
   "id": "7b95a173",
   "metadata": {},
   "source": [
    "## 2.4. Escala los datos\n",
    "\n",
    "<div style=\"background-color: #EDF7FF; border-color: #7C9DBF; border-left: 5px solid #7C9DBF; padding: 0.5em;\">\n",
    " Ahora entrena el modelo con todos los datos disponibles (dejando un 80% para train y un 20% para test) con los mejores hyperparámetros identificados. Muestra además del mejor resultado, las gráficas de accuracy y loss durante el entrenamiento.\n",
    "    \n",
    "Comenta los resultados\n",
    "</div>\n"
   ]
  },
  {
   "cell_type": "code",
   "execution_count": 22,
   "id": "7c1d68e9",
   "metadata": {
    "execution": {
     "iopub.execute_input": "2023-05-11T09:17:12.699240Z",
     "iopub.status.busy": "2023-05-11T09:17:12.698866Z",
     "iopub.status.idle": "2023-05-11T09:18:27.247455Z",
     "shell.execute_reply": "2023-05-11T09:18:27.246438Z",
     "shell.execute_reply.started": "2023-05-11T09:17:12.699212Z"
    }
   },
   "outputs": [],
   "source": [
    "df['target'] = df['target'].apply(lambda x: 1 if x == 4 else 0)\n",
    "\n",
    "# Tokenize the text using the TensorFlow Tokenizer function\n",
    "tokenizer = Tokenizer(num_words=3000, oov_token='<OOV>')\n",
    "tokenizer.fit_on_texts(df['clean_text'])\n",
    "# Convert the texts to sequences of tokens\n",
    "sequences = tokenizer.texts_to_sequences(df['clean_text'])\n",
    "# Pad the sequences to a maximum length of the longest message\n",
    "maxlen = max(len(seq) for seq in sequences)\n",
    "\n",
    "padded_sequences = tf.keras.utils.pad_sequences(sequences, maxlen=maxlen)\n",
    "\n",
    "# Split the data into training and testing sets\n",
    "X_train, X_test, y_train, y_test = train_test_split(padded_sequences, df['target'], test_size=0.2, random_state=42)"
   ]
  },
  {
   "cell_type": "markdown",
   "id": "84c1e2a9",
   "metadata": {},
   "source": [
    "Entrenamos el modelo con los hiperparametros que conseguimos el mejor accuracy:\n",
    "\n",
    "**num_heads=6, batch_size=32, sizedense=128**"
   ]
  },
  {
   "cell_type": "code",
   "execution_count": null,
   "id": "cf569021",
   "metadata": {
    "execution": {
     "iopub.execute_input": "2023-05-16T19:50:40.694147Z",
     "iopub.status.busy": "2023-05-16T19:50:40.693735Z"
    }
   },
   "outputs": [
    {
     "name": "stdout",
     "output_type": "stream",
     "text": [
      "Epoch 1/100\n",
      "500/500 [==============================] - 22s 28ms/step - loss: 0.6699 - binary_accuracy: 0.5574 - val_loss: 0.5627 - val_binary_accuracy: 0.7145\n",
      "Epoch 2/100\n",
      "500/500 [==============================] - 6s 12ms/step - loss: 0.4887 - binary_accuracy: 0.7674 - val_loss: 0.5119 - val_binary_accuracy: 0.7585\n",
      "Epoch 3/100\n",
      "500/500 [==============================] - 6s 12ms/step - loss: 0.4297 - binary_accuracy: 0.8036 - val_loss: 0.5113 - val_binary_accuracy: 0.7550\n",
      "Epoch 4/100\n",
      "500/500 [==============================] - 5s 10ms/step - loss: 0.3989 - binary_accuracy: 0.8161 - val_loss: 0.5587 - val_binary_accuracy: 0.7517\n",
      "Epoch 5/100\n",
      "500/500 [==============================] - 5s 10ms/step - loss: 0.3730 - binary_accuracy: 0.8304 - val_loss: 0.5730 - val_binary_accuracy: 0.7530\n",
      "Epoch 6/100\n",
      "500/500 [==============================] - 5s 10ms/step - loss: 0.3587 - binary_accuracy: 0.8328 - val_loss: 0.5648 - val_binary_accuracy: 0.7437\n",
      "Epoch 7/100\n",
      "500/500 [==============================] - 6s 12ms/step - loss: 0.3382 - binary_accuracy: 0.8388 - val_loss: 0.6054 - val_binary_accuracy: 0.7442\n",
      "Epoch 8/100\n",
      "500/500 [==============================] - 5s 9ms/step - loss: 0.3201 - binary_accuracy: 0.8430 - val_loss: 0.6774 - val_binary_accuracy: 0.7508\n",
      "Epoch 9/100\n",
      "500/500 [==============================] - 5s 10ms/step - loss: 0.3098 - binary_accuracy: 0.8451 - val_loss: 0.6855 - val_binary_accuracy: 0.7450\n",
      "Epoch 10/100\n",
      "500/500 [==============================] - 5s 11ms/step - loss: 0.2966 - binary_accuracy: 0.8466 - val_loss: 0.7012 - val_binary_accuracy: 0.7435\n",
      "Epoch 11/100\n",
      "500/500 [==============================] - 5s 10ms/step - loss: 0.2898 - binary_accuracy: 0.8507 - val_loss: 0.7489 - val_binary_accuracy: 0.7423\n",
      "Epoch 12/100\n",
      "500/500 [==============================] - 5s 10ms/step - loss: 0.2771 - binary_accuracy: 0.8539 - val_loss: 0.8081 - val_binary_accuracy: 0.7322\n",
      "Epoch 13/100\n",
      "500/500 [==============================] - 5s 10ms/step - loss: 0.2668 - binary_accuracy: 0.8562 - val_loss: 0.7765 - val_binary_accuracy: 0.7095\n",
      "Epoch 14/100\n",
      "500/500 [==============================] - 5s 10ms/step - loss: 0.2607 - binary_accuracy: 0.8566 - val_loss: 0.8384 - val_binary_accuracy: 0.7427\n",
      "Epoch 15/100\n",
      "500/500 [==============================] - 5s 10ms/step - loss: 0.2540 - binary_accuracy: 0.8597 - val_loss: 0.7682 - val_binary_accuracy: 0.7283\n",
      "Epoch 16/100\n",
      "500/500 [==============================] - 5s 10ms/step - loss: 0.2431 - binary_accuracy: 0.8671 - val_loss: 0.8704 - val_binary_accuracy: 0.7140\n",
      "Epoch 17/100\n",
      "500/500 [==============================] - 5s 10ms/step - loss: 0.2436 - binary_accuracy: 0.8676 - val_loss: 0.8285 - val_binary_accuracy: 0.7070\n",
      "Epoch 18/100\n",
      "500/500 [==============================] - 5s 10ms/step - loss: 0.2328 - binary_accuracy: 0.8758 - val_loss: 0.8950 - val_binary_accuracy: 0.7178\n",
      "Epoch 19/100\n",
      "500/500 [==============================] - 6s 11ms/step - loss: 0.2280 - binary_accuracy: 0.8811 - val_loss: 0.8784 - val_binary_accuracy: 0.7088\n",
      "Epoch 20/100\n",
      "500/500 [==============================] - 5s 9ms/step - loss: 0.2271 - binary_accuracy: 0.8834 - val_loss: 0.8696 - val_binary_accuracy: 0.7060\n",
      "Epoch 21/100\n",
      " 57/500 [==>...........................] - ETA: 3s - loss: 0.2111 - binary_accuracy: 0.8964"
     ]
    }
   ],
   "source": [
    "earlystop_callback = EarlyStopping(monitor='loss', patience=5)\n",
    "\n",
    "#Defino el modelo con los mejores hiperparametros encontrados:\n",
    "inputs = layers.Input(shape=(maxlen,))\n",
    "# Token and position embedding\n",
    "embedding_layer = TokenAndPositionEmbedding(maxlen, vocab_size, embed_dim)\n",
    "x = embedding_layer(inputs)\n",
    "# Transformer\n",
    "transformer_block = Transformer(128, 16, 6)\n",
    "x = transformer_block(x)\n",
    "# Output\n",
    "outputs = layers.Dense(1, activation='sigmoid')(x)\n",
    "# Define the model\n",
    "model = tf.keras.Model(inputs=inputs, outputs=outputs)\n",
    "#Compile the model\n",
    "model.compile(loss='binary_crossentropy', optimizer='adam', metrics=['binary_accuracy'])\n",
    "# Fit the model to the training data\n",
    "history = model.fit(X_train, y_train, epochs=100, batch_size=32,callbacks=[earlystop_callback],\n",
    "                        validation_data=(X_test, y_test), verbose=1)"
   ]
  },
  {
   "cell_type": "code",
   "execution_count": 30,
   "id": "43cb466e",
   "metadata": {
    "execution": {
     "iopub.execute_input": "2023-05-16T06:49:30.868461Z",
     "iopub.status.busy": "2023-05-16T06:49:30.868038Z",
     "iopub.status.idle": "2023-05-16T06:49:30.876572Z",
     "shell.execute_reply": "2023-05-16T06:49:30.874918Z",
     "shell.execute_reply.started": "2023-05-16T06:49:30.868419Z"
    }
   },
   "outputs": [],
   "source": [
    "def plot_neural_network(model_history):\n",
    "    # Visualizamos la evolución de la accuracy\n",
    "    plt.plot(model_history.history['binary_accuracy'])\n",
    "    plt.plot(model_history.history['val_binary_accuracy'])\n",
    "    plt.title('Model accuracy')\n",
    "    plt.ylabel('accuracy')\n",
    "    plt.xlabel('epoch')\n",
    "    plt.legend(['train', 'validation'], loc='lower right')\n",
    "    plt.show()\n",
    "\n",
    "    # Visualizamos la evolución del error cometido por la red\n",
    "    plt.plot(model_history.history['loss'])\n",
    "    plt.plot(model_history.history['val_loss'])\n",
    "    plt.title('Model loss')\n",
    "    plt.ylabel('loss')\n",
    "    plt.xlabel('epoch')\n",
    "    plt.legend(['train', 'validation'], loc='upper right')\n",
    "    plt.show()"
   ]
  },
  {
   "cell_type": "code",
   "execution_count": 31,
   "id": "e3e446bb",
   "metadata": {
    "execution": {
     "iopub.execute_input": "2023-05-16T06:49:31.776660Z",
     "iopub.status.busy": "2023-05-16T06:49:31.775962Z",
     "iopub.status.idle": "2023-05-16T06:49:32.287955Z",
     "shell.execute_reply": "2023-05-16T06:49:32.286827Z",
     "shell.execute_reply.started": "2023-05-16T06:49:31.776625Z"
    }
   },
   "outputs": [
    {
     "data": {
      "image/png": "[encoded data removed]",
      "text/plain": [
       "<Figure size 640x480 with 1 Axes>"
      ]
     },
     "metadata": {},
     "output_type": "display_data"
    },
    {
     "data": {
      "image/png": "[encoded data removed]",
      "text/plain": [
       "<Figure size 640x480 with 1 Axes>"
      ]
     },
     "metadata": {},
     "output_type": "display_data"
    }
   ],
   "source": [
    "plot_neural_network(history)"
   ]
  },
  {
   "cell_type": "code",
   "execution_count": 32,
   "id": "7a4a0c8a",
   "metadata": {
    "execution": {
     "iopub.execute_input": "2023-05-16T06:49:38.062596Z",
     "iopub.status.busy": "2023-05-16T06:49:38.062234Z",
     "iopub.status.idle": "2023-05-16T06:49:38.755687Z",
     "shell.execute_reply": "2023-05-16T06:49:38.754742Z",
     "shell.execute_reply.started": "2023-05-16T06:49:38.062565Z"
    }
   },
   "outputs": [
    {
     "name": "stdout",
     "output_type": "stream",
     "text": [
      "125/125 [==============================] - 0s 3ms/step - loss: 1.4162 - binary_accuracy: 0.6948\n",
      "Test loss: 1.4161943197250366\n",
      "Test accuracy: 0.6947500109672546\n"
     ]
    }
   ],
   "source": [
    "# Evaluate the model on the test data using `evaluate`\n",
    "loss, accuracy = model.evaluate(X_test, y_test)\n",
    "print('Test loss:', loss)\n",
    "print('Test accuracy:', accuracy)"
   ]
  },
  {
   "cell_type": "markdown",
   "id": "4f8d55d3",
   "metadata": {},
   "source": [
    "<div style=\"background-color: #fcf2f2; border-color: #dfb5b4; border-left: 5px solid #dfb5b4; padding: 0.5em;\">\n",
    "<strong>Comentarios:</strong>\n",
    "<br><br>\n",
    "    Podemos ver que al aumentar la cantidad de datos de entrenamiento el accuracy del modelo aumenta con respecto a los modelos anteriores que fueron entrenados con una porción del dataset. Esto se debe a que a mayor cantidad de datos, más diversa y representativa se vuelven las muestras de las que el modelo aprende, lo cual puede además reducir los outliers o ruido. \n",
    "   <br>\n",
    "    Además ayuda a prevenir el overfitting, porque el modelo se expone a más variabilidad en los datos, de forma que puede encontrar con más facilidad los patrones.\n",
    "<br><br>\n",
    "</div>"
   ]
  },
  {
   "cell_type": "markdown",
   "id": "dad81a6d",
   "metadata": {},
   "source": [
    "## 2.5. Extra \n",
    "Al tratarse Sentiment140 de un dataset público es habitual que los investigadores, equipos de data scientist o miembros de la comunidad de la ciencia de datos reporten los resultados obtenidos con sus nuevos algorítmos. En los últimos años se ha hecho popular una página web que reporta los resultados obtenidos por diferentes equipos junto con código reproducible: https://paperswithcode.com/sota/text-classification-on-sentiment140\n"
   ]
  },
  {
   "cell_type": "markdown",
   "id": "cb17016f",
   "metadata": {},
   "source": [
    "<div style=\"background-color: #EDF7FF; border-color: #7C9DBF; border-left: 5px solid #7C9DBF; padding: 0.5em;\">\n",
    " Este apartado es un ejercicio extra que no es obligatorio realizar. Se trata de explorar los resultados reportados en la url indicada. Comprobarás que los resultados obtenidos están basados en modelos de lenguage de gran tamaño finetuneados sobre el dominio. Se anima al alumno a probar a cambiar la arquitectura utilizada o a utilizar alguno de los modelos y finetunearlo sobre el dominio con la ayuda de librerías como huggingface e intentar obtener resultados que se acerquen (¿o supéren?) a los benchmarks reportados.\n",
    "</div>"
   ]
  },
  {
   "cell_type": "code",
   "execution_count": null,
   "id": "92139472",
   "metadata": {
    "execution": {
     "iopub.status.busy": "2023-05-08T08:25:46.687843Z",
     "iopub.status.idle": "2023-05-08T08:25:46.688616Z",
     "shell.execute_reply": "2023-05-08T08:25:46.688356Z",
     "shell.execute_reply.started": "2023-05-08T08:25:46.688330Z"
    }
   },
   "outputs": [],
   "source": [
    "## Apartado extra opcional."
   ]
  },
  {
   "cell_type": "markdown",
   "id": "3b9e3aec",
   "metadata": {},
   "source": [
    "# 3. Ejercicio sobre traducción de textos\n",
    "En esta segunda parte vamos a utilizar una base de datos distinta para mostrar uno de los problemas en los que las arquitecturas basadas en transformers son más potentes: la conversión de secuencias a secuencias. En este caso lo vamos a entender como una traducción de un idioma a otro, pero esto es generalizable. Arquitecturas similares se podrían utilizar para convertir una secuencia larga (texto) a una secuencia (resumen), para reducir la complejidad de lectura de un texto, para transcribirlo a lenguaje de signos, etc.\n",
    "\n",
    "## 3.1 Importación de los datos y preprocesamiento previo\n",
    "En este caso la base de datos que se va a utilizar es la llamada WMT2014 English-French que contiene frases traducidas entre inglés y frances. \n",
    "Los datos se pueden descargar de:\n",
    "https://paperswithcode.com/sota/machine-translation-on-wmt2014-english-french\n",
    "\n",
    "Se trata de un fichero enorme. Por ello únicamente se van a utilzar un fragmento de todos los pares de frases del fichero. Se recomienda no cargar todos los datos simultaneamente para evitar problemas de memoria y de tiempo de computación.\n",
    "\n",
    "\n"
   ]
  },
  {
   "cell_type": "markdown",
   "id": "06cdc6ab",
   "metadata": {},
   "source": [
    "<div style=\"background-color: #EDF7FF; border-color: #7C9DBF; border-left: 5px solid #7C9DBF; padding: 0.5em;\">\n",
    "Al igual que en casos anteriores, el primer paso es cargar y preprocesar los datos de la forma adecuada. Para ello se pide:\n",
    "    \n",
    "* Cargar las primeras 100.000 lineas del dataset proporcionado.\n",
    "* Procesar el dataset de forma que se obtenga una lista de tuplas. El primer elemento de la tupla es la frase en inglés, el segundo elemento es la frase en frances. Al comienzo y final de la frase objetivo hay que añadir un caracter especial de comienzo [start] y fin de frase [end]: e.g. [start] lle découle de notre étonnement [end]\n",
    "* Limpiar los datos de caracteres extraños, pasar a minusculas, etc.\n",
    "* Mostrar varios pares de frases para comprobar que está correctamente procesado\n",
    "* Toma al azar un 80% de los datos como train y el resto como test\n",
    "* Comprueba que tus datos se llaman train_data y test_data  tienen la forma [(frase ingles, frase francés), (frase ingles,frase francés))  \n",
    "* Ejecuta la celda que se ha proporcionado para vectorizar y codificar los datos.\n",
    "\n",
    "</div>"
   ]
  },
  {
   "cell_type": "code",
   "execution_count": 3,
   "id": "7c278766",
   "metadata": {
    "execution": {
     "iopub.execute_input": "2023-05-21T16:56:41.582358Z",
     "iopub.status.busy": "2023-05-21T16:56:41.581969Z",
     "iopub.status.idle": "2023-05-21T16:56:41.586507Z",
     "shell.execute_reply": "2023-05-21T16:56:41.585588Z",
     "shell.execute_reply.started": "2023-05-21T16:56:41.582328Z"
    }
   },
   "outputs": [],
   "source": [
    "# Column names\n",
    "column_names = ['en', 'fr']"
   ]
  },
  {
   "cell_type": "code",
   "execution_count": 4,
   "id": "90d9ed5c",
   "metadata": {
    "execution": {
     "iopub.execute_input": "2023-05-21T16:56:42.288050Z",
     "iopub.status.busy": "2023-05-21T16:56:42.287568Z",
     "iopub.status.idle": "2023-05-21T16:56:43.042800Z",
     "shell.execute_reply": "2023-05-21T16:56:43.041889Z",
     "shell.execute_reply.started": "2023-05-21T16:56:42.288011Z"
    }
   },
   "outputs": [],
   "source": [
    "tr_data = pd.read_csv('/kaggle/input/en-fr-translation-dataset/en-fr.csv', nrows=100000, skiprows=1, names=column_names)"
   ]
  },
  {
   "cell_type": "code",
   "execution_count": 5,
   "id": "a0c77027",
   "metadata": {
    "execution": {
     "iopub.execute_input": "2023-05-21T16:56:43.265905Z",
     "iopub.status.busy": "2023-05-21T16:56:43.265272Z",
     "iopub.status.idle": "2023-05-21T16:56:43.271899Z",
     "shell.execute_reply": "2023-05-21T16:56:43.270880Z",
     "shell.execute_reply.started": "2023-05-21T16:56:43.265871Z"
    }
   },
   "outputs": [],
   "source": [
    "def preprocess(sentence):\n",
    "    if isinstance(sentence, str):\n",
    "\n",
    "        # Limpieza de caracteres extraños\n",
    "        sentence = re.sub(r\"[^a-zA-Z0-9\\s]\", \"\", sentence)\n",
    "\n",
    "        # Todo a misuculas\n",
    "        sentence = sentence.lower()\n",
    "\n",
    "        # Eliminación de espacios en blanco extras\n",
    "        sentence = re.sub(r\"\\s+\", \" \", sentence).strip()\n",
    "\n",
    "        # Agregados de tockens al inicio y final de cada frase\n",
    "        sentence = \"[start] \" + sentence + \" [end]\"\n",
    "    else:\n",
    "        sentence = ''\n",
    "\n",
    "    return sentence\n"
   ]
  },
  {
   "cell_type": "code",
   "execution_count": 6,
   "id": "4f79de35",
   "metadata": {
    "execution": {
     "iopub.execute_input": "2023-05-21T16:56:44.203821Z",
     "iopub.status.busy": "2023-05-21T16:56:44.203157Z",
     "iopub.status.idle": "2023-05-21T16:56:48.166739Z",
     "shell.execute_reply": "2023-05-21T16:56:48.165775Z",
     "shell.execute_reply.started": "2023-05-21T16:56:44.203788Z"
    }
   },
   "outputs": [],
   "source": [
    "# aplicamos la funcion a las columnas del dataset:\n",
    "tr_data['tr_en'] = tr_data['en'].apply(preprocess)\n",
    "tr_data['tr_fr'] = tr_data['fr'].apply(preprocess)"
   ]
  },
  {
   "cell_type": "markdown",
   "id": "5ca3c1e0",
   "metadata": {},
   "source": [
    "**Verificamos que las transformaciones sean correctas:**"
   ]
  },
  {
   "cell_type": "code",
   "execution_count": 7,
   "id": "9d09cac1",
   "metadata": {
    "execution": {
     "iopub.execute_input": "2023-05-21T16:56:49.278506Z",
     "iopub.status.busy": "2023-05-21T16:56:49.278136Z",
     "iopub.status.idle": "2023-05-21T16:56:49.299026Z",
     "shell.execute_reply": "2023-05-21T16:56:49.297204Z",
     "shell.execute_reply.started": "2023-05-21T16:56:49.278476Z"
    }
   },
   "outputs": [
    {
     "data": {
      "text/html": [
       "<div>\n",
       "<style scoped>\n",
       "    .dataframe tbody tr th:only-of-type {\n",
       "        vertical-align: middle;\n",
       "    }\n",
       "\n",
       "    .dataframe tbody tr th {\n",
       "        vertical-align: top;\n",
       "    }\n",
       "\n",
       "    .dataframe thead th {\n",
       "        text-align: right;\n",
       "    }\n",
       "</style>\n",
       "<table border=\"1\" class=\"dataframe\">\n",
       "  <thead>\n",
       "    <tr style=\"text-align: right;\">\n",
       "      <th></th>\n",
       "      <th>en</th>\n",
       "      <th>fr</th>\n",
       "      <th>tr_en</th>\n",
       "      <th>tr_fr</th>\n",
       "    </tr>\n",
       "  </thead>\n",
       "  <tbody>\n",
       "    <tr>\n",
       "      <th>0</th>\n",
       "      <td>Changing Lives | Changing Society | How It Wor...</td>\n",
       "      <td>Il a transformé notre vie | Il a transformé la...</td>\n",
       "      <td>[start] changing lives changing society how it...</td>\n",
       "      <td>[start] il a transform notre vie il a transfor...</td>\n",
       "    </tr>\n",
       "    <tr>\n",
       "      <th>1</th>\n",
       "      <td>Site map</td>\n",
       "      <td>Plan du site</td>\n",
       "      <td>[start] site map [end]</td>\n",
       "      <td>[start] plan du site [end]</td>\n",
       "    </tr>\n",
       "    <tr>\n",
       "      <th>2</th>\n",
       "      <td>Feedback</td>\n",
       "      <td>Rétroaction</td>\n",
       "      <td>[start] feedback [end]</td>\n",
       "      <td>[start] rtroaction [end]</td>\n",
       "    </tr>\n",
       "    <tr>\n",
       "      <th>3</th>\n",
       "      <td>Credits</td>\n",
       "      <td>Crédits</td>\n",
       "      <td>[start] credits [end]</td>\n",
       "      <td>[start] crdits [end]</td>\n",
       "    </tr>\n",
       "    <tr>\n",
       "      <th>4</th>\n",
       "      <td>Français</td>\n",
       "      <td>English</td>\n",
       "      <td>[start] franais [end]</td>\n",
       "      <td>[start] english [end]</td>\n",
       "    </tr>\n",
       "    <tr>\n",
       "      <th>5</th>\n",
       "      <td>What is light ?</td>\n",
       "      <td>Qu’est-ce que la lumière?</td>\n",
       "      <td>[start] what is light [end]</td>\n",
       "      <td>[start] questce que la lumire [end]</td>\n",
       "    </tr>\n",
       "    <tr>\n",
       "      <th>6</th>\n",
       "      <td>The white light spectrum Codes in the light Th...</td>\n",
       "      <td>La découverte du spectre de la lumière blanche...</td>\n",
       "      <td>[start] the white light spectrum codes in the ...</td>\n",
       "      <td>[start] la dcouverte du spectre de la lumire b...</td>\n",
       "    </tr>\n",
       "    <tr>\n",
       "      <th>7</th>\n",
       "      <td>The sky of the first inhabitants A contemporar...</td>\n",
       "      <td>Le ciel des premiers habitants La vision conte...</td>\n",
       "      <td>[start] the sky of the first inhabitants a con...</td>\n",
       "      <td>[start] le ciel des premiers habitants la visi...</td>\n",
       "    </tr>\n",
       "    <tr>\n",
       "      <th>8</th>\n",
       "      <td>Cartoon</td>\n",
       "      <td>Bande dessinée</td>\n",
       "      <td>[start] cartoon [end]</td>\n",
       "      <td>[start] bande dessine [end]</td>\n",
       "    </tr>\n",
       "    <tr>\n",
       "      <th>9</th>\n",
       "      <td>Links</td>\n",
       "      <td>Liens</td>\n",
       "      <td>[start] links [end]</td>\n",
       "      <td>[start] liens [end]</td>\n",
       "    </tr>\n",
       "    <tr>\n",
       "      <th>10</th>\n",
       "      <td>Glossary</td>\n",
       "      <td>Glossaire</td>\n",
       "      <td>[start] glossary [end]</td>\n",
       "      <td>[start] glossaire [end]</td>\n",
       "    </tr>\n",
       "    <tr>\n",
       "      <th>11</th>\n",
       "      <td>Observatories</td>\n",
       "      <td>Observatoires</td>\n",
       "      <td>[start] observatories [end]</td>\n",
       "      <td>[start] observatoires [end]</td>\n",
       "    </tr>\n",
       "    <tr>\n",
       "      <th>12</th>\n",
       "      <td>Astronomers Introduction Introduction video Wh...</td>\n",
       "      <td>Astronomes Introduction Vidéo d'introduction Q...</td>\n",
       "      <td>[start] astronomers introduction introduction ...</td>\n",
       "      <td>[start] astronomes introduction vido dintroduc...</td>\n",
       "    </tr>\n",
       "    <tr>\n",
       "      <th>13</th>\n",
       "      <td>Often considered the oldest science, it was bo...</td>\n",
       "      <td>Souvent considérée comme la plus ancienne des ...</td>\n",
       "      <td>[start] often considered the oldest science it...</td>\n",
       "      <td>[start] souvent considre comme la plus ancienn...</td>\n",
       "    </tr>\n",
       "    <tr>\n",
       "      <th>14</th>\n",
       "      <td>The name is derived from the Greek root astron...</td>\n",
       "      <td>Son nom vient du grec astron, qui veut dire ét...</td>\n",
       "      <td>[start] the name is derived from the greek roo...</td>\n",
       "      <td>[start] son nom vient du grec astron qui veut ...</td>\n",
       "    </tr>\n",
       "    <tr>\n",
       "      <th>15</th>\n",
       "      <td>Astronomy is concerned with celestial objects ...</td>\n",
       "      <td>Elle s'intéresse à des objets et des phénomène...</td>\n",
       "      <td>[start] astronomy is concerned with celestial ...</td>\n",
       "      <td>[start] elle sintresse des objets et des phnom...</td>\n",
       "    </tr>\n",
       "    <tr>\n",
       "      <th>16</th>\n",
       "      <td>More specifically, astronomy is the study of t...</td>\n",
       "      <td>Plus spécifiquement, elle étudie la formation ...</td>\n",
       "      <td>[start] more specifically astronomy is the stu...</td>\n",
       "      <td>[start] plus spcifiquement elle tudie la forma...</td>\n",
       "    </tr>\n",
       "    <tr>\n",
       "      <th>17</th>\n",
       "      <td>For most people, astronomy represents a world ...</td>\n",
       "      <td>Pour la majorité des gens, l'astronomie évoque...</td>\n",
       "      <td>[start] for most people astronomy represents a...</td>\n",
       "      <td>[start] pour la majorit des gens lastronomie v...</td>\n",
       "    </tr>\n",
       "    <tr>\n",
       "      <th>18</th>\n",
       "      <td>It prompts us to ask the deepest existential q...</td>\n",
       "      <td>L'astronomie évoque donc aussi les grandes que...</td>\n",
       "      <td>[start] it prompts us to ask the deepest exist...</td>\n",
       "      <td>[start] lastronomie voque donc aussi les grand...</td>\n",
       "    </tr>\n",
       "    <tr>\n",
       "      <th>19</th>\n",
       "      <td>Who are we?</td>\n",
       "      <td>Où sommes-nous?</td>\n",
       "      <td>[start] who are we [end]</td>\n",
       "      <td>[start] o sommesnous [end]</td>\n",
       "    </tr>\n",
       "  </tbody>\n",
       "</table>\n",
       "</div>"
      ],
      "text/plain": [
       "                                                   en  \\\n",
       "0   Changing Lives | Changing Society | How It Wor...   \n",
       "1                                            Site map   \n",
       "2                                            Feedback   \n",
       "3                                             Credits   \n",
       "4                                            Français   \n",
       "5                                     What is light ?   \n",
       "6   The white light spectrum Codes in the light Th...   \n",
       "7   The sky of the first inhabitants A contemporar...   \n",
       "8                                             Cartoon   \n",
       "9                                               Links   \n",
       "10                                           Glossary   \n",
       "11                                      Observatories   \n",
       "12  Astronomers Introduction Introduction video Wh...   \n",
       "13  Often considered the oldest science, it was bo...   \n",
       "14  The name is derived from the Greek root astron...   \n",
       "15  Astronomy is concerned with celestial objects ...   \n",
       "16  More specifically, astronomy is the study of t...   \n",
       "17  For most people, astronomy represents a world ...   \n",
       "18  It prompts us to ask the deepest existential q...   \n",
       "19                                        Who are we?   \n",
       "\n",
       "                                                   fr  \\\n",
       "0   Il a transformé notre vie | Il a transformé la...   \n",
       "1                                        Plan du site   \n",
       "2                                         Rétroaction   \n",
       "3                                             Crédits   \n",
       "4                                             English   \n",
       "5                           Qu’est-ce que la lumière?   \n",
       "6   La découverte du spectre de la lumière blanche...   \n",
       "7   Le ciel des premiers habitants La vision conte...   \n",
       "8                                      Bande dessinée   \n",
       "9                                               Liens   \n",
       "10                                          Glossaire   \n",
       "11                                      Observatoires   \n",
       "12  Astronomes Introduction Vidéo d'introduction Q...   \n",
       "13  Souvent considérée comme la plus ancienne des ...   \n",
       "14  Son nom vient du grec astron, qui veut dire ét...   \n",
       "15  Elle s'intéresse à des objets et des phénomène...   \n",
       "16  Plus spécifiquement, elle étudie la formation ...   \n",
       "17  Pour la majorité des gens, l'astronomie évoque...   \n",
       "18  L'astronomie évoque donc aussi les grandes que...   \n",
       "19                                    Où sommes-nous?   \n",
       "\n",
       "                                                tr_en  \\\n",
       "0   [start] changing lives changing society how it...   \n",
       "1                              [start] site map [end]   \n",
       "2                              [start] feedback [end]   \n",
       "3                               [start] credits [end]   \n",
       "4                               [start] franais [end]   \n",
       "5                         [start] what is light [end]   \n",
       "6   [start] the white light spectrum codes in the ...   \n",
       "7   [start] the sky of the first inhabitants a con...   \n",
       "8                               [start] cartoon [end]   \n",
       "9                                 [start] links [end]   \n",
       "10                             [start] glossary [end]   \n",
       "11                        [start] observatories [end]   \n",
       "12  [start] astronomers introduction introduction ...   \n",
       "13  [start] often considered the oldest science it...   \n",
       "14  [start] the name is derived from the greek roo...   \n",
       "15  [start] astronomy is concerned with celestial ...   \n",
       "16  [start] more specifically astronomy is the stu...   \n",
       "17  [start] for most people astronomy represents a...   \n",
       "18  [start] it prompts us to ask the deepest exist...   \n",
       "19                           [start] who are we [end]   \n",
       "\n",
       "                                                tr_fr  \n",
       "0   [start] il a transform notre vie il a transfor...  \n",
       "1                          [start] plan du site [end]  \n",
       "2                            [start] rtroaction [end]  \n",
       "3                                [start] crdits [end]  \n",
       "4                               [start] english [end]  \n",
       "5                 [start] questce que la lumire [end]  \n",
       "6   [start] la dcouverte du spectre de la lumire b...  \n",
       "7   [start] le ciel des premiers habitants la visi...  \n",
       "8                         [start] bande dessine [end]  \n",
       "9                                 [start] liens [end]  \n",
       "10                            [start] glossaire [end]  \n",
       "11                        [start] observatoires [end]  \n",
       "12  [start] astronomes introduction vido dintroduc...  \n",
       "13  [start] souvent considre comme la plus ancienn...  \n",
       "14  [start] son nom vient du grec astron qui veut ...  \n",
       "15  [start] elle sintresse des objets et des phnom...  \n",
       "16  [start] plus spcifiquement elle tudie la forma...  \n",
       "17  [start] pour la majorit des gens lastronomie v...  \n",
       "18  [start] lastronomie voque donc aussi les grand...  \n",
       "19                         [start] o sommesnous [end]  "
      ]
     },
     "execution_count": 7,
     "metadata": {},
     "output_type": "execute_result"
    }
   ],
   "source": [
    "tr_data.head(20)"
   ]
  },
  {
   "cell_type": "markdown",
   "id": "f14050d6",
   "metadata": {},
   "source": [
    "**Creamos las listas de tuplas:**"
   ]
  },
  {
   "cell_type": "code",
   "execution_count": 8,
   "id": "f46316fa",
   "metadata": {
    "execution": {
     "iopub.execute_input": "2023-05-21T16:56:52.042842Z",
     "iopub.status.busy": "2023-05-21T16:56:52.042456Z",
     "iopub.status.idle": "2023-05-21T16:56:52.104014Z",
     "shell.execute_reply": "2023-05-21T16:56:52.103188Z",
     "shell.execute_reply.started": "2023-05-21T16:56:52.042814Z"
    }
   },
   "outputs": [
    {
     "data": {
      "text/plain": [
       "('[start] site map [end]', '[start] plan du site [end]')"
      ]
     },
     "execution_count": 8,
     "metadata": {},
     "output_type": "execute_result"
    }
   ],
   "source": [
    "sentences = list(zip(tr_data['tr_en'], tr_data['tr_fr']))\n",
    "sentences[1]"
   ]
  },
  {
   "cell_type": "code",
   "execution_count": 9,
   "id": "ee849535",
   "metadata": {
    "execution": {
     "iopub.execute_input": "2023-05-21T16:56:52.679522Z",
     "iopub.status.busy": "2023-05-21T16:56:52.679132Z",
     "iopub.status.idle": "2023-05-21T16:56:52.716635Z",
     "shell.execute_reply": "2023-05-21T16:56:52.715796Z",
     "shell.execute_reply.started": "2023-05-21T16:56:52.679493Z"
    }
   },
   "outputs": [],
   "source": [
    "# split the data into training and test sets\n",
    "train_data, test_data = train_test_split(sentences, test_size=0.2, random_state=42)"
   ]
  },
  {
   "cell_type": "markdown",
   "id": "baa23fb6",
   "metadata": {},
   "source": [
    "**Verificamos el formato de los datasets:**"
   ]
  },
  {
   "cell_type": "code",
   "execution_count": 10,
   "id": "4ff4b2b2",
   "metadata": {
    "execution": {
     "iopub.execute_input": "2023-05-21T16:56:54.372206Z",
     "iopub.status.busy": "2023-05-21T16:56:54.371292Z",
     "iopub.status.idle": "2023-05-21T16:56:54.377368Z",
     "shell.execute_reply": "2023-05-21T16:56:54.376102Z",
     "shell.execute_reply.started": "2023-05-21T16:56:54.372167Z"
    }
   },
   "outputs": [
    {
     "name": "stdout",
     "output_type": "stream",
     "text": [
      "('[start] the government of canada supports efforts to combat violence against girls and women 20071113 status of women canada [end]', '[start] le gouvernement du canada appuie les efforts de lutte contre la violence faite aux filles et aux femmes 20071113 condition fminine canada [end]')\n",
      "('[start] thailand and germany collaborate on international conference thailand and germany will be cohosting an international conference on food safety and nutrition to assist the creation of new international food standards [end]', '[start] la thalande et lallemagne collaborent pour organiser une confrence internationale la thalande et lallemagne seront les htes conjoints dune confrence internationale sur la salubrit des aliments et la nutrition laquelle vise la cration de nouvelles normes alimentaires internationales [end]')\n"
     ]
    }
   ],
   "source": [
    "print(train_data[100])\n",
    "print(test_data[100])"
   ]
  },
  {
   "cell_type": "code",
   "execution_count": 11,
   "id": "768d75e0",
   "metadata": {
    "execution": {
     "iopub.execute_input": "2023-05-21T16:56:57.108560Z",
     "iopub.status.busy": "2023-05-21T16:56:57.107562Z",
     "iopub.status.idle": "2023-05-21T16:57:17.746297Z",
     "shell.execute_reply": "2023-05-21T16:57:17.745349Z",
     "shell.execute_reply.started": "2023-05-21T16:56:57.108520Z"
    }
   },
   "outputs": [],
   "source": [
    "###########################################################\n",
    "# Esta celda para vectorizar los datos se propociona ######\n",
    "###########################################################\n",
    "\n",
    "vocab_size = 15000\n",
    "sequence_length = 20\n",
    "batch_size = 64\n",
    "\n",
    "eng_vectorization = TextVectorization(max_tokens=vocab_size, output_mode=\"int\", output_sequence_length=sequence_length,)\n",
    "fr_vectorization = TextVectorization(max_tokens=vocab_size,output_mode=\"int\",output_sequence_length=sequence_length + 1,)\n",
    "\n",
    "train_eng_texts = [pair[0] for pair in train_data]\n",
    "train_fr_texts = [pair[1] for pair in train_data]\n",
    "\n",
    "eng_vectorization.adapt(train_eng_texts)\n",
    "fr_vectorization.adapt(train_fr_texts)\n",
    "\n",
    "\n",
    "def format_dataset(eng, fr):\n",
    "    eng = eng_vectorization(eng)\n",
    "    fr = fr_vectorization(fr)\n",
    "    return ({\"encoder_inputs\": eng, \"decoder_inputs\": fr[:, :-1],}, fr[:, 1:])\n",
    "\n",
    "\n",
    "def make_dataset(pairs):\n",
    "    eng_texts, fr_texts = zip(*pairs)\n",
    "    eng_texts = list(eng_texts)\n",
    "    fr_texts = list(fr_texts)\n",
    "    dataset = tf.data.Dataset.from_tensor_slices((eng_texts, fr_texts))\n",
    "    dataset = dataset.batch(batch_size)\n",
    "    dataset = dataset.map(format_dataset)\n",
    "    return dataset.shuffle(2048).prefetch(16).cache()\n",
    "\n",
    "\n",
    "train_vectorized = make_dataset(train_data)\n",
    "\n",
    "val_vectorized = make_dataset(test_data)"
   ]
  },
  {
   "cell_type": "code",
   "execution_count": 12,
   "id": "d0c331b4",
   "metadata": {
    "execution": {
     "iopub.execute_input": "2023-05-21T16:57:17.748614Z",
     "iopub.status.busy": "2023-05-21T16:57:17.748275Z",
     "iopub.status.idle": "2023-05-21T16:57:18.049927Z",
     "shell.execute_reply": "2023-05-21T16:57:18.048839Z",
     "shell.execute_reply.started": "2023-05-21T16:57:17.748583Z"
    }
   },
   "outputs": [
    {
     "name": "stdout",
     "output_type": "stream",
     "text": [
      "({'encoder_inputs': <tf.Tensor: shape=(64, 20), dtype=int64, numpy=\n",
      "array([[   4,  583,    8, ...,    0,    0,    0],\n",
      "       [   4, 2915,    3, ...,    0,    0,    0],\n",
      "       [   4,   41,  655, ...,   34, 1017,    3],\n",
      "       ...,\n",
      "       [   4,  155, 2977, ..., 2211,   20,  141],\n",
      "       [   4,    2,    1, ...,  369,  621,    2],\n",
      "       [   4,  449,    7, ...,  387,   92,  258]])>, 'decoder_inputs': <tf.Tensor: shape=(64, 20), dtype=int64, numpy=\n",
      "array([[   4, 1827,    6, ...,    0,    0,    0],\n",
      "       [   4,   26, 6088, ...,    0,    0,    0],\n",
      "       [   4,    7,   85, ...,    6,  130,    1],\n",
      "       ...,\n",
      "       [   4,  132,    9, ...,   43,   25,  289],\n",
      "       [   4,    1,   13, ...,  210,   48,   86],\n",
      "       [   4, 1655,    7, ..., 4955,    9,  439]])>}, <tf.Tensor: shape=(64, 20), dtype=int64, numpy=\n",
      "array([[1827,    6, 4143, ...,    0,    0,    0],\n",
      "       [  26, 6088,    3, ...,    0,    0,    0],\n",
      "       [   7,   85,  632, ...,  130,    1,   56],\n",
      "       ...,\n",
      "       [ 132,    9,   72, ...,   25,  289,  118],\n",
      "       [   1,   13,    5, ...,   48,   86,    2],\n",
      "       [1655,    7,  260, ...,    9,  439,   21]])>)\n"
     ]
    }
   ],
   "source": [
    "first_element = next(iter(val_vectorized))\n",
    "\n",
    "print((first_element))"
   ]
  },
  {
   "cell_type": "markdown",
   "id": "3f026dbe",
   "metadata": {},
   "source": [
    "## 3.2. Modifica el bloque de transformer\n",
    "A continuación se proporciona un bloque transformer del tipo seq2seq con un encoder y un decoder antes de la salida. "
   ]
  },
  {
   "cell_type": "markdown",
   "id": "31045805",
   "metadata": {},
   "source": [
    "<div style=\"background-color: #EDF7FF; border-color: #7C9DBF; border-left: 5px solid #7C9DBF; padding: 0.5em;\">\n",
    "<p><strong>Ejercicio [1 pts.]:</strong></p> Se propone realizar algunos cambios sobre la implementación del bloque transformer:\n",
    "    \n",
    "* Añade una capa de atención de una sola cabeza al final del encoder.\n",
    "* Añade una capa fully connected en el encoder\n",
    "* Duplica el bloque encoder\n",
    "* Añade una capa de dropout despues del bloque del decoder.\n",
    "\n",
    "</div>"
   ]
  },
  {
   "cell_type": "code",
   "execution_count": null,
   "id": "ee12cca8",
   "metadata": {},
   "outputs": [],
   "source": [
    "\"\"\"\"\n",
    "########################################\n",
    "# Codigo proporcionado #################\n",
    "########################################\n",
    "class TransformerEncoder(layers.Layer):\n",
    "    def __init__(self, embed_dim, dense_dim, num_heads, **kwargs):\n",
    "        super().__init__(**kwargs)\n",
    "        self.embed_dim = embed_dim\n",
    "        self.dense_dim = dense_dim\n",
    "        self.num_heads = num_heads\n",
    "        self.attention = layers.MultiHeadAttention(num_heads=num_heads, key_dim=embed_dim)\n",
    "        self.dense_proj = keras.Sequential([layers.Dense(dense_dim, activation=\"relu\"), layers.Dense(embed_dim),])\n",
    "        self.layernorm_1 = layers.LayerNormalization()\n",
    "        self.layernorm_2 = layers.LayerNormalization()\n",
    "        self.supports_masking = True\n",
    "\n",
    "    def call(self, inputs, mask=None):\n",
    "        if mask is not None:\n",
    "            padding_mask = tf.cast(mask[:, tf.newaxis, :], dtype=\"int32\")\n",
    "        attention_output = self.attention(query=inputs, value=inputs, key=inputs, attention_mask=padding_mask)\n",
    "        proj_input = self.layernorm_1(inputs + attention_output)\n",
    "        proj_output = self.dense_proj(proj_input)\n",
    "        return self.layernorm_2(proj_input + proj_output)\n",
    "\n",
    "\n",
    "class PositionalEmbedding(layers.Layer):\n",
    "    def __init__(self, sequence_length, vocab_size, embed_dim, **kwargs):\n",
    "        super().__init__(**kwargs)\n",
    "        self.token_embeddings = layers.Embedding(input_dim=vocab_size, output_dim=embed_dim)\n",
    "        self.position_embeddings = layers.Embedding(input_dim=sequence_length, output_dim=embed_dim)\n",
    "        self.sequence_length = sequence_length\n",
    "        self.vocab_size = vocab_size\n",
    "        self.embed_dim = embed_dim\n",
    "\n",
    "    def call(self, inputs):\n",
    "        length = tf.shape(inputs)[-1]\n",
    "        positions = tf.range(start=0, limit=length, delta=1)\n",
    "        embedded_tokens = self.token_embeddings(inputs)\n",
    "        embedded_positions = self.position_embeddings(positions)\n",
    "        return embedded_tokens + embedded_positions\n",
    "\n",
    "    def compute_mask(self, inputs, mask=None):\n",
    "        return tf.math.not_equal(inputs, 0)\n",
    "\n",
    "\n",
    "class TransformerDecoder(layers.Layer):\n",
    "    def __init__(self, embed_dim, latent_dim, num_heads, **kwargs):\n",
    "        super().__init__(**kwargs)\n",
    "        self.embed_dim = embed_dim\n",
    "        self.latent_dim = latent_dim\n",
    "        self.num_heads = num_heads\n",
    "        self.attention_1 = layers.MultiHeadAttention(num_heads=num_heads, key_dim=embed_dim)\n",
    "        self.attention_2 = layers.MultiHeadAttention(num_heads=num_heads, key_dim=embed_dim)\n",
    "        self.dense_proj = keras.Sequential([layers.Dense(latent_dim, activation=\"relu\"), layers.Dense(embed_dim),])\n",
    "        self.layernorm_1 = layers.LayerNormalization()\n",
    "        self.layernorm_2 = layers.LayerNormalization()\n",
    "        self.layernorm_3 = layers.LayerNormalization()\n",
    "        self.supports_masking = True\n",
    "\n",
    "    def call(self, inputs, encoder_outputs, mask=None):\n",
    "        causal_mask = self.get_causal_attention_mask(inputs)\n",
    "        if mask is not None:\n",
    "            padding_mask = tf.cast(mask[:, tf.newaxis, :], dtype=\"int32\")\n",
    "            padding_mask = tf.minimum(padding_mask, causal_mask)\n",
    "\n",
    "        attention_output_1 = self.attention_1(query=inputs, value=inputs, key=inputs, attention_mask=causal_mask)\n",
    "        out_1 = self.layernorm_1(inputs + attention_output_1)\n",
    "\n",
    "        attention_output_2 = self.attention_2(query=out_1,value=encoder_outputs,key=encoder_outputs,attention_mask=padding_mask,)\n",
    "        out_2 = self.layernorm_2(out_1 + attention_output_2)\n",
    "\n",
    "        proj_output = self.dense_proj(out_1)\n",
    "        return self.layernorm_3(out_2 + proj_output)\n",
    "\n",
    "    def get_causal_attention_mask(self, inputs):\n",
    "        input_shape = tf.shape(inputs)\n",
    "        batch_size, sequence_length = input_shape[0], input_shape[1]\n",
    "        i = tf.range(sequence_length)[:, tf.newaxis]\n",
    "        j = tf.range(sequence_length)\n",
    "        mask = tf.cast(i >= j, dtype=\"int32\")\n",
    "        mask = tf.reshape(mask, (1, input_shape[1], input_shape[1]))\n",
    "        mult = tf.concat(\n",
    "            [tf.expand_dims(batch_size, -1), tf.constant([1, 1], dtype=tf.int32)],\n",
    "            axis=0,\n",
    "        )\n",
    "        return tf.tile(mask, mult)\n",
    "\n",
    "embed_dim = 128\n",
    "latent_dim = 1024\n",
    "num_heads = 2\n",
    "\n",
    "encoder_inputs = keras.Input(shape=(None,), dtype=\"int64\", name=\"encoder_inputs\")\n",
    "x = PositionalEmbedding(sequence_length, vocab_size, embed_dim)(encoder_inputs)\n",
    "encoder_outputs = TransformerEncoder(embed_dim, latent_dim, num_heads)(x)\n",
    "encoder = keras.Model(encoder_inputs, encoder_outputs)\n",
    "\n",
    "decoder_inputs = keras.Input(shape=(None,), dtype=\"int64\", name=\"decoder_inputs\")\n",
    "encoded_seq_inputs = keras.Input(shape=(None, embed_dim), name=\"decoder_state_inputs\")\n",
    "x = PositionalEmbedding(sequence_length, vocab_size, embed_dim)(decoder_inputs)\n",
    "x = TransformerDecoder(embed_dim, latent_dim, num_heads)(x, encoded_seq_inputs)\n",
    "\n",
    "decoder_outputs = layers.Dense(vocab_size, activation=\"softmax\")(x)\n",
    "decoder = keras.Model([decoder_inputs, encoded_seq_inputs], decoder_outputs)\n",
    "\n",
    "decoder_outputs = decoder([decoder_inputs, encoder_outputs])\n",
    "transformer = keras.Model([encoder_inputs, decoder_inputs], decoder_outputs, name=\"transformer\")\n",
    "\"\"\"\""
   ]
  },
  {
   "cell_type": "code",
   "execution_count": 13,
   "id": "f09a1cf2",
   "metadata": {
    "execution": {
     "iopub.execute_input": "2023-05-21T16:57:24.995698Z",
     "iopub.status.busy": "2023-05-21T16:57:24.995069Z",
     "iopub.status.idle": "2023-05-21T16:57:25.027972Z",
     "shell.execute_reply": "2023-05-21T16:57:25.026905Z",
     "shell.execute_reply.started": "2023-05-21T16:57:24.995655Z"
    }
   },
   "outputs": [],
   "source": [
    "class TransformerEncoder(layers.Layer):\n",
    "    def __init__(self, embed_dim, dense_dim, num_heads, **kwargs):\n",
    "        super().__init__(**kwargs)\n",
    "        self.embed_dim = embed_dim\n",
    "        self.dense_dim = dense_dim\n",
    "        self.num_heads = num_heads\n",
    "        self.attention_1 = layers.MultiHeadAttention(num_heads=num_heads, key_dim=embed_dim)\n",
    "        self.dense_proj = keras.Sequential([layers.Dense(dense_dim, activation=\"relu\"), layers.Dense(embed_dim),])\n",
    "        self.layernorm_1 = layers.LayerNormalization()\n",
    "        self.layernorm_2 = layers.LayerNormalization()\n",
    "        self.attention_2 = layers.MultiHeadAttention(num_heads=1, key_dim=embed_dim) #Añade una capa de atencion con num_head=1\n",
    "        self.dense = layers.Dense(embed_dim, activation=\"relu\") #Añade una capa fully connected \n",
    "        self.supports_masking = True\n",
    "\n",
    "    def call(self, inputs, mask=None):\n",
    "        if mask is not None:\n",
    "            padding_mask = tf.cast(mask[:, tf.newaxis, :], dtype=\"int32\")\n",
    "        attention_output = self.attention_1(query=inputs, value=inputs, key=inputs, attention_mask=padding_mask)\n",
    "        proj_input = self.layernorm_1(inputs + attention_output)\n",
    "        proj_output = self.dense_proj(proj_input)\n",
    "        attention_output = self.attention_2(query=proj_output, value=proj_output, key=proj_output)\n",
    "        dense_output = self.dense(attention_output)\n",
    "        return self.layernorm_2(proj_output + dense_output)\n",
    "\n",
    "class PositionalEmbedding(layers.Layer):\n",
    "    def __init__(self, sequence_length, vocab_size, embed_dim, **kwargs):\n",
    "        super().__init__(**kwargs)\n",
    "        self.token_embeddings = layers.Embedding(input_dim=vocab_size, output_dim=embed_dim)\n",
    "        self.position_embeddings = layers.Embedding(input_dim=sequence_length, output_dim=embed_dim)\n",
    "        self.sequence_length = sequence_length\n",
    "        self.vocab_size = vocab_size\n",
    "        self.embed_dim = embed_dim\n",
    "\n",
    "    def call(self, inputs):\n",
    "        length = tf.shape(inputs)[-1]\n",
    "        positions = tf.range(start=0, limit=length, delta=1)\n",
    "        embedded_tokens = self.token_embeddings(inputs)\n",
    "        embedded_positions = self.position_embeddings(positions)\n",
    "        return embedded_tokens + embedded_positions\n",
    "\n",
    "    def compute_mask(self, inputs, mask=None):\n",
    "        return tf.math.not_equal(inputs, 0)   \n",
    "    \n",
    "class TransformerDecoder(layers.Layer):\n",
    "    def __init__(self, embed_dim, latent_dim, num_heads, **kwargs):\n",
    "        super().__init__(**kwargs)\n",
    "        self.embed_dim = embed_dim\n",
    "        self.latent_dim = latent_dim\n",
    "        self.num_heads = num_heads\n",
    "        self.attention_1 = layers.MultiHeadAttention(num_heads=num_heads, key_dim=embed_dim)\n",
    "        self.attention_2 = layers.MultiHeadAttention(num_heads=num_heads, key_dim=embed_dim)\n",
    "        self.dense_proj = keras.Sequential([layers.Dense(latent_dim, activation=\"relu\"), layers.Dense(embed_dim),])\n",
    "        self.layernorm_1 = layers.LayerNormalization()\n",
    "        self.layernorm_2 = layers.LayerNormalization()\n",
    "        self.layernorm_3 = layers.LayerNormalization()\n",
    "        self.supports_masking = True\n",
    "        self.dropout = layers.Dropout(0.5) #Añade una capa dropout al final del decoder\n",
    "\n",
    "    def call(self, inputs, encoder_outputs, mask=None):\n",
    "        causal_mask = self.get_causal_attention_mask(inputs)\n",
    "        if mask is not None:\n",
    "            padding_mask = tf.cast(mask[:, tf.newaxis, :], dtype=\"int32\")\n",
    "            padding_mask = tf.minimum(padding_mask, causal_mask)\n",
    "\n",
    "        attention_output_1 = self.attention_1(query=inputs, value=inputs, key=inputs, attention_mask=causal_mask)\n",
    "        out_1 = self.layernorm_1(inputs + attention_output_1)\n",
    "\n",
    "        attention_output_2 = self.attention_2(query=out_1,value=encoder_outputs,key=encoder_outputs,attention_mask=padding_mask,)\n",
    "        out_2 = self.layernorm_2(out_1 + attention_output_2)\n",
    "\n",
    "        proj_output = self.dense_proj(out_1)\n",
    "        out_3 = self.layernorm_3(out_2 + proj_output)\n",
    "\n",
    "        return self.dropout(out_3)\n",
    "\n",
    "    def get_causal_attention_mask(self, inputs):\n",
    "        input_shape = tf.shape(inputs)\n",
    "        batch_size, sequence_length = input_shape[0], input_shape[1]\n",
    "        i = tf.range(sequence_length)[:, tf.newaxis]\n",
    "        j = tf.range(sequence_length)\n",
    "        mask = tf.cast(i >= j, dtype=\"int32\")\n",
    "        mask = tf.reshape(mask, (1, input_shape[1], input_shape[1]))\n",
    "        mult = tf.concat(\n",
    "            [tf.expand_dims(batch_size, -1), tf.constant([1, 1], dtype=tf.int32)],\n",
    "            axis=0,\n",
    "        )\n",
    "        return tf.tile(mask, mult)\n",
    "    "
   ]
  },
  {
   "cell_type": "code",
   "execution_count": 14,
   "id": "29f4fd03",
   "metadata": {
    "execution": {
     "iopub.execute_input": "2023-05-21T16:57:28.662159Z",
     "iopub.status.busy": "2023-05-21T16:57:28.661211Z",
     "iopub.status.idle": "2023-05-21T16:57:30.014376Z",
     "shell.execute_reply": "2023-05-21T16:57:30.013396Z",
     "shell.execute_reply.started": "2023-05-21T16:57:28.662109Z"
    }
   },
   "outputs": [],
   "source": [
    "embed_dim = 128\n",
    "latent_dim = 1024\n",
    "num_heads = 2\n",
    "\n",
    "encoder_inputs = keras.Input(shape=(None,), dtype=\"int64\", name=\"encoder_inputs\")\n",
    "x = PositionalEmbedding(sequence_length, vocab_size, embed_dim)(encoder_inputs)\n",
    "encoder_outputs_1 = TransformerEncoder(embed_dim, latent_dim, num_heads)(x)\n",
    "encoder_outputs_2 = TransformerEncoder(embed_dim, latent_dim, num_heads)(encoder_outputs_1)#Duplica el bloque encoder\n",
    "encoder = keras.Model(encoder_inputs, encoder_outputs_2)\n",
    "\n",
    "decoder_inputs = keras.Input(shape=(None,), dtype=\"int64\", name=\"decoder_inputs\")\n",
    "encoded_seq_inputs = keras.Input(shape=(None, embed_dim), name=\"decoder_state_inputs\")\n",
    "x = PositionalEmbedding(sequence_length, vocab_size, embed_dim)(decoder_inputs)\n",
    "x = TransformerDecoder(embed_dim, latent_dim, num_heads)(x, encoded_seq_inputs)\n",
    "\n",
    "decoder_outputs = layers.Dense(vocab_size, activation=\"softmax\")(x)\n",
    "decoder = keras.Model([decoder_inputs, encoded_seq_inputs], decoder_outputs)\n",
    "\n",
    "decoder_outputs = decoder([decoder_inputs, encoder_outputs_2])\n",
    "transformer = keras.Model([encoder_inputs, decoder_inputs], decoder_outputs, name=\"transformer\")"
   ]
  },
  {
   "cell_type": "markdown",
   "id": "8f7e3d38",
   "metadata": {},
   "source": [
    "## 3.3. Entrena el modelo\n"
   ]
  },
  {
   "cell_type": "markdown",
   "id": "0600feca",
   "metadata": {},
   "source": [
    "<div style=\"background-color: #EDF7FF; border-color: #7C9DBF; border-left: 5px solid #7C9DBF; padding: 0.5em;\">\n",
    "<p><strong>Ejercicio [1 pt.]:</strong> Entrena el modelo mostrando las gráficas de loss y accuracy. La accuracy no es una métricas que habitualmente se utilice en el entrenamiento de modelos de traducción. Lo habitual en este tipo de problemas sería utilizar la métrica BLEU basada en n-gramas (https://en.wikipedia.org/wiki/BLEU). Sin embargo, el bleu no está nativamente disponible en tensorflow para compilar el modelo así que como referencia se utilizará el accuracy que sería equivalente a la métrica de BLEU considerándo únicamente n-gramas de tamaño 1."
   ]
  },
  {
   "cell_type": "code",
   "execution_count": 15,
   "id": "f2bf05fe",
   "metadata": {
    "execution": {
     "iopub.execute_input": "2023-05-21T16:57:33.609072Z",
     "iopub.status.busy": "2023-05-21T16:57:33.608368Z",
     "iopub.status.idle": "2023-05-21T16:57:33.670577Z",
     "shell.execute_reply": "2023-05-21T16:57:33.669656Z",
     "shell.execute_reply.started": "2023-05-21T16:57:33.609035Z"
    }
   },
   "outputs": [
    {
     "name": "stdout",
     "output_type": "stream",
     "text": [
      "Model: \"transformer\"\n",
      "__________________________________________________________________________________________________\n",
      " Layer (type)                   Output Shape         Param #     Connected to                     \n",
      "==================================================================================================\n",
      " encoder_inputs (InputLayer)    [(None, None)]       0           []                               \n",
      "                                                                                                  \n",
      " positional_embedding (Position  (None, None, 128)   1922560     ['encoder_inputs[0][0]']         \n",
      " alEmbedding)                                                                                     \n",
      "                                                                                                  \n",
      " transformer_encoder (Transform  (None, None, 128)   478336      ['positional_embedding[0][0]']   \n",
      " erEncoder)                                                                                       \n",
      "                                                                                                  \n",
      " decoder_inputs (InputLayer)    [(None, None)]       0           []                               \n",
      "                                                                                                  \n",
      " transformer_encoder_1 (Transfo  (None, None, 128)   478336      ['transformer_encoder[0][0]']    \n",
      " rmerEncoder)                                                                                     \n",
      "                                                                                                  \n",
      " model_1 (Functional)           (None, None, 15000)  4385560     ['decoder_inputs[0][0]',         \n",
      "                                                                  'transformer_encoder_1[0][0]']  \n",
      "                                                                                                  \n",
      "==================================================================================================\n",
      "Total params: 7,264,792\n",
      "Trainable params: 7,264,792\n",
      "Non-trainable params: 0\n",
      "__________________________________________________________________________________________________\n"
     ]
    }
   ],
   "source": [
    "early_stop = EarlyStopping(monitor=\"val_loss\", patience=10)\n",
    "\n",
    "# Compile the model\n",
    "transformer.compile(optimizer=\"adam\", loss=\"sparse_categorical_crossentropy\", metrics=[\"accuracy\"])\n",
    "\n",
    "transformer.summary()"
   ]
  },
  {
   "cell_type": "code",
   "execution_count": 16,
   "id": "36faac05",
   "metadata": {
    "execution": {
     "iopub.execute_input": "2023-05-21T16:57:37.664010Z",
     "iopub.status.busy": "2023-05-21T16:57:37.663578Z",
     "iopub.status.idle": "2023-05-21T17:19:20.404116Z",
     "shell.execute_reply": "2023-05-21T17:19:20.403192Z",
     "shell.execute_reply.started": "2023-05-21T16:57:37.663967Z"
    }
   },
   "outputs": [
    {
     "name": "stdout",
     "output_type": "stream",
     "text": [
      "Epoch 1/100\n",
      "1250/1250 [==============================] - 121s 79ms/step - loss: 5.6125 - accuracy: 0.1807 - val_loss: 4.8302 - val_accuracy: 0.2283\n",
      "Epoch 2/100\n",
      "1250/1250 [==============================] - 68s 55ms/step - loss: 4.8369 - accuracy: 0.2316 - val_loss: 4.4909 - val_accuracy: 0.2534\n",
      "Epoch 3/100\n",
      "1250/1250 [==============================] - 65s 52ms/step - loss: 4.5531 - accuracy: 0.2521 - val_loss: 4.3395 - val_accuracy: 0.2658\n",
      "Epoch 4/100\n",
      "1250/1250 [==============================] - 65s 52ms/step - loss: 4.3788 - accuracy: 0.2654 - val_loss: 4.2604 - val_accuracy: 0.2728\n",
      "Epoch 5/100\n",
      "1250/1250 [==============================] - 64s 51ms/step - loss: 4.2527 - accuracy: 0.2758 - val_loss: 4.2075 - val_accuracy: 0.2773\n",
      "Epoch 6/100\n",
      "1250/1250 [==============================] - 65s 52ms/step - loss: 4.1505 - accuracy: 0.2843 - val_loss: 4.1796 - val_accuracy: 0.2806\n",
      "Epoch 7/100\n",
      "1250/1250 [==============================] - 65s 52ms/step - loss: 4.0683 - accuracy: 0.2915 - val_loss: 4.1617 - val_accuracy: 0.2842\n",
      "Epoch 8/100\n",
      "1250/1250 [==============================] - 64s 51ms/step - loss: 3.9962 - accuracy: 0.2986 - val_loss: 4.1531 - val_accuracy: 0.2864\n",
      "Epoch 9/100\n",
      "1250/1250 [==============================] - 64s 51ms/step - loss: 3.9333 - accuracy: 0.3043 - val_loss: 4.1530 - val_accuracy: 0.2874\n",
      "Epoch 10/100\n",
      "1250/1250 [==============================] - 65s 52ms/step - loss: 3.8791 - accuracy: 0.3100 - val_loss: 4.1556 - val_accuracy: 0.2882\n",
      "Epoch 11/100\n",
      "1250/1250 [==============================] - 64s 51ms/step - loss: 3.8286 - accuracy: 0.3146 - val_loss: 4.1679 - val_accuracy: 0.2895\n",
      "Epoch 12/100\n",
      "1250/1250 [==============================] - 64s 51ms/step - loss: 3.7819 - accuracy: 0.3195 - val_loss: 4.1816 - val_accuracy: 0.2899\n",
      "Epoch 13/100\n",
      "1250/1250 [==============================] - 65s 52ms/step - loss: 3.7422 - accuracy: 0.3239 - val_loss: 4.1903 - val_accuracy: 0.2910\n",
      "Epoch 14/100\n",
      "1250/1250 [==============================] - 65s 52ms/step - loss: 3.7047 - accuracy: 0.3281 - val_loss: 4.2035 - val_accuracy: 0.2910\n",
      "Epoch 15/100\n",
      "1250/1250 [==============================] - 65s 52ms/step - loss: 3.6692 - accuracy: 0.3318 - val_loss: 4.2176 - val_accuracy: 0.2909\n",
      "Epoch 16/100\n",
      "1250/1250 [==============================] - 65s 52ms/step - loss: 3.6368 - accuracy: 0.3354 - val_loss: 4.2326 - val_accuracy: 0.2921\n",
      "Epoch 17/100\n",
      "1250/1250 [==============================] - 64s 51ms/step - loss: 3.6080 - accuracy: 0.3388 - val_loss: 4.2489 - val_accuracy: 0.2912\n",
      "Epoch 18/100\n",
      "1250/1250 [==============================] - 65s 52ms/step - loss: 3.5788 - accuracy: 0.3426 - val_loss: 4.2525 - val_accuracy: 0.2914\n",
      "Epoch 19/100\n",
      "1250/1250 [==============================] - 64s 51ms/step - loss: 3.5522 - accuracy: 0.3456 - val_loss: 4.2691 - val_accuracy: 0.2913\n"
     ]
    }
   ],
   "source": [
    "# Train the model\n",
    "history = transformer.fit(train_vectorized, epochs=100, validation_data=val_vectorized,callbacks=[early_stop])"
   ]
  },
  {
   "cell_type": "code",
   "execution_count": 17,
   "id": "7775e6bd",
   "metadata": {
    "execution": {
     "iopub.execute_input": "2023-05-21T17:19:20.406934Z",
     "iopub.status.busy": "2023-05-21T17:19:20.405950Z",
     "iopub.status.idle": "2023-05-21T17:19:38.750253Z",
     "shell.execute_reply": "2023-05-21T17:19:38.749112Z",
     "shell.execute_reply.started": "2023-05-21T17:19:20.406893Z"
    }
   },
   "outputs": [
    {
     "data": {
      "image/png": "[encoded data removed]",
      "text/plain": [
       "<Figure size 640x480 with 1 Axes>"
      ]
     },
     "metadata": {},
     "output_type": "display_data"
    },
    {
     "data": {
      "image/png": "[encoded data removed]",
      "text/plain": [
       "<Figure size 640x480 with 1 Axes>"
      ]
     },
     "metadata": {},
     "output_type": "display_data"
    }
   ],
   "source": [
    "# Plot the loss and accuracy graphs\n",
    "import matplotlib.pyplot as plt\n",
    "\n",
    "plt.plot(history.history[\"loss\"], label=\"Training Loss\")\n",
    "plt.plot(history.history[\"val_loss\"], label=\"Validation Loss\")\n",
    "plt.legend()\n",
    "plt.show()\n",
    "\n",
    "plt.plot(history.history[\"accuracy\"], label=\"Training Accuracy\")\n",
    "plt.plot(history.history[\"val_accuracy\"], label=\"Validation Accuracy\")\n",
    "plt.legend()\n",
    "plt.show()\n"
   ]
  },
  {
   "cell_type": "code",
   "execution_count": 18,
   "id": "cd5cd524",
   "metadata": {
    "execution": {
     "iopub.execute_input": "2023-05-21T17:19:38.752354Z",
     "iopub.status.busy": "2023-05-21T17:19:38.751740Z",
     "iopub.status.idle": "2023-05-21T17:19:48.996361Z",
     "shell.execute_reply": "2023-05-21T17:19:48.995316Z",
     "shell.execute_reply.started": "2023-05-21T17:19:38.752319Z"
    }
   },
   "outputs": [
    {
     "name": "stdout",
     "output_type": "stream",
     "text": [
      "313/313 [==============================] - 10s 30ms/step - loss: 4.2691 - accuracy: 0.2913\n",
      "Test loss: 4.269136905670166\n",
      "Test accuracy: 0.2913193106651306\n"
     ]
    }
   ],
   "source": [
    "# Evaluate the model on the test data using `evaluate`\n",
    "loss, accuracy = transformer.evaluate(val_vectorized)\n",
    "print('Test loss:', loss)\n",
    "print('Test accuracy:', accuracy)"
   ]
  },
  {
   "cell_type": "markdown",
   "id": "f8d8ed7c",
   "metadata": {},
   "source": [
    "## 3.4. Realiza una predicción sobre el dataset de test.\n",
    "El modelo transformer es regresivo, esto quiere decir que para hacer la predicción se utiliza tanto el input de entrada como las predicciones ya realizadas. De hecho, este es uno de los principales motivos de las alucinaciones que sufren los modelos basados en transformers. "
   ]
  },
  {
   "cell_type": "markdown",
   "id": "b924fd48",
   "metadata": {},
   "source": [
    "<div style=\"background-color: #EDF7FF; border-color: #7C9DBF; border-left: 5px solid #7C9DBF; padding: 0.5em;\">\n",
    " Se proporciona una funcion para decodificar una frase con el modelo entrenado . Hacer las modificaciones oportunas e importar las funciones necesarias para calcular el Bleu score sobre un subconjunto del test, por ejemplo sobre 100 frases.\n",
    "\n",
    "Finalmente realiza alguna mejora a tu elección para conseguir un modelo con mejor Bleu (comprobándolo). Se puede añadir más datos al train, modificar la arquitectura, variar los hiperparámetros, etc. Se sugiere modificar el  dropout a un valor más habitual en la literatura. \n",
    "    \n",
    "Compara tus resultados con los que aparecen en la url de paperswithcode y comentalos."
   ]
  },
  {
   "cell_type": "code",
   "execution_count": 19,
   "id": "0499f7b2",
   "metadata": {
    "execution": {
     "iopub.execute_input": "2023-05-21T17:20:41.370790Z",
     "iopub.status.busy": "2023-05-21T17:20:41.370423Z",
     "iopub.status.idle": "2023-05-21T17:20:41.422629Z",
     "shell.execute_reply": "2023-05-21T17:20:41.421753Z",
     "shell.execute_reply.started": "2023-05-21T17:20:41.370762Z"
    }
   },
   "outputs": [],
   "source": [
    "###  Codigo proporcionado ############\n",
    "fr_vocab = fr_vectorization.get_vocabulary()\n",
    "fr_index_lookup = dict(zip(range(len(fr_vocab)), fr_vocab))\n",
    "max_decoded_sentence_length = 20\n",
    "\n",
    "\n",
    "def decode_sequence(input_sentence, transformer):\n",
    "    tokenized_input_sentence = eng_vectorization([input_sentence])\n",
    "    decoded_sentence = \"[start]\"\n",
    "    for i in range(max_decoded_sentence_length):\n",
    "        tokenized_target_sentence = fr_vectorization([decoded_sentence])[:, :-1]\n",
    "        predictions = transformer([tokenized_input_sentence, tokenized_target_sentence])\n",
    "\n",
    "        sampled_token_index = np.argmax(predictions[0, i, :])\n",
    "        sampled_token = fr_index_lookup[sampled_token_index]\n",
    "        decoded_sentence += \" \" + sampled_token\n",
    "\n",
    "        if sampled_token == \"[end]\":\n",
    "            break\n",
    "    return decoded_sentence"
   ]
  },
  {
   "cell_type": "code",
   "execution_count": 20,
   "id": "c1500236",
   "metadata": {
    "execution": {
     "iopub.execute_input": "2023-05-21T17:20:42.685006Z",
     "iopub.status.busy": "2023-05-21T17:20:42.684632Z",
     "iopub.status.idle": "2023-05-21T17:20:42.693728Z",
     "shell.execute_reply": "2023-05-21T17:20:42.692542Z",
     "shell.execute_reply.started": "2023-05-21T17:20:42.684975Z"
    }
   },
   "outputs": [
    {
     "data": {
      "text/plain": [
       "('[start] ideas brew during the airmen talks north discussions 20060706 national defence [end]',\n",
       " '[start] brassage dides au cours de la confrence airman talks north 20060706 dfense nationale [end]')"
      ]
     },
     "execution_count": 20,
     "metadata": {},
     "output_type": "execute_result"
    }
   ],
   "source": [
    "test_data[1]"
   ]
  },
  {
   "cell_type": "code",
   "execution_count": 21,
   "id": "412a5956",
   "metadata": {
    "execution": {
     "iopub.execute_input": "2023-05-21T17:20:44.139401Z",
     "iopub.status.busy": "2023-05-21T17:20:44.138532Z",
     "iopub.status.idle": "2023-05-21T17:20:45.857054Z",
     "shell.execute_reply": "2023-05-21T17:20:45.856129Z",
     "shell.execute_reply.started": "2023-05-21T17:20:44.139366Z"
    }
   },
   "outputs": [
    {
     "data": {
      "text/plain": [
       "'[start] le nouveau gouvernement du canada annonce des modifications aux programmes visant amliorer la scurit des produits de la mer et'"
      ]
     },
     "execution_count": 21,
     "metadata": {},
     "output_type": "execute_result"
    }
   ],
   "source": [
    "decode_sequence(test_data[1][0], transformer)"
   ]
  },
  {
   "cell_type": "code",
   "execution_count": 24,
   "id": "14f8740c",
   "metadata": {
    "execution": {
     "iopub.execute_input": "2023-05-21T17:21:18.284709Z",
     "iopub.status.busy": "2023-05-21T17:21:18.284340Z",
     "iopub.status.idle": "2023-05-21T17:21:18.293863Z",
     "shell.execute_reply": "2023-05-21T17:21:18.292994Z",
     "shell.execute_reply.started": "2023-05-21T17:21:18.284681Z"
    }
   },
   "outputs": [],
   "source": [
    "from nltk.translate.bleu_score import corpus_bleu, SmoothingFunction\n",
    "\n",
    "def calculate_bleu_score(subset_size, test_data, transformer):\n",
    "    # Subset of test sentences and reference translations\n",
    "    test_subset = test_data[:subset_size][0]\n",
    "    reference_subset = test_data[:subset_size][1]\n",
    "\n",
    "    # Generate translations using decode_sequence\n",
    "    translations = [decode_sequence(sentence, transformer) for sentence in test_subset]\n",
    "\n",
    "    # Tokenize reference translations\n",
    "    tokenized_references = [[translation.split()] for translation in reference_subset]\n",
    "\n",
    "    # Tokenize generated translations\n",
    "    tokenized_translations = [translation.split() for translation in translations]\n",
    "    \n",
    "    # Calculate BLEU score with smoothing function\n",
    "    smoothing = SmoothingFunction().method4  # Use smoothing\n",
    "    bleu_score = corpus_bleu(tokenized_references, tokenized_translations, smoothing_function=smoothing)\n",
    "\n",
    "    return bleu_score"
   ]
  },
  {
   "cell_type": "code",
   "execution_count": 25,
   "id": "4f614849",
   "metadata": {
    "execution": {
     "iopub.execute_input": "2023-05-21T17:21:19.315833Z",
     "iopub.status.busy": "2023-05-21T17:21:19.315477Z",
     "iopub.status.idle": "2023-05-21T17:21:22.450709Z",
     "shell.execute_reply": "2023-05-21T17:21:22.448605Z",
     "shell.execute_reply.started": "2023-05-21T17:21:19.315804Z"
    }
   },
   "outputs": [
    {
     "name": "stdout",
     "output_type": "stream",
     "text": [
      "BLEU score: 0.10893333098810543\n"
     ]
    }
   ],
   "source": [
    "# Call the function and print the BLEU score\n",
    "bleu_score = calculate_bleu_score(100, test_data, transformer)\n",
    "print(\"BLEU score:\", bleu_score)"
   ]
  },
  {
   "cell_type": "markdown",
   "id": "a138dff4",
   "metadata": {},
   "source": [
    "Un BLEU (Bilingual Evaluation Understudy) score de 0.22 indica el nivel de similitud o solapamiento entre las traducciones generadas y las de referencia, es decir los datos reales del set de test. El BLEU score tiene un rango de 0 a 1, un valor mas alto indica mejor performance del modelo como traductor.\n",
    "En este caso, un valor de 0.22 indica baja similitud y que el modelo tiene baja calidad de traduccion"
   ]
  },
  {
   "cell_type": "markdown",
   "id": "bfac391d",
   "metadata": {},
   "source": [
    "**Pruebo agregando mas datos para entrenar el modelo:**"
   ]
  },
  {
   "cell_type": "code",
   "execution_count": 26,
   "id": "a303994e",
   "metadata": {
    "execution": {
     "iopub.execute_input": "2023-05-21T17:21:30.539934Z",
     "iopub.status.busy": "2023-05-21T17:21:30.539555Z",
     "iopub.status.idle": "2023-05-21T17:21:39.817939Z",
     "shell.execute_reply": "2023-05-21T17:21:39.816981Z",
     "shell.execute_reply.started": "2023-05-21T17:21:30.539904Z"
    }
   },
   "outputs": [],
   "source": [
    "tr_data2 = pd.read_csv('/kaggle/input/en-fr-translation-dataset/en-fr.csv', nrows=200000)\n",
    "\n",
    "# aplicamos la funcion a las columnas del dataset para el pre procesamiento de las frases:\n",
    "tr_data2['tr_en'] = tr_data2['en'].apply(preprocess)\n",
    "tr_data2['tr_fr'] = tr_data2['fr'].apply(preprocess)\n",
    "\n",
    "#Creamos las tuplas:\n",
    "sentences2 = list(zip(tr_data2['tr_en'], tr_data2['tr_fr']))\n",
    "\n",
    "#Separamos los datos para train y test:\n",
    "train_data2, test_data2 = train_test_split(sentences2, test_size=0.2, random_state=42)"
   ]
  },
  {
   "cell_type": "code",
   "execution_count": 28,
   "id": "65867dc1",
   "metadata": {
    "execution": {
     "iopub.execute_input": "2023-05-21T17:22:32.782534Z",
     "iopub.status.busy": "2023-05-21T17:22:32.780206Z",
     "iopub.status.idle": "2023-05-21T17:23:27.461570Z",
     "shell.execute_reply": "2023-05-21T17:23:27.460624Z",
     "shell.execute_reply.started": "2023-05-21T17:22:32.782502Z"
    }
   },
   "outputs": [],
   "source": [
    "# Vectorizar los datos:\n",
    "\n",
    "train_eng_texts2 = [pair[0] for pair in train_data2]\n",
    "train_fr_texts2 = [pair[1] for pair in train_data2]\n",
    "\n",
    "eng_vectorization.adapt(train_eng_texts2)\n",
    "fr_vectorization.adapt(train_fr_texts2)\n",
    "\n",
    "def format_dataset(eng, fr):\n",
    "    eng = eng_vectorization(eng)\n",
    "    fr = fr_vectorization(fr)\n",
    "    return ({\"encoder_inputs\": eng, \"decoder_inputs\": fr[:, :-1],}, fr[:, 1:])\n",
    "\n",
    "\n",
    "def make_dataset(pairs):\n",
    "    eng_texts, fr_texts = zip(*pairs)\n",
    "    eng_texts = list(eng_texts)\n",
    "    fr_texts = list(fr_texts)\n",
    "    dataset = tf.data.Dataset.from_tensor_slices((eng_texts, fr_texts))\n",
    "    dataset = dataset.batch(batch_size)\n",
    "    dataset = dataset.map(format_dataset)\n",
    "    return dataset.shuffle(2048).prefetch(16).cache()\n",
    "\n",
    "train_vectorized2 = make_dataset(train_data2)\n",
    "val_vectorized2 = make_dataset(test_data2)"
   ]
  },
  {
   "cell_type": "code",
   "execution_count": 29,
   "id": "167fe581",
   "metadata": {
    "execution": {
     "iopub.execute_input": "2023-05-21T17:23:27.463916Z",
     "iopub.status.busy": "2023-05-21T17:23:27.463578Z",
     "iopub.status.idle": "2023-05-21T17:23:27.474386Z",
     "shell.execute_reply": "2023-05-21T17:23:27.473530Z",
     "shell.execute_reply.started": "2023-05-21T17:23:27.463886Z"
    }
   },
   "outputs": [],
   "source": [
    "transformer2 = keras.Model([encoder_inputs, decoder_inputs], decoder_outputs, name=\"transformer2\")"
   ]
  },
  {
   "cell_type": "code",
   "execution_count": 30,
   "id": "413e0879",
   "metadata": {
    "execution": {
     "iopub.execute_input": "2023-05-21T17:23:34.550918Z",
     "iopub.status.busy": "2023-05-21T17:23:34.550567Z",
     "iopub.status.idle": "2023-05-21T17:23:34.626208Z",
     "shell.execute_reply": "2023-05-21T17:23:34.625223Z",
     "shell.execute_reply.started": "2023-05-21T17:23:34.550890Z"
    }
   },
   "outputs": [
    {
     "name": "stdout",
     "output_type": "stream",
     "text": [
      "Model: \"transformer2\"\n",
      "__________________________________________________________________________________________________\n",
      " Layer (type)                   Output Shape         Param #     Connected to                     \n",
      "==================================================================================================\n",
      " encoder_inputs (InputLayer)    [(None, None)]       0           []                               \n",
      "                                                                                                  \n",
      " positional_embedding (Position  (None, None, 128)   1922560     ['encoder_inputs[0][0]']         \n",
      " alEmbedding)                                                                                     \n",
      "                                                                                                  \n",
      " transformer_encoder (Transform  (None, None, 128)   478336      ['positional_embedding[0][0]']   \n",
      " erEncoder)                                                                                       \n",
      "                                                                                                  \n",
      " decoder_inputs (InputLayer)    [(None, None)]       0           []                               \n",
      "                                                                                                  \n",
      " transformer_encoder_1 (Transfo  (None, None, 128)   478336      ['transformer_encoder[0][0]']    \n",
      " rmerEncoder)                                                                                     \n",
      "                                                                                                  \n",
      " model_1 (Functional)           (None, None, 15000)  4385560     ['decoder_inputs[0][0]',         \n",
      "                                                                  'transformer_encoder_1[0][0]']  \n",
      "                                                                                                  \n",
      "==================================================================================================\n",
      "Total params: 7,264,792\n",
      "Trainable params: 7,264,792\n",
      "Non-trainable params: 0\n",
      "__________________________________________________________________________________________________\n"
     ]
    }
   ],
   "source": [
    "early_stop = EarlyStopping(monitor=\"val_loss\", patience=10)\n",
    "\n",
    "# Compile the model\n",
    "transformer2.compile(optimizer=\"adam\", loss=\"sparse_categorical_crossentropy\", metrics=[\"accuracy\"])\n",
    "\n",
    "transformer2.summary()"
   ]
  },
  {
   "cell_type": "code",
   "execution_count": 31,
   "id": "500209a5",
   "metadata": {
    "execution": {
     "iopub.execute_input": "2023-05-21T17:23:40.087034Z",
     "iopub.status.busy": "2023-05-21T17:23:40.086667Z",
     "iopub.status.idle": "2023-05-21T18:15:29.930988Z",
     "shell.execute_reply": "2023-05-21T18:15:29.929890Z",
     "shell.execute_reply.started": "2023-05-21T17:23:40.087003Z"
    }
   },
   "outputs": [
    {
     "name": "stdout",
     "output_type": "stream",
     "text": [
      "Epoch 1/100\n",
      "2500/2500 [==============================] - 176s 64ms/step - loss: 5.5584 - accuracy: 0.1796 - val_loss: 4.8358 - val_accuracy: 0.2250\n",
      "Epoch 2/100\n",
      "2500/2500 [==============================] - 129s 51ms/step - loss: 4.8244 - accuracy: 0.2277 - val_loss: 4.5252 - val_accuracy: 0.2479\n",
      "Epoch 3/100\n",
      "2500/2500 [==============================] - 129s 52ms/step - loss: 4.5776 - accuracy: 0.2444 - val_loss: 4.3798 - val_accuracy: 0.2593\n",
      "Epoch 4/100\n",
      "2500/2500 [==============================] - 128s 51ms/step - loss: 4.4308 - accuracy: 0.2553 - val_loss: 4.2991 - val_accuracy: 0.2654\n",
      "Epoch 5/100\n",
      "2500/2500 [==============================] - 129s 52ms/step - loss: 4.3300 - accuracy: 0.2633 - val_loss: 4.2432 - val_accuracy: 0.2698\n",
      "Epoch 6/100\n",
      "2500/2500 [==============================] - 130s 52ms/step - loss: 4.2517 - accuracy: 0.2698 - val_loss: 4.2089 - val_accuracy: 0.2734\n",
      "Epoch 7/100\n",
      "2500/2500 [==============================] - 130s 52ms/step - loss: 4.1919 - accuracy: 0.2746 - val_loss: 4.1823 - val_accuracy: 0.2752\n",
      "Epoch 8/100\n",
      "2500/2500 [==============================] - 129s 52ms/step - loss: 4.1409 - accuracy: 0.2792 - val_loss: 4.1681 - val_accuracy: 0.2776\n",
      "Epoch 9/100\n",
      "2500/2500 [==============================] - 130s 52ms/step - loss: 4.0985 - accuracy: 0.2831 - val_loss: 4.1584 - val_accuracy: 0.2787\n",
      "Epoch 10/100\n",
      "2500/2500 [==============================] - 130s 52ms/step - loss: 4.0613 - accuracy: 0.2866 - val_loss: 4.1483 - val_accuracy: 0.2802\n",
      "Epoch 11/100\n",
      "2500/2500 [==============================] - 129s 51ms/step - loss: 4.0290 - accuracy: 0.2897 - val_loss: 4.1471 - val_accuracy: 0.2810\n",
      "Epoch 12/100\n",
      "2500/2500 [==============================] - 129s 52ms/step - loss: 4.0004 - accuracy: 0.2926 - val_loss: 4.1454 - val_accuracy: 0.2821\n",
      "Epoch 13/100\n",
      "2500/2500 [==============================] - 130s 52ms/step - loss: 3.9749 - accuracy: 0.2953 - val_loss: 4.1450 - val_accuracy: 0.2825\n",
      "Epoch 14/100\n",
      "2500/2500 [==============================] - 129s 52ms/step - loss: 3.9509 - accuracy: 0.2981 - val_loss: 4.1489 - val_accuracy: 0.2834\n",
      "Epoch 15/100\n",
      "2500/2500 [==============================] - 129s 51ms/step - loss: 3.9307 - accuracy: 0.3002 - val_loss: 4.1469 - val_accuracy: 0.2836\n",
      "Epoch 16/100\n",
      "2500/2500 [==============================] - 128s 51ms/step - loss: 3.9093 - accuracy: 0.3024 - val_loss: 4.1480 - val_accuracy: 0.2839\n",
      "Epoch 17/100\n",
      "2500/2500 [==============================] - 129s 51ms/step - loss: 3.8927 - accuracy: 0.3043 - val_loss: 4.1487 - val_accuracy: 0.2841\n",
      "Epoch 18/100\n",
      "2500/2500 [==============================] - 129s 51ms/step - loss: 3.8765 - accuracy: 0.3062 - val_loss: 4.1571 - val_accuracy: 0.2842\n",
      "Epoch 19/100\n",
      "2500/2500 [==============================] - 128s 51ms/step - loss: 3.8611 - accuracy: 0.3081 - val_loss: 4.1598 - val_accuracy: 0.2848\n",
      "Epoch 20/100\n",
      "2500/2500 [==============================] - 128s 51ms/step - loss: 3.8455 - accuracy: 0.3098 - val_loss: 4.1609 - val_accuracy: 0.2848\n",
      "Epoch 21/100\n",
      "2500/2500 [==============================] - 129s 52ms/step - loss: 3.8325 - accuracy: 0.3114 - val_loss: 4.1671 - val_accuracy: 0.2845\n",
      "Epoch 22/100\n",
      "2500/2500 [==============================] - 129s 52ms/step - loss: 3.8204 - accuracy: 0.3127 - val_loss: 4.1766 - val_accuracy: 0.2846\n",
      "Epoch 23/100\n",
      "2500/2500 [==============================] - 133s 53ms/step - loss: 3.8081 - accuracy: 0.3143 - val_loss: 4.1772 - val_accuracy: 0.2843\n"
     ]
    }
   ],
   "source": [
    "# Train the model\n",
    "history2 = transformer2.fit(train_vectorized2, epochs=100, validation_data=val_vectorized2,callbacks=[early_stop])"
   ]
  },
  {
   "cell_type": "code",
   "execution_count": 32,
   "id": "79b85be9",
   "metadata": {
    "execution": {
     "iopub.execute_input": "2023-05-21T18:15:29.934338Z",
     "iopub.status.busy": "2023-05-21T18:15:29.933316Z",
     "iopub.status.idle": "2023-05-21T18:15:49.080848Z",
     "shell.execute_reply": "2023-05-21T18:15:49.079818Z",
     "shell.execute_reply.started": "2023-05-21T18:15:29.934296Z"
    }
   },
   "outputs": [
    {
     "name": "stdout",
     "output_type": "stream",
     "text": [
      "625/625 [==============================] - 19s 31ms/step - loss: 4.1772 - accuracy: 0.2843\n",
      "Test loss: 4.177190780639648\n",
      "Test accuracy: 0.2843303978443146\n"
     ]
    }
   ],
   "source": [
    "# Evaluate the model on the test data using `evaluate`\n",
    "loss, accuracy = transformer2.evaluate(val_vectorized2)\n",
    "print('Test loss:', loss)\n",
    "print('Test accuracy:', accuracy)"
   ]
  },
  {
   "cell_type": "code",
   "execution_count": 34,
   "id": "054c19f2",
   "metadata": {
    "execution": {
     "iopub.execute_input": "2023-05-21T18:16:50.613970Z",
     "iopub.status.busy": "2023-05-21T18:16:50.613269Z",
     "iopub.status.idle": "2023-05-21T18:16:54.350538Z",
     "shell.execute_reply": "2023-05-21T18:16:54.349497Z",
     "shell.execute_reply.started": "2023-05-21T18:16:50.613918Z"
    }
   },
   "outputs": [
    {
     "name": "stdout",
     "output_type": "stream",
     "text": [
      "BLEU score: 0.18068537884315472\n"
     ]
    }
   ],
   "source": [
    "# Call the function and print the BLEU score\n",
    "bleu_score2 = calculate_bleu_score(100, test_data2, transformer2)\n",
    "print(\"BLEU score:\", bleu_score2)"
   ]
  },
  {
   "cell_type": "markdown",
   "id": "75fe8682",
   "metadata": {},
   "source": [
    "Agregando el doble de frases traducidas para entrenal el modelo se logra mejorar la performance con un BLEU score de 0.18, pero el modelo sigue performando mal."
   ]
  },
  {
   "cell_type": "markdown",
   "id": "21e78ed3",
   "metadata": {},
   "source": [
    "**Pruebo modificando hiperparámetros:**"
   ]
  },
  {
   "cell_type": "code",
   "execution_count": 50,
   "id": "4c82bfd4",
   "metadata": {
    "execution": {
     "iopub.execute_input": "2023-05-21T19:24:56.326899Z",
     "iopub.status.busy": "2023-05-21T19:24:56.326546Z",
     "iopub.status.idle": "2023-05-21T19:24:56.350696Z",
     "shell.execute_reply": "2023-05-21T19:24:56.349514Z",
     "shell.execute_reply.started": "2023-05-21T19:24:56.326871Z"
    }
   },
   "outputs": [],
   "source": [
    "class TransformerEncoder(layers.Layer):\n",
    "    def __init__(self, embed_dim, dense_dim, num_heads, **kwargs):\n",
    "        super().__init__(**kwargs)\n",
    "        self.embed_dim = embed_dim\n",
    "        self.dense_dim = dense_dim\n",
    "        self.num_heads = num_heads\n",
    "        self.attention_1 = layers.MultiHeadAttention(num_heads=num_heads, key_dim=embed_dim)\n",
    "        self.dense_proj = keras.Sequential([layers.Dense(dense_dim, activation=\"relu\"), layers.Dense(embed_dim),])\n",
    "        self.layernorm_1 = layers.LayerNormalization()\n",
    "        self.layernorm_2 = layers.LayerNormalization()\n",
    "        self.attention_2 = layers.MultiHeadAttention(num_heads=1, key_dim=embed_dim) #Añade una capa de atencion con num_head=1\n",
    "        self.dense = layers.Dense(embed_dim, activation=\"relu\") #Añade una capa fully connected \n",
    "        self.supports_masking = True\n",
    "\n",
    "    def call(self, inputs, mask=None):\n",
    "        if mask is not None:\n",
    "            padding_mask = tf.cast(mask[:, tf.newaxis, :], dtype=\"int32\")\n",
    "        attention_output = self.attention_1(query=inputs, value=inputs, key=inputs, attention_mask=padding_mask)\n",
    "        proj_input = self.layernorm_1(inputs + attention_output)\n",
    "        proj_output = self.dense_proj(proj_input)\n",
    "        attention_output = self.attention_2(query=proj_output, value=proj_output, key=proj_output)\n",
    "        dense_output = self.dense(attention_output)\n",
    "        return self.layernorm_2(proj_output + dense_output)\n",
    "\n",
    "class PositionalEmbedding(layers.Layer):\n",
    "    def __init__(self, sequence_length, vocab_size, embed_dim, **kwargs):\n",
    "        super().__init__(**kwargs)\n",
    "        self.token_embeddings = layers.Embedding(input_dim=vocab_size, output_dim=embed_dim)\n",
    "        self.position_embeddings = layers.Embedding(input_dim=sequence_length, output_dim=embed_dim)\n",
    "        self.sequence_length = sequence_length\n",
    "        self.vocab_size = vocab_size\n",
    "        self.embed_dim = embed_dim\n",
    "\n",
    "    def call(self, inputs):\n",
    "        length = tf.shape(inputs)[-1]\n",
    "        positions = tf.range(start=0, limit=length, delta=1)\n",
    "        embedded_tokens = self.token_embeddings(inputs)\n",
    "        embedded_positions = self.position_embeddings(positions)\n",
    "        return embedded_tokens + embedded_positions\n",
    "\n",
    "    def compute_mask(self, inputs, mask=None):\n",
    "        return tf.math.not_equal(inputs, 0)   \n",
    "    \n",
    "class TransformerDecoder(layers.Layer):\n",
    "    def __init__(self, embed_dim, latent_dim, num_heads, **kwargs):\n",
    "        super().__init__(**kwargs)\n",
    "        self.embed_dim = embed_dim\n",
    "        self.latent_dim = latent_dim\n",
    "        self.num_heads = num_heads\n",
    "        self.attention_1 = layers.MultiHeadAttention(num_heads=num_heads, key_dim=embed_dim)\n",
    "        self.attention_2 = layers.MultiHeadAttention(num_heads=num_heads, key_dim=embed_dim)\n",
    "        self.dense_proj = keras.Sequential([layers.Dense(latent_dim, activation=\"relu\"), layers.Dense(embed_dim),])\n",
    "        self.layernorm_1 = layers.LayerNormalization()\n",
    "        self.layernorm_2 = layers.LayerNormalization()\n",
    "        self.layernorm_3 = layers.LayerNormalization()\n",
    "        self.supports_masking = True\n",
    "        self.dropout = layers.Dropout(0.2) #Añade una capa dropout al final del decoder\n",
    "\n",
    "    def call(self, inputs, encoder_outputs, mask=None):\n",
    "        causal_mask = self.get_causal_attention_mask(inputs)\n",
    "        if mask is not None:\n",
    "            padding_mask = tf.cast(mask[:, tf.newaxis, :], dtype=\"int32\")\n",
    "            padding_mask = tf.minimum(padding_mask, causal_mask)\n",
    "\n",
    "        attention_output_1 = self.attention_1(query=inputs, value=inputs, key=inputs, attention_mask=causal_mask)\n",
    "        out_1 = self.layernorm_1(inputs + attention_output_1)\n",
    "\n",
    "        attention_output_2 = self.attention_2(query=out_1,value=encoder_outputs,key=encoder_outputs,attention_mask=padding_mask,)\n",
    "        out_2 = self.layernorm_2(out_1 + attention_output_2)\n",
    "\n",
    "        proj_output = self.dense_proj(out_1)\n",
    "        out_3 = self.layernorm_3(out_2 + proj_output)\n",
    "\n",
    "        return self.dropout(out_3)\n",
    "\n",
    "    def get_causal_attention_mask(self, inputs):\n",
    "        input_shape = tf.shape(inputs)\n",
    "        batch_size, sequence_length = input_shape[0], input_shape[1]\n",
    "        i = tf.range(sequence_length)[:, tf.newaxis]\n",
    "        j = tf.range(sequence_length)\n",
    "        mask = tf.cast(i >= j, dtype=\"int32\")\n",
    "        mask = tf.reshape(mask, (1, input_shape[1], input_shape[1]))\n",
    "        mult = tf.concat(\n",
    "            [tf.expand_dims(batch_size, -1), tf.constant([1, 1], dtype=tf.int32)],\n",
    "            axis=0,\n",
    "        )\n",
    "        return tf.tile(mask, mult)\n",
    "    "
   ]
  },
  {
   "cell_type": "code",
   "execution_count": 51,
   "id": "6d0c4ee2",
   "metadata": {
    "execution": {
     "iopub.execute_input": "2023-05-21T19:24:57.809768Z",
     "iopub.status.busy": "2023-05-21T19:24:57.808794Z",
     "iopub.status.idle": "2023-05-21T19:24:58.791157Z",
     "shell.execute_reply": "2023-05-21T19:24:58.790203Z",
     "shell.execute_reply.started": "2023-05-21T19:24:57.809725Z"
    }
   },
   "outputs": [],
   "source": [
    "embed_dim = 128\n",
    "latent_dim = 1024\n",
    "num_heads = 4\n",
    "\n",
    "encoder_inputs = keras.Input(shape=(None,), dtype=\"int64\", name=\"encoder_inputs\")\n",
    "x = PositionalEmbedding(sequence_length, vocab_size, embed_dim)(encoder_inputs)\n",
    "encoder_outputs_1 = TransformerEncoder(embed_dim, latent_dim, num_heads)(x)\n",
    "encoder_outputs_2 = TransformerEncoder(embed_dim, latent_dim, num_heads)(encoder_outputs_1)#Duplica el bloque encoder\n",
    "encoder = keras.Model(encoder_inputs, encoder_outputs_2)\n",
    "\n",
    "decoder_inputs = keras.Input(shape=(None,), dtype=\"int64\", name=\"decoder_inputs\")\n",
    "encoded_seq_inputs = keras.Input(shape=(None, embed_dim), name=\"decoder_state_inputs\")\n",
    "x = PositionalEmbedding(sequence_length, vocab_size, embed_dim)(decoder_inputs)\n",
    "x = TransformerDecoder(embed_dim, latent_dim, num_heads)(x, encoded_seq_inputs)\n",
    "\n",
    "decoder_outputs = layers.Dense(vocab_size, activation=\"softmax\")(x)\n",
    "decoder = keras.Model([decoder_inputs, encoded_seq_inputs], decoder_outputs)\n",
    "\n",
    "decoder_outputs = decoder([decoder_inputs, encoder_outputs_2])"
   ]
  },
  {
   "cell_type": "code",
   "execution_count": 52,
   "id": "35478ad7",
   "metadata": {
    "execution": {
     "iopub.execute_input": "2023-05-21T19:24:59.395027Z",
     "iopub.status.busy": "2023-05-21T19:24:59.393989Z",
     "iopub.status.idle": "2023-05-21T19:24:59.404573Z",
     "shell.execute_reply": "2023-05-21T19:24:59.403589Z",
     "shell.execute_reply.started": "2023-05-21T19:24:59.394944Z"
    }
   },
   "outputs": [],
   "source": [
    "transformer3 = keras.Model([encoder_inputs, decoder_inputs], decoder_outputs, name=\"transformer3\")"
   ]
  },
  {
   "cell_type": "code",
   "execution_count": 53,
   "id": "df3b4256",
   "metadata": {
    "execution": {
     "iopub.execute_input": "2023-05-21T19:25:01.360947Z",
     "iopub.status.busy": "2023-05-21T19:25:01.360266Z",
     "iopub.status.idle": "2023-05-21T19:25:01.419009Z",
     "shell.execute_reply": "2023-05-21T19:25:01.417999Z",
     "shell.execute_reply.started": "2023-05-21T19:25:01.360912Z"
    }
   },
   "outputs": [
    {
     "name": "stdout",
     "output_type": "stream",
     "text": [
      "Model: \"transformer3\"\n",
      "__________________________________________________________________________________________________\n",
      " Layer (type)                   Output Shape         Param #     Connected to                     \n",
      "==================================================================================================\n",
      " encoder_inputs (InputLayer)    [(None, None)]       0           []                               \n",
      "                                                                                                  \n",
      " positional_embedding_6 (Positi  (None, None, 128)   1922560     ['encoder_inputs[0][0]']         \n",
      " onalEmbedding)                                                                                   \n",
      "                                                                                                  \n",
      " transformer_encoder_6 (Transfo  (None, None, 128)   610176      ['positional_embedding_6[0][0]'] \n",
      " rmerEncoder)                                                                                     \n",
      "                                                                                                  \n",
      " decoder_inputs (InputLayer)    [(None, None)]       0           []                               \n",
      "                                                                                                  \n",
      " transformer_encoder_7 (Transfo  (None, None, 128)   610176      ['transformer_encoder_6[0][0]']  \n",
      " rmerEncoder)                                                                                     \n",
      "                                                                                                  \n",
      " model_7 (Functional)           (None, None, 15000)  4649240     ['decoder_inputs[0][0]',         \n",
      "                                                                  'transformer_encoder_7[0][0]']  \n",
      "                                                                                                  \n",
      "==================================================================================================\n",
      "Total params: 7,792,152\n",
      "Trainable params: 7,792,152\n",
      "Non-trainable params: 0\n",
      "__________________________________________________________________________________________________\n"
     ]
    }
   ],
   "source": [
    "early_stop = EarlyStopping(monitor=\"val_loss\", patience=10)\n",
    "\n",
    "# Compile the model\n",
    "transformer3.compile(optimizer=\"adam\", loss=\"sparse_categorical_crossentropy\", metrics=[\"accuracy\"])\n",
    "\n",
    "transformer3.summary()"
   ]
  },
  {
   "cell_type": "code",
   "execution_count": 54,
   "id": "98f6816d",
   "metadata": {
    "execution": {
     "iopub.execute_input": "2023-05-21T19:25:06.456887Z",
     "iopub.status.busy": "2023-05-21T19:25:06.456108Z",
     "iopub.status.idle": "2023-05-21T19:40:56.098934Z",
     "shell.execute_reply": "2023-05-21T19:40:56.098026Z",
     "shell.execute_reply.started": "2023-05-21T19:25:06.456849Z"
    }
   },
   "outputs": [
    {
     "name": "stdout",
     "output_type": "stream",
     "text": [
      "Epoch 1/100\n",
      "1250/1250 [==============================] - 107s 74ms/step - loss: 5.2802 - accuracy: 0.2043 - val_loss: 4.5186 - val_accuracy: 0.2540\n",
      "Epoch 2/100\n",
      "1250/1250 [==============================] - 66s 53ms/step - loss: 4.3520 - accuracy: 0.2661 - val_loss: 4.1696 - val_accuracy: 0.2822\n",
      "Epoch 3/100\n",
      "1250/1250 [==============================] - 67s 54ms/step - loss: 4.0129 - accuracy: 0.2892 - val_loss: 4.0942 - val_accuracy: 0.2885\n",
      "Epoch 4/100\n",
      "1250/1250 [==============================] - 65s 52ms/step - loss: 3.8099 - accuracy: 0.3044 - val_loss: 4.0134 - val_accuracy: 0.2984\n",
      "Epoch 5/100\n",
      "1250/1250 [==============================] - 65s 52ms/step - loss: 3.6825 - accuracy: 0.3139 - val_loss: 4.0300 - val_accuracy: 0.2993\n",
      "Epoch 6/100\n",
      "1250/1250 [==============================] - 65s 52ms/step - loss: 3.5603 - accuracy: 0.3256 - val_loss: 4.0320 - val_accuracy: 0.3018\n",
      "Epoch 7/100\n",
      "1250/1250 [==============================] - 65s 52ms/step - loss: 3.4527 - accuracy: 0.3367 - val_loss: 4.1261 - val_accuracy: 0.2922\n",
      "Epoch 8/100\n",
      "1250/1250 [==============================] - 65s 52ms/step - loss: 3.4206 - accuracy: 0.3373 - val_loss: 4.1212 - val_accuracy: 0.2962\n",
      "Epoch 9/100\n",
      "1250/1250 [==============================] - 65s 52ms/step - loss: 3.3425 - accuracy: 0.3469 - val_loss: 4.1569 - val_accuracy: 0.2963\n",
      "Epoch 10/100\n",
      "1250/1250 [==============================] - 64s 51ms/step - loss: 3.2704 - accuracy: 0.3556 - val_loss: 4.2182 - val_accuracy: 0.2946\n",
      "Epoch 11/100\n",
      "1250/1250 [==============================] - 64s 51ms/step - loss: 3.1981 - accuracy: 0.3647 - val_loss: 4.2142 - val_accuracy: 0.2988\n",
      "Epoch 12/100\n",
      "1250/1250 [==============================] - 64s 51ms/step - loss: 3.1586 - accuracy: 0.3701 - val_loss: 4.2355 - val_accuracy: 0.2983\n",
      "Epoch 13/100\n",
      "1250/1250 [==============================] - 63s 51ms/step - loss: 3.0846 - accuracy: 0.3796 - val_loss: 4.2841 - val_accuracy: 0.2986\n",
      "Epoch 14/100\n",
      "1250/1250 [==============================] - 65s 52ms/step - loss: 3.0424 - accuracy: 0.3860 - val_loss: 4.3042 - val_accuracy: 0.2997\n"
     ]
    }
   ],
   "source": [
    "# Train the model\n",
    "history3 = transformer3.fit(train_vectorized, epochs=100, validation_data=val_vectorized,callbacks=[early_stop])"
   ]
  },
  {
   "cell_type": "code",
   "execution_count": 55,
   "id": "396817c4",
   "metadata": {
    "execution": {
     "iopub.execute_input": "2023-05-21T19:40:56.101561Z",
     "iopub.status.busy": "2023-05-21T19:40:56.101095Z",
     "iopub.status.idle": "2023-05-21T19:41:05.970760Z",
     "shell.execute_reply": "2023-05-21T19:41:05.969824Z",
     "shell.execute_reply.started": "2023-05-21T19:40:56.101526Z"
    }
   },
   "outputs": [
    {
     "name": "stdout",
     "output_type": "stream",
     "text": [
      "313/313 [==============================] - 10s 31ms/step - loss: 4.3042 - accuracy: 0.2997\n",
      "Test loss: 4.30424690246582\n",
      "Test accuracy: 0.29971060156822205\n"
     ]
    }
   ],
   "source": [
    "# Evaluate the model on the test data using `evaluate`\n",
    "loss, accuracy = transformer3.evaluate(val_vectorized)\n",
    "print('Test loss:', loss)\n",
    "print('Test accuracy:', accuracy)"
   ]
  },
  {
   "cell_type": "code",
   "execution_count": 57,
   "id": "e3b9d6d0",
   "metadata": {
    "execution": {
     "iopub.execute_input": "2023-05-21T19:41:42.838529Z",
     "iopub.status.busy": "2023-05-21T19:41:42.838140Z",
     "iopub.status.idle": "2023-05-21T19:41:45.999454Z",
     "shell.execute_reply": "2023-05-21T19:41:45.998376Z",
     "shell.execute_reply.started": "2023-05-21T19:41:42.838500Z"
    }
   },
   "outputs": [
    {
     "name": "stdout",
     "output_type": "stream",
     "text": [
      "BLEU score: 0.18184804078107475\n"
     ]
    }
   ],
   "source": [
    "# Call the function and print the BLEU score\n",
    "bleu_score3 = calculate_bleu_score(100, test_data, transformer3)\n",
    "print(\"BLEU score:\", bleu_score3)"
   ]
  },
  {
   "cell_type": "markdown",
   "id": "e85017a8",
   "metadata": {},
   "source": [
    "<div style=\"background-color: #fcf2f2; border-color: #dfb5b4; border-left: 5px solid #dfb5b4; padding: 0.5em;\">\n",
    "<strong>Comentarios:</strong>\n",
    "<br><br>\n",
    "        El mejor BLEU que obtuve fue de 0.18 lo cual indica una mala performance del traductor.\n",
    "        <br> \n",
    "        En comparación con los resultados publicados en la web 'papers with code', el resultado está muy por debajo del mínimo que es 0.345.\n",
    "         <br> \n",
    "        Algunas accioines que píoadrn implementarse para mejorar la performance son:\n",
    "         <br> \n",
    "    - Aumentar el tamaño del dataset de entrenamiento para que el modelo pueda tener una mejor representación de lo que tiene que hacer.\n",
    "    <br> \n",
    "    - Modificar o complejizar la arquitectura del modelo: Podría intentar aumentando la cantidad de capas o la cantidad de attention heads para que el modelo pueda capturar mejor los patrones más complejos y las dependencias.\n",
    "    <br> \n",
    "    - Probar con otros hiperparámetros: Probar entrenando el modelo con distintos valores de learning rate o batch size.\n",
    "<br><br>\n",
    "</div>"
   ]
  },
  {
   "cell_type": "code",
   "execution_count": null,
   "id": "3c3a0e35",
   "metadata": {},
   "outputs": [],
   "source": []
  }
 ],
 "metadata": {
  "kernelspec": {
   "display_name": "Python 3 (ipykernel)",
   "language": "python",
   "name": "python3"
  },
  "language_info": {
   "codemirror_mode": {
    "name": "ipython",
    "version": 3
   },
   "file_extension": ".py",
   "mimetype": "text/x-python",
   "name": "python",
   "nbconvert_exporter": "python",
   "pygments_lexer": "ipython3",
   "version": "3.9.12"
  }
 },
 "nbformat": 4,
 "nbformat_minor": 5
}
